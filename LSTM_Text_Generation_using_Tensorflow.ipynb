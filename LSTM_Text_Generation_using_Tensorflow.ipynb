{
  "cells": [
    {
      "cell_type": "code",
      "execution_count": 25,
      "id": "1cc68e96",
      "metadata": {
        "id": "1cc68e96"
      },
      "outputs": [],
      "source": [
        "import tensorflow as tf\n",
        "import string\n",
        "import requests\n",
        "import pandas as pd"
      ]
    },
    {
      "cell_type": "code",
      "source": [
        "response = \"\"\n",
        "with open('bieber.txt', 'r') as file:\n",
        "    response = file.read()\n",
        "response"
      ],
      "metadata": {
        "colab": {
          "base_uri": "https://localhost:8080/",
          "height": 123
        },
        "id": "byGw_9RoKU4X",
        "outputId": "d2a2905f-e2d4-4de4-889b-8cb78e7513f6"
      },
      "id": "byGw_9RoKU4X",
      "execution_count": 40,
      "outputs": [
        {
          "output_type": "execute_result",
          "data": {
            "text/plain": [
              "'What do you mean?\\nOh, oh, oh\\nWhen you sometimes say yes\\nBut you sometimes say no\\nWhat do you mean?\\nHey, yeah\\nWhen you don\\'t want me to move\\nBut you tell me to go\\nWhat do you mean?\\nOh\\nWhat do you mean?\\nSaid you\\'re running out of time\\nWhat do you mean?\\nOh, oh, oh\\nWhat do you mean?\\nBetter make up your mind\\nWhat do you mean? You\\'re so indecisive, what I\\'m saying\\nTrying to catch the beat, make up your heart\\nDon\\'t know if you\\'re happy or complaining\\nDon\\'t want for us to end\\nWhere do I start?\\nFirst you wanna go to the left and you want to turn right (ooh)\\nWanna argue all day, hangin\\' out all night (oh)\\nFirst you\\'re up, then you\\'re down and in between\\nOh, I really want to know What do you mean?\\nOh, oh, oh\\nWhen you sometimes say yes\\nBut you sometimes say no\\nWhat do you mean?\\nHey, yeah\\nWhen you don\\'t want me to move\\nBut you tell me to go\\nWhat do you mean?\\nOh, what do you mean?\\nSaid you\\'re running out of time\\nWhat do you mean?\\nOh, oh, oh\\nWhat do you mean?\\nBetter make up your mind\\nWhat do you mean? You\\'re overprotective when I\\'m leaving\\nTrying to compromise but I can\\'t win\\nYou wanna make a point but you keep preaching\\nYou had me from the start, won\\'t let this end\\nFirst you wanna go to the left, then you want to turn right\\nWanna argue all day, hangin\\' out all night\\nFirst you\\'re up, then you\\'re down and in between\\nOh, I really wanna know What do you mean?\\nOh, oh, oh\\nWhen you sometimes say yes\\nBut you sometimes say no\\nWhat do you mean?\\nHey, yeah\\nWhen you don\\'t want me to move\\nBut you tell me to go\\nWhat do you mean? I want to know, oh\\nOh, what do you mean?\\nSaid you\\'re running out of time\\nWhat do you mean?\\n(Oh, baby)\\nOh, oh, oh\\nWhat do you mean?\\nBetter make up your mind\\nWhat do you mean?\\nOh, oh, oh (this is ours baby, yeah)\\nWhen you sometimes say yes\\nBut you sometimes say no\\nWhat do you mean? (you\\'re so confusing baby)\\nHey, yeah\\nWhen you don\\'t want me to move\\nBut you tell me to go\\nWhat do you mean?\\n(Be more straightforward)\\nOh, what do you mean? (give it back, back, back)\\nSaid you\\'re running out of time\\nWhat do you mean? (give it back, back, back)\\nOh, oh, oh\\nWhat do you mean?\\nBetter make up your mind\\nWhat do you mean? Love is in the air\\nCandles all around us\\nThere\\'s no need to see, nothing, nothing\\nBaby I\\'m yours, yours until forever\\n\\'Cause you know that I would never ever want this to change It\\'s all about the magic\\nAll about the madness in your eyes\\nMadly in love, yeah\\nIt\\'s all about the magic\\nAll about the madness in your eyes\\nMadly in love\\nMadly in love babe\\nMadly in love\\n(Madly in love)\\n(Madly in love)\\n(Madly in love)\\nMadly in love\\n(Madly in love)\\n(Madly in love)\\n(Madly in love) Babe, you are the reason to breathe\\nAnd babe, you know you\\'re all that I need\\nRemember when you took my hand\\nAnd ran away (it was just us two babe)\\nAnd wandered off to Chinatown\\nLaughing \\'bout nothing at all\\nWhen I look into your eyes It\\'s all about the magic\\nAll about the madness in your eyes\\nMadly in love, yeah\\nIt\\'s all about the magic\\nAll about the madness in your eyes\\nMadly in love\\nMadly in love babe\\nMadly in love\\n(Madly in love)\\n(Madly in love)\\n(Madly in love)\\nMadly in love\\n(Madly in love)\\n(Madly in love)\\n(Madly in love) [Verse 1]\\nWhere\\'d the love go?\\nWhere\\'s the passion, oh?\\nWhy\\'s it feel like\\nI\\'m better off alone?\\nSay it\\'s my fault\\nThat we\\'re broken [Pre-Chorus]\\nYou know the truth, babe\\nWhat should I do, babe?\\nI wanted you but I don\\'t know what to do babe\\nI\\'m not gonna lose any sleep tryna know where you are\\nI\\'m doing just fine without you in my life at all [Chorus]\\nI\\'m doing better without you, you, you, you oh\\nI got nothing left for you, you, you, you oh\\nThought I was tripping on you, you, you, you oh\\nI\\'m so much better without you, you, you, you oh\\nWith you with you oh without you [Verse 2]\\nWhere did we go from here\\nDid we throw it all away\\nGuess the end is finally near\\nThere\\'s nothing left to say\\nYou got me open, now we are broken\\nMy heart is frozen since we haven\\'t spoken [Pre-Chorus]\\nYou know the truth babe\\nWhat did I do babe\\nI wanted you but I just don\\'t know what to do babe\\nI\\'m not gonna lose any sleep tryna know where you are\\nI\\'m doing just fine without you in my life at all (at all) [Chorus]\\nI\\'m doing better without you, you, you, you oh\\nI got nothing left for you, you, you, you oh\\nThought I was tripping on you, you, you, you oh\\nI\\'m so much better without you, you, you, you oh\\nWith you with you oh without you [Verse 3]\\nWhen I wake up in the morning and you\\'re not right there\\nGirl I\\'m wishing that I never put your flight back\\nIf I sent you a text, girl would you write back?\\nIf I left you a voicemail, yeah could you like that?\\nIt\\'s all good, it\\'s all g\\n\\'Cause I got more time, just to figure out me\\nIn the meantime, girls be around me\\nAnd I was so lost, until you found me\\nI\\'m doing better without you, you, you, you, you\\nI\\'m doing better without you, you, you [Chorus]\\nI\\'m doing better without you, you, you, you oh (so much better)\\nI got nothing left for you, you, you, you oh (woah)\\nThought I was tripping on you, you, you, you oh (trippin on you, trippin on you, trippin on you)\\nI\\'m so much better without you, you, you, you oh (trippin on you, tripping on you)\\nWith you with you oh without you [Chorus]\\nYou\\'re the only girl that I see\\nI\\'m the only guy that you need\\nAnd there\\'s a viable term in me\\nSaid you want this\\nDon\\'t text, take a deep breath\\n\\'Cause I don\\'t need you to stress, hey hey\\nBaby, don\\'t stress\\nStress out over me [Verse 1]\\nSo when I invite you\\nBaby don\\'t shy, oh\\nOpen your mind, don\\'t knock it till you try it, darling\\nShow of, when you come closer\\nDon\\'t waste no time, I need it every minute darling\\nOh, believe in me\\nGuaranteeing in my loyalty\\nHow many times you don\\'t want me to leave?\\nWant me to leave, no [Chorus]\\nYou\\'re the only girl that I see\\nI\\'m the only guy that you need\\nAnd there\\'s a viable term in me\\nSaid you want this\\nDon\\'t text, take a deep breath\\n\\'Cause I don\\'t need you to stress, hey hey\\nBaby, don\\'t stress\\nStress out over me [Verse 2]\\nOh, oh, no\\nLet\\'s take it slow\\nFrom the bottom to the top to (?)\\nNo need to turn up\\nLike the echo from your voice set the world shook\\nEvery (?) will achieve\\nDon\\'t hesitate to follow my lead\\nHow many times you don\\'t want me to leave?\\nYou don\\'t want me to leave, no [Chorus]\\nYou\\'re the only girl that I see (only girl I see)\\nI\\'m the only guy that you need (I\\'m the only guy that you need)\\nAnd there\\'s a viable term in me\\nSaid you want this, want this\\nDon\\'t text, don\\'t text, take a deep breath, take a deep breath\\n\\'Cause I don\\'t need you to stress\\nI don\\'t need you to stress out over me, hey hey\\nStress out over me\\nBaby, don\\'t stress over me Come on over in my direction\\nSo thankful for that, it\\'s such a blessin\\', yeah\\nTurn every situation into Heaven, yeah\\nOh, you are\\nMy sunrise on the darkest day\\nGot me feelin\\' some kind of way\\nMake me wanna savor every moment slowly, slowly\\nYou fit me, tailor-made love, how you put it on\\nGot the only key, know how to turn it on\\nThe way you nibble on my ear, the only words I wanna hear\\nBaby take it slow so we can last long Oh, tú, tú eres el imán y yo soy el metal\\nMe voy acercando y voy armando el plan\\nSólo con pensarlo se acelera el pulso\\nOh, yeah Ya, ya me está gustando más de lo normal\\nTodos mis sentidos van pidiendo más\\nEsto hay que tomarlo sin ningún apuro Despacito\\nQuiero respirar tu cuello despacito\\nDeja que te diga cosas al oído\\nPara que te acuerdes si no estás conmigo\\nDespacito\\nQuiero desnudarte a besos despacito\\nFirmo en las paredes de tu laberinto\\nY hacer de tu cuerpo todo un manuscrito\\n(Sube, sube, sube\\nSube, sube) Quiero ver bailar tu pelo\\nQuiero ser tu ritmo\\nQue le enseñes a mi boca\\nTus lugares favoritos\\n(Favorito, favorito, baby)\\nDéjame sobrepasar tus zonas de peligro\\nHasta provocar tus gritos\\nY que olvides tu apellido Si te pido un beso, ven, dámelo\\nYo sé que estás pensándolo\\nLlevo tiempo intentándolo\\nMami, esto es dando y dándolo\\nSabes que tu corazón conmigo te hace bom, bom\\nSabes que esa beba está buscando de mi bom, bom\\nVen, prueba de mi boca para ver cómo te sabe\\nQuiero, quiero, quiero ver cuánto amor a ti te cabe\\nYo no tengo prisa, yo me quiero dar el viaje\\nEmpecemos lento, después salvaje Pasito a pasito, suave suavecito\\nNos vamos pegando, poquito a poquito\\nCuando tú me besas con esa destreza\\nVeo que eres malicia con delicadeza\\nPasito a pasito, suave suavecito\\nNos vamos pegando, poquito a poquito\\nY es que esa belleza es un rompecabezas\\nPero pa\\' montarlo aquí tengo la pieza\\n¡Oye! Despacito\\nQuiero respirar tu cuello despacito\\nDeja que te diga cosas al oído\\nPara que te acuerdes si no estás conmigo\\nDespacito\\nQuiero desnudarte a besos despacito\\nFirmo en las paredes de tu laberinto\\nY hacer de tu cuerpo todo un manuscrito\\n(Sube, sube, sube\\nSube, sube) Quiero ver bailar tu pelo\\nQuiero ser tu ritmo\\nQue le enseñes a mi boca\\nTus lugares favoritos\\n(Favorito, favorito, baby)\\nDéjame sobrepasar tus zonas de peligro\\nHasta provocar tus gritos\\nY que olvides tu apellido Despacito\\nThis is how we do it down in Puerto Rico\\nI just wanna hear you screaming, \"¡Ay, Bendito!\"\\nI can move forever cuando esté contigo\\n¡Bailalo! Pasito a pasito, suave suavecito\\nNos vamos pegando, poquito a poquito\\nQue le enseñes a mi boca\\nTus lugares favoritos\\n(Favorito, favorito, baby)\\nPasito a pasito, suave suavecito\\nNos vamos pegando, poquito a poquito\\nHasta provocar tus gritos (Fonsi)\\nY que olvides tu apellido (DY)\\nDespacito What do you mean?\\nOh, oh, oh\\nWhen you sometimes say yes\\nBut you sometimes say no\\nWhat do you mean?\\nHey, yeah\\nWhen you don\\'t want me to move\\nBut you tell me to go\\nWhat do you mean?\\nOh\\nWhat do you mean?\\nSaid you\\'re running out of time\\nWhat do you mean?\\nOh, oh, oh\\nWhat do you mean?\\nBetter make up your mind\\nWhat do you mean? You\\'re so indecisive, what I\\'m saying\\nTrying to catch the beat, make up your heart\\nDon\\'t know if you\\'re happy or complaining\\nDon\\'t want for us to end\\nWhere do I start?\\nFirst you wanna go to the left and you want to turn right (ooh)\\nWanna argue all day, hangin\\' out all night (oh)\\nFirst you\\'re up, then you\\'re down and in between\\nOh, I really want to know What do you mean?\\nOh, oh, oh\\nWhen you sometimes say yes\\nBut you sometimes say no\\nWhat do you mean?\\nHey, yeah\\nWhen you don\\'t want me to move\\nBut you tell me to go\\nWhat do you mean?\\nOh, what do you mean?\\nSaid you\\'re running out of time\\nWhat do you mean?\\nOh, oh, oh\\nWhat do you mean?\\nBetter make up your mind\\nWhat do you mean? You\\'re overprotective when I\\'m leaving\\nTrying to compromise but I can\\'t win\\nYou wanna make a point but you keep preaching\\nYou had me from the start, won\\'t let this end\\nFirst you wanna go to the left, then you want to turn right\\nWanna argue all day, hangin\\' out all night\\nFirst you\\'re up, then you\\'re down and in between\\nOh, I really wanna know What do you mean?\\nOh, oh, oh\\nWhen you sometimes say yes\\nBut you sometimes say no\\nWhat do you mean?\\nHey, yeah\\nWhen you don\\'t want me to move\\nBut you tell me to go\\nWhat do you mean? I want to know, oh\\nOh, what do you mean?\\nSaid you\\'re running out of time\\nWhat do you mean?\\n(Oh, baby)\\nOh, oh, oh\\nWhat do you mean?\\nBetter make up your mind\\nWhat do you mean?\\nOh, oh, oh (this is ours baby, yeah)\\nWhen you sometimes say yes\\nBut you sometimes say no\\nWhat do you mean? (you\\'re so confusing baby)\\nHey, yeah\\nWhen you don\\'t want me to move\\nBut you tell me to go\\nWhat do you mean?\\n(Be more straightforward)\\nOh, what do you mean? (give it back, back, back)\\nSaid you\\'re running out of time\\nWhat do you mean? (give it back, back, back)\\nOh, oh, oh\\nWhat do you mean?\\nBetter make up your mind\\nWhat do you mean? Ooh, ooh\\nOoh, ooh\\nYou gotta go and get angry at all of my honesty\\nYou know I try but I don\\'t do too well with apologies\\nI hope I don\\'t run out of time, could someone call a referee?\\n\\'Cause I just need one more shot at forgiveness\\nI know you know that I made those mistakes maybe once or twice\\nBy once or twice I mean maybe a couple of hundred times\\nSo let me, oh let me redeem, oh redeem, oh myself tonight\\n\\'Cause I just need one more shot at second chances Yeah, is it too late now to say sorry?\\n\\'Cause I\\'m missing more than just your body\\nOh, is it too late now to say sorry?\\nYeah, I know that I let you down\\nIs it too late to say I\\'m sorry now? Ooh, ooh\\nI\\'m sorry, yeah\\nOoh, ooh\\nSorry, yeah\\nOoh, ooh\\nSorry\\nYeah, I know that I let you down\\nIs it too late to say I\\'m sorry now?\\nOoh, ooh I\\'ll take every single piece of the blame if you want me to\\nBut you know that there is no innocent one in this game for two\\nI\\'ll go, I\\'ll go and then you go, you go out and spill the truth\\nCan we both say the words and forget this? Yeah, is it too late now to say sorry?\\n\\'Cause I\\'m missing more than just your body\\nOh, is it too late now to say sorry?\\nYeah, I know that I let you down\\nIs it too late to say I\\'m sorry now? I\\'m not just trying to get you back on me\\n\\'Cause I\\'m missing more than just your body\\nIs it too late now to say sorry?\\nYeah, I know that I let you down\\nIs it too late to say I\\'m sorry now? Ooh, ooh\\nI\\'m sorry, yeah\\nOoh, ooh\\nSorry, yeah\\nOoh, ooh\\nSorry\\nYeah, I know that I let you down\\nIs it too late to say I\\'m sorry now?\\nOoh, ooh\\nI\\'m sorry, yeah\\nOoh, ooh\\nSorry, yeah\\nOoh, ooh\\nSorry\\nYeah, I know that I let you down\\nIs it too late to say I\\'m sorry now? Oh Whoa\\nOh Whoa\\nOh Whoa You know you love me, I know you care\\nJust shout whenever, and I\\'ll be there\\nYou are my love, you are my heart\\nAnd we will never, ever , ever be apart Are we an item? Girl, quit playing\\n\"Were just friends,\" what are you saying\\nSaid \"there\\'s another,\" and looked right in my eyes\\nMy first love broke my heart for the first time And I was like baby, baby, baby, oh\\nLike baby, baby, baby, oh\\nLike baby, baby, baby, oh\\nI thought you\\'d always be mine, mine Baby, baby, baby, oh\\nLike baby, baby, baby, no\\nLike baby, baby, baby, oh\\nI thought you\\'d always be mine, mine For you, I would have done whatever\\nAnd I just can\\'t believe we aren\\'t together\\nAnd I want to play it cool, but I\\'m losing you\\nI\\'ll buy you anything, I\\'ll buy you diamond ring And I\\'m in pieces, baby fix me\\nAnd just shake me till you wake me from this bad dream\\nI\\'m going down, down, down, down\\nAnd I just can\\'t believe my first love won\\'t be around And I\\'m like baby, baby, baby, oh\\nLike baby, baby, baby, no\\nLike baby, baby, baby, oh\\nI thought you\\'d always be mine, mine Baby, baby, baby, oh\\nLike baby, baby, baby, no\\nLike baby, baby, baby, oh\\nI thought you\\'d always be mine, mine When I was 13, I had my first love\\nThere was nobody that compared to my baby\\nAnd nobody came between us who could ever come above\\nShe had me going crazy, oh I was starstruck\\nShe woke me up daily, don\\'t need no Starbucks She made my heart pound\\nI skip a beat when I see her in the street\\nAnd at school on the playground\\nBut I really want to see her on the weekend\\nShe knows she got me dazing \\'cause she was so amazing\\nAnd now my heart is breaking but I just keep on saying Baby, baby, baby, oh\\nLike baby, baby, baby, no\\nLike baby, baby, baby, oh\\nI thought you\\'d always be mine, mine Baby, baby, baby, oh\\nLike baby, baby, baby, no\\nLike baby, baby, baby, oh\\nI thought you\\'d always be mine, mine I\\'m all gone\\n(Yeah, yeah, yeah)\\n(Yeah, yeah, yeah)\\nNow I\\'m all gone\\n(Yeah, yeah, yeah)\\n(Yeah, yeah, yeah)\\nNow I\\'m all gone\\n(Yeah, yeah, yeah)\\n(Yeah, yeah, yeah)\\nNow I\\'m all gone, gone, gone, gone\\nI\\'m gone For all the times that you rain on my parade\\nAnd all the clubs you get in using my name\\nYou think you broke my heart, oh girl for goodness sake\\nYou think I\\'m crying, on my own well I ain\\'t And I didn\\'t wanna write a song \\'cause I didn\\'t want anyone thinking I still care\\nI don\\'t but, you still hit my phone up\\nAnd baby I be movin\\' on and I think you should be somethin\\'\\nI don\\'t wanna hold back, maybe you should know that\\nMy mama don\\'t like you and she likes everyone\\nAnd I never like to admit that I was wrong\\nAnd I\\'ve been so caught up in my job, didn\\'t see what\\'s going on\\nAnd now I know, I\\'m better sleeping on my own \\'Cause if you like the way you look that much\\nOh baby you should go and love yourself\\nAnd if you think that I\\'m still holdin\\' on to somethin\\'\\nYou should go and love yourself But when you told me that you hated my friends\\nThe only problem was with you and not them\\nAnd every time you told me my opinion was wrong\\nAnd tried to make me forget where I came from And I didn\\'t wanna write a song cause I didn\\'t want anyone thinking I still care\\nI don\\'t but, you still hit my phone up\\nAnd baby I be movin\\' on and I think you should be somethin\\'\\nI don\\'t wanna hold back, maybe you should know that\\nMy mama don\\'t like you and she likes everyone\\nAnd I never like to admit that I was wrong\\nAnd I\\'ve been so caught up in my job, didn\\'t see what\\'s going on\\nAnd now I know, I\\'m better sleeping on my own \\'Cause if you like the way you look that much\\nOh baby you should go and love yourself\\nAnd if you think that I\\'m still holdin\\' on to somethin\\'\\nYou should go and love yourself For all the times you made me feel small\\nI fell in love, now I feel nothin\\' at all\\nI never felt so low when I was vulnerable\\nWas I a fool to let you break down my walls? \\'Cause if you like the way you look that much\\nOh baby you should go and love yourself\\nAnd if you think that I\\'m still holdin\\' on to somethin\\'\\nYou should go and love yourself\\n\\'Cause if you like the way you look that much\\nOh baby you should go and love yourself\\nAnd if you think that I\\'m still holdin\\' on to somethin\\'\\nYou should go and love yourself We The Best Music\\nAnother one!\\nDJ Khaled Yeah, you\\'re lookin\\' at the truth, the money never lie no\\nI\\'m the one, yeah, I\\'m the one\\nEarly mornin\\' in the dawn, know you wanna ride now (that\\'s right)\\nI\\'m the one, yeah (that\\'s right), I\\'m the one, yeah\\nYeah, you\\'re sick of all those other imitators\\nDon\\'t let the only real one intimidate you\\nSee you watchin\\', don\\'t run outta time now\\nI\\'m the one, yeah Oh-eh-oh-oh-oh, oh-eh-oh\\nI\\'m the one\\nOh-eh-oh-oh-oh, oh-eh-oh\\nI\\'m the only one\\nOh-eh-oh-oh-oh, oh-eh-oh\\nI\\'m the one\\nOh-eh-oh-oh-oh, oh-eh-oh\\nI\\'m the only one\\nYeah, yeah! Quavo!\\nI\\'m the one that hit that same spot (hit it)\\nShe the one that bring them rain drops (rain drops)\\nWe go back, remember criss-cross and hopscotch? (hopscotch)\\nYou the one that hold me down when the block\\'s hot (hot)\\nI make your dreams come true when you wake up (dream)\\nAnd your look\\'s just the same without no make-up\\nHad to pull up on your mama, see what you\\'re made of (mama)\\nAin\\'t gotta worry \\'bout \\'em commas \\'cause my cake up\\nYou can run inside my life on that fame bus\\n\\'Cause I promise when we step out you\\'ll be famous\\nModern day Bonnie and Clyde what they named us\\n\\'Cause when we pull up (prr prr) all angles Yeah, you\\'re lookin\\' at the truth, the money never lie no\\nI\\'m the one, yeah, I\\'m the one\\nEarly mornin\\' in the dawn, know you wanna ride now (that\\'s right)\\nI\\'m the one, yeah (that\\'s right), I\\'m the one, yeah\\nYeah, you\\'re sick of all those other imitators\\nDon\\'t let the only real one intimidate you\\nSee you watchin\\', don\\'t run outta time now\\nI\\'m the one, yeah Oh-eh-oh-oh-oh, oh-eh-oh\\nI\\'m the one\\nOh-eh-oh-oh-oh, oh-eh-oh\\nI\\'m the only one\\nOh-eh-oh-oh-oh, oh-eh-oh\\nI\\'m the one\\nOh-eh-oh-oh-oh, oh-eh-oh\\nI\\'m the only one\\nOkay though Uh, she beat her face up with that new Chanel\\nShe like the price, she see the ice it make her coochie melt\\nWhen I met her in the club I asked her who she felt\\nThen she went and put that booty on that Gucci belt\\nWe don\\'t got no label\\nShe say she want bottles, she ain\\'t got no table\\nShe don\\'t got no bed frame, she don\\'t got no tables\\nWe just watching Netflix, she ain\\'t got no cable, okay though\\nPlug, plug, plug, I\\'m the plug for her\\nShe want a nigga that pull her hair and hold the door for her\\nBaby, that\\'s only me, bitch, it okay with me\\nBaby, okay, okay though Yeah, you\\'re lookin\\' at the truth, the money never lie no\\nI\\'m the one, yeah, I\\'m the one\\nEarly mornin\\' in the dawn, know you wanna ride now (that\\'s right)\\nI\\'m the one, yeah (that\\'s right), I\\'m the one, yeah\\nYeah, you\\'re sick of all those other imitators\\nDon\\'t let the only real one intimidate you\\nSee you watchin\\', don\\'t run outta time now\\nI\\'m the one, yeah Oh-eh-oh-oh-oh, oh-eh-oh\\nI\\'m the one\\nOh-eh-oh-oh-oh, oh-eh-oh\\nI\\'m the only one\\nOh-eh-oh-oh-oh, oh-eh-oh\\nI\\'m the one\\nOh-eh-oh-oh-oh, oh-eh-oh\\nI\\'m the only one Lookin\\' for the one? Well, bitch, you\\'re looking at the one\\nI\\'m the best yet, and yet, my best is yet to come\\n\\'Cause I\\'ve been lookin\\' for somebody, not just any fuckin\\' body\\nDon\\'t make me catch a body, that\\'s for any and everybody\\nOh my God! She hit me up all day, give no response\\nBitch, you blow my high, that\\'s like turning gold to bronze\\nRoll my eyes\\nAnd when she on the molly she a zombie\\nShe think we Clyde and Bonnie, but it\\'s more like Whitney Bobby\\nGod, forgive me\\nTunechi and finessin\\', I\\'m a legend\\nStraight up out The Crescent, fly your bae down for the Essence\\nFor the record I knew Khaled when that boy was spinnin\\' records\\nMula gang winning record, I\\'m just flexing on my exes, oh God! Yeah, you\\'re lookin\\' at the truth, the money never lie no\\nI\\'m the one, yeah, I\\'m the one\\nEarly mornin\\' in the dawn, know you wanna ride now (that\\'s right)\\nI\\'m the one, yeah (that\\'s right), I\\'m the one, yeah\\nYeah, you\\'re sick of all those other imitators\\nDon\\'t let the only real one intimidate you\\nSee you watchin\\', don\\'t run outta time now\\nI\\'m the one, yeah Oh-eh-oh-oh-oh, oh-eh-oh\\nI\\'m the one\\nOh-eh-oh-oh-oh, oh-eh-oh\\nI\\'m the only one\\nOh-eh-oh-oh-oh, oh-eh-oh\\nI\\'m the one\\nOh-eh-oh-oh-oh, oh-eh-oh\\nI\\'m the only one (Another one)\\nDon\\'t you know girl, don\\'t you know girl\\nI am the one for you (I\\'m the one) yeah I\\'m the one\\nDon\\'t you know girl, don\\'t you know girl\\nI am the one for you (I\\'m the one) yeah I\\'m the one\\nDon\\'t you know girl, don\\'t you know girl\\nI am the one for you (I\\'m the one) yeah I\\'m the one\\nDon\\'t you know girl, don\\'t you know girl\\nI am the one for you (I\\'m the one) yeah I\\'m the one As long as you love me\\nAs long as you love me\\nAs long as you love me [Verse 1]\\nWe\\'re under pressure,\\nseven billion people in the world trying to fit in.\\nKeep it together,\\nsmile on your face even though your heart is frowning\\nBut hey now, you know girl,\\nWe both know it\\'s a cruel world\\nBut I will take my chances [Chorus]\\nAs long as you love me\\nWe could be starving, we could be homeless, we could be broke\\nAs long as you love me\\nI\\'ll be your platinum, I\\'ll be your silver, I\\'ll be your gold\\nAs long as you love, love me, love me\\nAs long as you love, love me, love me [Verse 2]\\nI\\'ll be your soldier, fighting every second of the day for your dreams girl\\nI\\'ll be your whole world, you can be my Destiny\\'s Child on a scene girl\\nSo don\\'t stress, don\\'t cry, we don\\'t need no wings to fly\\nJust take my hand [Bridge]\\nAs you love me we could be starving, we could be homeless, we could be broke\\nAs long as you love me\\nI\\'ll be your platinum, I\\'ll be your silver, I\\'ll be your gold\\nAs long as you love, love me, love me\\nAs long as you love, love me, love me [Big Sean]\\nYo,B.I.G\\nI don\\'t know if this makes sense but,you\\'re my Hallelujah\\nGive me a time and place,I\\'ll rendezvous it,i\\'ll fly you to it,\\nI\\'ll beat you there\\nGirl you know I got you\\nUs, trust...\\nA couple of things I can\\'t spell without you\\nNow we are on top of the world, \\'cause that\\'s just how we do (do)\\nUsed to tell me sky\\'s the limit, now the sky\\'s is our point of view (view)\\nMan now we stepping out like Whoa! (Oh God)\\nCamera\\'s point and shoot,\\nAsk me what\\'s my best side, I stand back and point at you you you\\nThe one that I\\'ve argue with, I feel like I need a new girl to be bother with,\\nBut the grass ain\\'t always greener on the other side,\\nIt\\'s green where you water it\\nSo I know,we got issues baby true true true\\nBut I\\'d rather work on this with you\\nThan go ahead and start with someone new\\nAs long as you love me [Chorus]\\nAs long as you love me\\nWe could be starving, we could be homeless, we could be broke\\nAs long as you love me\\nI\\'ll be your platinum, I\\'ll be your silver, I\\'ll be your gold\\nAs long as you love, love me, love me\\nAs long as you love, love me, love me\\nI\\'ll be your silver, I\\'ll be your gold\\nlove me, love me, love me\\nAs long as you love, love me, love me\\nAs long as you love, love me, love me\\nAs long as you love me VERSE 1 If I was your boyfriend, I\\'d never let you go\\nI can take you places you ain\\'t never been before\\nBaby take a chance or you\\'ll never ever know\\nI got money in my hands that I\\'d really like to blow\\nSwag swag swag, on you\\nChillin by the fire while we eatin\\' fondue\\nI dunno about me but I know about you\\nSo say hello to falsetto in three two swag PRE HOOK I\\'d like to be everything you want\\nHey girl, let me talk to you HOOK If I was your boyfriend, I\\'d never let you go\\nKeep you on my arm girl, you\\'d never be alone\\nI can be a gentleman, anything you want\\nIf I was your boyfriend, I\\'d never let you go, I\\'d never let you go VERSE 2 Tell me what you like yeah tell me what you don\\'t\\nI could be your Buzz Lightyear fly across the globe\\nI don\\'t ever wanna fight yeah, you already know\\nImma make you shine bright like you\\'re laying in the snow, burr\\nGirlfriend, girlfriend, you could be my girlfriend\\nYou could be my girlfriend until the epic world ends Make you dance do a spin and a twirl\\nVoice goin crazy on this hook like a whirl wind\\nSwaggie PRE HOOK I\\'d like to be everything you want\\nHey girl, let me talk to you HOOK If I was your boyfriend, I\\'d never let you go\\nKeep you on my arm girl you\\'d never be alone\\nI can be a gentleman, anything you want\\nIf I was your boyfriend, I\\'d never let you go, I\\'d never let you go BRIDGE So give me a chance, \\'cause you\\'re all I need girl\\nSpend a week with your boy I\\'ll be calling you my girlfriend\\nIf I was your man, I\\'d never leave you girl\\nI just want to love you and treat you right HOOK If I was your boyfriend, I\\'d never let you go\\nKeep you on my arm girl you\\'d never be alone\\nI can be a gentleman, anything you want\\nIf I was your boyfriend, I\\'d never let you go, never let you go Na na na, na na na, na na na\\nYa girl\\nNa na na, na na na, na na na ey\\nIf I was your boyfriend\\nNa na na, na na na, na na na ey\\nNa na na, na na na, na na na ey\\nIf I was your boyfriend Eenie meenie miney mo\\nCatch a bad chick by her toe\\nIf she holla (if, if, if, she hollas) let her go She\\'s indecisive\\nShe can\\'t decide\\nShe keeps on lookin\\'\\nFrom left to right\\nGirl, c\\'mon get closer\\nLook in my eyes\\nSearching is so wrong\\nI\\'m Mr. Right You seem like the type\\nTo love \\'em and leave \\'em\\nAnd disappear right after the song\\nSo give me the night\\nTo show you, and hold you\\nDon\\'t leave me out here dancin\\' alone You can\\'t make up your mind, mind, mind, mind, mind\\nPlease don\\'t waste my time, time, time, time, time\\nI\\'m not tryin\\' to rewind, wind, wind, wind, wind, wind\\nI wish our hearts could come together as one \\'Cause shawty is an eenie meenie miney mo lover\\'\\nShawty is an eenie meenie miney mo lover\\'\\nShawty is an eenie meenie miney mo lover\\'\\nShawty is an eenie meenie miney mo lover\\' ooh Let me show you what you\\'re missin\\'\\nParadise\\nWith me you\\'re winning girl\\nYou don\\'t have to roll the dice\\nTell me what you\\'re really here for (here for)\\nThem other guys?\\nI can see right through ya You seem like the type\\nTo love \\'em and leave \\'em\\nAnd disappear right after the song\\nSo give me the night\\nTo show you, and hold you\\nDon\\'t leave me out here dancin\\' alone Can\\'t make up your mind, mind, mind, mind, mind\\nPlease don\\'t waste my time, time, time, time, time\\nNot tryin\\' to rewind, wind, wind, wind, wind, wind\\nI wish our hearts could come together as one Shawty yeah is an eenie meenie miney mo lover\\'\\nShawty is an eenie meenie miney mo lover\\'\\nShawty is an eenie meenie miney mo lover\\'\\nShawty is an eenie meenie miney mo lover\\' Eenie meenie miney moe\\nCatch a bad chick by her toe\\nIf she holla (if, if, if she holla) let her go\\nEenie meenie miney moe\\nCatch a bad chick by her toe\\nIf she holla (la la la la) let, let her Shawty is an eenie meenie miney mo lover\\'\\nShawty is an eenie meenie miney mo lover\\'\\nShawty is an eenie meenie miney mo lover\\'\\nShawty is an eenie meenie miney mo Cant make up your mind, mind, mind, mind, mind\\nPlease don\\'t waste my time, time, time, time, time\\nI\\'m not tryin\\' to rewind, wind, wind, wind, wind, wind (oh yeah)\\nI wish our hearts could come together as one (Here we go)\\nShawty is an eenie meenie miney mo lover\\'\\nShawty is an eenie meenie miney mo lover\\'\\nShawty is an eenie meenie miney mo lover\\'\\nShawty is an eenie meenie miney mo lover\\'\\nOh Never say never (never never never) You see I never thought that I could walk through fire (aye)\\nI never thought that I could take the burn\\nI never had the strength to take it higher\\nUntil I reach the point of no return And there\\'s just no turnin\\' back\\nWhen your heart\\'s under attack\\nGonna give everything I have\\nIt\\'s my destiny I will never say never (I will fight)\\nI will fight till forever (make it right)\\nWhenever you knock me down\\nI will not stay on the ground\\nPick it up, pick it up\\nPick it up, pick it up (up up up)\\nAnd never say never (ne-never say never)\\n(Ne-never say never)\\n(Ne-never say never)\\nNever say it, never, never say it I never thought that I could feel this power (aye)\\nI never thought that I could feel this free\\nI\\'m strong enough to climb the highest tower\\nAnd I\\'m fast enough to run across the sea (oh) \\'Cause there\\'s just no turnin\\' back\\nWhen your heart\\'s under attack\\nGonna give everything I have\\n\\'Cause this is my destiny I will never say never (I will fight)\\nI will fight till forever (make it right)\\nWhenever you knock me down\\nI will not stay on the ground\\nPick it up, pick it up\\nPick it up, pick it up (up up up)\\nAnd never say never Here we go\\nGuess who?\\nJ-Smith and J-B!\\nI gotcha lil\\' bro\\nI can handle him\\nHold up, aight?\\nI can handle him Now he\\'s bigger than me\\nTaller than me\\nAnd he\\'s older than me\\nAnd stronger than me\\nAnd his arms a little bit longer than me\\nBut he ain\\'t on a J-B song with me I be trying to chill\\nThey try to sour the thrill\\nNo pun intended, was raised by the power of will\\nLike Luke with the force, if push comes to shove\\nLike Kobe in the fourth, ice water with blood (lets go) I gotta be the best, and yes\\nWe\\'re the fliest\\nLike David and Goliath,\\nI conquered the giant\\nSo now I got the world in my hand,\\nI was born from two stars\\nSo the moon is where I land\\n(I\\'m gone) Yeah\\nI will never say never (I will fight)\\nI will fight till forever (make it right)\\nWhenever you knock me down\\nI will not stay on the ground\\nPick it up, pick it up\\nPick it up, pick it up (up up up)\\nAnd never say never Never say never I will never say never (never say never)\\nI will fight till forever (make it right)\\nWhenever you knock me down\\nI will not stay on the ground\\nPick it up, pick it up\\nPick it up, pick it up (up up up) And never say never (ne-never say never, never say it)\\n(Ne-never say never, never say it)\\n(Ne-never say never, never say it)\\nAnd never say never (ne-never say never)\\n(Ne-never say never)\\n(Ne-never say never)\\nAnd never say never Me plus you, I\\'m a tell you one time\\nMe plus you, I\\'m a tell you one time\\nMe plus you, I\\'m a tell you one time One time\\nOne time When I met you girl my heart went knock knock knock\\nNow them butterflies in my stomach won\\'t stop stop\\nAnd even though it\\'s a struggle love is all we got\\nSo we gonna keep keep climbin\\' till the mountain top Your world is my world\\nAnd my fight is your fight\\nMy breath is your breath\\nAnd your heart(is my heart) Your my one love\\nMy one heart\\nMy one life for sure\\nLet me tell you one time (girl I love, girl I love you)\\nI\\'m a tell you one time (girl I love, girl I love you)\\nAnd I\\'m a be your one guy\\nYou\\'ll be my number one girl always makin\\' time for you\\nI\\'ma tell you one time (girl I love, girl I love you)\\nI\\'ma tell you one time (girl I love, girl I love you) You look so deep\\nYou know that it humbles me\\nYour by my side and what troubles them don\\'t trouble me\\nMany have called but the chosen is you\\nWhatever you want shawty I\\'ll give it to you Your world is my world\\nAnd my fight is your fight\\nMy breath is your breath\\nAnd your heart (is my heart) Your my one love\\nMy one heart\\nMy one life for sure\\nLet me tell you one time (girl I love, girl I love you)\\nI\\'m a tell you one time (girl I love, girl I love you)\\nAnd I\\'m a be your one guy\\nYou\\'ll be my number one girl always makin\\' time for you\\nI\\'ma tell you one time (girl I love, girl I love you)\\nI\\'ma tell you one time (girl I love, girl I love you) Shawty right there\\nShe\\'s got everything I need and I\\'m a tell her one time\\nOne time, one time\\nGive you everything you need down to my last dime\\nShe makes me happy\\nI know where I\\'ll be\\nRight by your side \\'cause she is the one\\nFor me You\\'re my one love\\nMy one heart\\nMy one life for sure\\nLet me tell you one time (girl I love, girl I love you)\\nI\\'m a tell you one time (girl I love, girl I love you)\\nAnd I\\'m a be your one guy\\nYou\\'ll be my number one girl always makin\\' time for you\\nI\\'m a me tell you one time (girl I love, girl I love you)\\nI\\'m a tell you one time (girl I love, girl I love you) Me plus you, I\\'m a tell you one time\\nMe plus you, I\\'m a tell you one time\\nMe plus you, I\\'m a tell you one time One time\\nOne time My friends say I\\'m a fool\\nTo think that you\\'re the one for me\\nI guess I\\'m just a sucker for love\\n\\'Cause honestly the truth is\\nThat you know I\\'m never leavin\\'\\n\\'Cause you\\'re my angel sent from above Baby you can do no wrong\\nMy money is yours\\nGive you little more because I love ya, love ya\\nWith me, girl, is where you belong\\nJust stay right here\\nI promise my dear I\\'ll put nothin\\' above ya, above ya Love me, love me\\nSay that you love me\\nFool me, fool me\\nOh, how you do me\\nKiss me, kiss me\\nSay that you miss me\\nTell me what I wanna hear\\nTell me you love me Love me, love me\\nSay that you love me\\nFool me, fool me\\nOh, how you do me\\nKiss me, kiss me\\nSay that you miss me\\nTell me what I wanna hear\\nTell me you love me People try to tell me\\nBut I still refuse to listen\\n\\'Cause they don\\'t get to spend time with you\\nA minute with you is worth more than\\nA thousand days without your love, oh your love Oh, baby you can do no wrong\\nMy money is yours\\nGive you little more because I love ya, love ya\\nWith me, girl, is where you belong\\nJust stay right here\\nI promise my dear I\\'ll put nothin\\' above ya, above ya Love me, love me\\nSay that you love me\\nFool me, fool me\\nOh, how you do me\\nKiss me, kiss me\\nSay that you miss me\\nTell me what I wanna hear\\nTell me you love me Love me, love me\\nSay that you love me\\nFool me, fool me\\nOh, how you do me\\nKiss me, kiss me\\nSay that you miss me\\nTell me what I wanna hear\\nTell me you love me My heart is blind but I don\\'t care\\n\\'Cause when I\\'m with you everything has disappeared\\nAnd every time I hold you near\\nI never wanna let you go, oh Love me, love me\\nSay that you love me\\nFool me, fool me\\nOh, how you do me\\nKiss me, kiss me\\nSay that you miss me\\nTell me what I wanna hear\\nTell me you love me Love me, love me\\nSay that you love me\\nFool me, fool me\\nOh, how you do me\\nKiss me, kiss me\\nSay that you miss me\\nTell me what I wanna hear\\nTell me you love me You\\'ve got that smile,\\nThat only heaven can make.\\nI pray to God everyday,\\nThat you keep that smile. Yeah, you are my dream,\\nThere\\'s not a thing I won\\'t do.\\nI\\'ll give my life up for you,\\n\\'Cause you are my dream. And baby, everything that I have is yours,\\nYou will never go cold or hungry.\\nI\\'ll be there when you\\'re insecure,\\nLet you know that you\\'re always lovely.\\nGirl, \\'cause you are,\\nThe only thing that I got right now One day when the sky is falling,\\nI\\'ll be standing right next to you,\\nRight next to you.\\nNothing will ever come between us,\\n\\'Cause I\\'ll be standing right next to you,\\nRight next to you.\\nYou had my child,\\nYou would make my life complete.\\nJust to have your eyes on little me,\\nThat\\'d be mine forever. And baby, everything that I have is yours\\nYou will never go cold or hungry\\nI\\'ll be there when you\\'re insecure\\nLet you know that you\\'re always lovely\\nGirl, \\'cause you are,\\nThe only thing that I got right now One day when the sky is falling,\\nI\\'ll be standing right next to you,\\nRight next to you.\\nNothing will ever come between us,\\nI\\'ll be standing right next to you,\\nRight next to you. We\\'re made for one another\\nMe and you\\nAnd I have no fear\\nI know we\\'ll make it through One day when the sky is falling\\nI\\'ll be standing right next to you\\nOh oh oh oh One day when the sky is falling,\\nI\\'ll be standing right next to you,\\nRight next to you.\\nNothing will ever come between us,\\nI\\'ll be standing right next to you,\\nRight next to you. Oh nah nah\\nOh yeah\\nStand by my side, side, side\\nWhen the sky falls down\\nI\\'ll be there, I\\'ll be there You\\'ve got that smile,\\nThat only heaven can make.\\nI pray to God everyday,\\nTo keep you forever.\\nOoh Everybody\\'s laughing in my mind\\nRumors spreading \\'bout this other guy\\nDo you do what you did when you did with me\\nDoes he love you the way I can\\nDid you forget all the plans that you made with me\\n\\'Cause baby I didn\\'t That should be me\\nHoldin\\' your hand\\nThat should be me\\nMakin\\' you laugh\\nThat should be me\\nThis is so sad\\nThat should be me\\nThat should be me\\nThat should be me\\nFeelin\\' your kiss\\nThat should be me\\nBuyin\\' you gifts\\nThis is so wrong,\\nI can\\'t go on,\\nTill you believe that\\nThat should be me That should be me You said you needed a little time for my mistakes\\nIt\\'s funny how you use that time to have me replaced\\nBut did you think that I wouldn\\'t see you out at the movies\\nWhat you doin\\' to me\\nYou\\'re takin\\' him where we used to go\\nNow if you\\'re tryin\\' to break my heart\\nIt\\'s working \\'cause you know that That should be me\\nHoldin\\' your hand\\nThat should be me\\nMakin\\' you laugh\\nThat should be me\\nThis is so sad\\nThat should be me\\nThat should be me\\nThat should be me\\nFeelin\\' your kiss\\nThat should be me\\nBuyin\\' you gifts\\nThis is so wrong,\\nI can\\'t go on,\\nTill you believe that\\nThat should be me I need to know, should I fight for love or disarm\\nIt\\'s getting harder to shield\\nThis pain in my heart That should be me\\nHoldin\\' your hand\\nThat should be me\\nMakin\\' you laugh\\nThat should be me\\nThis is so sad\\nThat should be me\\nThat should be me\\nThat should be me\\nFeelin\\' your kiss\\nThat should be me\\nBuyin\\' you gifts\\nThis is so wrong,\\nI can\\'t go on,\\nTill you believe that\\nThat should be me Holding your hand\\nThat should be me\\nThe one making you laugh, oh baby\\nThat should be me\\nThat should be me giving you flowers\\nThat should be me\\nTalking for hours that should be me, that should be me\\nThat should be me\\nNever should\\'ve let you go\\nI never should\\'ve let you go\\nThat should be me\\nI\\'m never gonna let you go\\noh-oh-oh-ohh I keep thinking in my head that one day we\\'ll separate\\nI see it happening everyday, nothing lasts forever\\nThat\\'s what people say\\nI can\\'t picture you out of my life\\nI think about this every day and night\\nAnd I don\\'t know why but it seems to get to me\\nNo, I don\\'t wanna leave you, I\\'m no good alone\\nSo I\\'m staying with you till you want me to go Girl, you don\\'t understand what you do to me\\nGot crazy in my head, I don\\'t think I can leave\\nI need you here with me all night\\nGirl, I can\\'t live without your smile\\nI\\'m in love, I don\\'t know what to do\\nBut I\\'m crazy over you\\nI\\'m in love, I don\\'t know what to do\\nBut I\\'m crazy over you\\nI\\'m in love, I don\\'t know what to do\\nBut I\\'m crazy over you\\nI\\'m, I\\'m in love I\\'m so scared to lose you\\nUuh, uh, oh oh\\nDon\\'t know what I would do\\nThought of me being replaced\\nBrings tears right to my face\\nAnd I can\\'t think of anybody who would take your place\\nNo, I don\\'t wanna leave you, I\\'m no good alone\\nSo I\\'m staying with you till you want me to go Girl, you don\\'t understand what you do to me\\nGot crazy in my head, I don\\'t think I can leave\\nI need you here with me all night\\nGirl, I can\\'t live without your smile\\nI\\'m in love, I don\\'t know what to do\\nBut I\\'m crazy over you\\nI\\'m in love, I don\\'t know what to do\\nBut I\\'m crazy over you\\nI\\'m in love, I don\\'t know what to do\\nBut I\\'m crazy over you\\nI\\'m, I\\'m in love I can\\'t picture you out of my life\\nSaid I can\\'t, no I can\\'t\\nOut of my life\\nI can\\'t picture you out of my life\\nSaid I can\\'t, no I can\\'t\\nOut of my life Girl, you don\\'t understand what you do to me\\nGot crazy in my head, I don\\'t think I can leave\\nI need you here with me all night\\nGirl, I can\\'t live without your smile\\nI\\'m in love, I don\\'t know what to do\\nBut I\\'m crazy over you\\nI\\'m in love, I don\\'t know what to do\\nBut I\\'m crazy over you\\nI\\'m in love, I don\\'t know what to do\\nBut I\\'m crazy over you\\nI\\'m, I\\'m in love Ended up on a crossroad\\nTry to figure out which way to go\\nIt\\'s like you\\'re stuck on a treadmill\\nRunning in the same place\\nYou got your hazard lights on now\\nHoping that somebody would slow down\\nPraying for a miracle\\nWho\\'ll show you grace?\\nHad a couple dollars and a quarter tank of gas\\nWith a long journey ahead\\nSeen a truck pull over\\nGod sent an angel to help you out\\nHe gave you direction\\nShowed you how to read a map\\nWith a long journey ahead\\nSaid it ain\\'t over\\nOh, even in the midst of doubt Life is worth living\\nLife is worth living, so live another day\\nThe meaning of forgiveness\\nPeople make mistakes, doesn\\'t mean you have to give in\\nLife is worth living again Relationship on a ski slope\\nAvalanche comin\\' down slow\\nDo we have enough time to salvage this love?\\nFeels like a blizzard in April\\n\\'Cause my heart is just that cold\\nSkating on thin ice\\nBut it\\'s strong enough to hold us up\\nSeen her scream and holler\\nPut us both on blast\\nTearing each other down\\nWhen I thought it was over\\nGod sent us an angel to help us out\\nHe gave us direction, showed us how to make it last\\nFor that long journey ahead\\nSaid it ain\\'t ever over\\nOh, even in the midst of doubt Life is worth living\\nLife is worth living, so live another day\\nThe meaning of forgiveness\\nPeople make mistakes, doesn\\'t mean you have to give in\\nLife is worth living again\\nLife is worth living again What I\\'d give for my affection\\nIs a different perception\\nFrom what the world may see\\nThey try to crucify me\\nI ain\\'t perfect, won\\'t deny\\nMy reputation\\'s on the line\\nSo I\\'m working on a better me Life is worth living\\nLife is worth living, so live another day\\nThe meaning of forgiveness\\nPeople make mistakes\\nOnly God can judge me\\nLife is worth living again\\nAnother day\\nLife is worth living again Just a fraction of your love\\nFills the air\\nAnd I fall in love with you\\nAll over again, woo woo woo\\nYou\\'re the light that feeds the sun\\nIn my world\\nI\\'d face a thousand years of pain for my girl\\nOut of all the things in life that I could fear\\nThe only thing that would hurt me,\\nIs if you weren\\'t here, whoa I don\\'t wanna go back to just being one half of the equation\\nYou understand what I\\'m sayin\\'?\\nGirl, without you I\\'m lost\\nCan\\'t face this compass at heart\\nBetween me and love,\\nYou\\'re the common denominator\\nOh, oh, oh, oh\\nCommon denominator\\nOh, yeah, woa Before you\\'re love was low\\nPlaying girls was my high\\nWe chase the game that would put\\nMy cot in the side, aye\\nWhen broken hearts rise up to say,\\nLove is a lie\\nYou and I would stand to be love\\'s reply Out of all things in life that I could fear, yeah\\nThe only thing that would hurt me is if you weren\\'t here, whoa I don\\'t wanna go back to just being one half of the equation\\nYou understand what I\\'m sayin\\'?\\nGirl, without you I\\'m lost\\nCan\\'t face this compass at heart\\nBetween me and love,\\nYou\\'re the common denominator\\nOh, oh, oh, oh\\nCommon denominator\\nOh, yeah, woa I can\\'t imagine life without your touch\\nAnd every kiss that you give, can fill me up\\nAnd to all the heart aching\\nJealous females hatin\\'\\nImma hold it down for you, you\\nYou, woah, oh, woah\\nYou\\'re the common denominator\\nOh yeah woah I don\\'t wanna go back\\nI don\\'t want to go back\\nTo just being one half of the equation I don\\'t wanna go back to just being one half of the equation\\nYou understand what I\\'m sayin\\'?\\nGirl, without you I\\'m lost\\nCan\\'t face this compass at heart\\nBetween me and love,\\nYou\\'re the common denominator\\nOh, oh, oh, oh\\nCommon denominator\\nOh, yeah, woa Just a fraction of your love fills the air\\nAnd I fall in love with you all over again Can we, we keep, keep each other company\\nMaybe we, can be, be each other\\'s company\\nOh company Let\\'s set each other\\'s lonely nights\\nBe each other\\'s paradise\\nNeed a picture for my frame\\nSomeone to share my ring\\nTell me what you wanna drink\\nI tell you what I got in mind\\nOh I don\\'t know your name\\nBut I feel like that\\'s gonna change You ain\\'t gotta be my lover for you to call me baby\\nNever been around no press, ain\\'t that serious Can we, we keep, keep each other company\\nMaybe we, can be, be each other\\'s company\\nOh company It ain\\'t about the complications\\nI\\'m all about the elevation\\nWe can keep it goin\\' up\\nOh, don\\'t miss out on us\\nJust wanna have a conversation\\nForget about the obligations\\nMaybe we can stay in touch\\nOh that ain\\'t doin\\' too much You ain\\'t gotta be my lover for you to call me baby\\nNever been around no press, ain\\'t that serious no Can we, we keep, keep each other company\\nMaybe we, can be, be each other\\'s company\\nOh company Can be, can be, be each other\\'s company\\nBe each other\\'s company\\nJust be each other\\'s company\\nBe each others company Can we, we keep, keep each other company\\nMaybe we, can be, be each other\\'s company\\nOh company Ooh no, ooh no, ooh\\nThey say that hate has been sent\\nSo let loose the talk of love\\nBefore they outlaw the kiss\\nBaby give me one last hug There\\'s a dream\\nThat I\\'ve been chasing\\nWant so badly for it to be reality\\n(Reality, reality)\\nAnd when you hold my hand\\nThen I understand\\nThat it\\'s meant to be Cause baby when you\\'re with me\\nIt\\'s like an angel came by, and took me to heaven\\n(It\\'s like you took me to heaven girl)\\nCause when I stare in your eyes\\nIt couldn\\'t be better\\n(Don\\'t want you to go oh no so) Let the music blast\\nWe gon\\' do our dance\\nBring the doubters on\\nThey don\\'t matter at all\\nCause this life\\'s to long\\nAnd this love\\'s to strong\\nSo baby know for sure\\nThat I\\'ll never let you go I got my favorite girl\\nNot feelin\\' no pain or fear\\n(Pain or fear, pain or fear, no pain)\\nOh no, don\\'t have a care in the world\\nWhy would I, when you are here\\n(You are here, you are here)\\nThere\\'s a moment I\\'ve been chasin\\'\\nAnd I finally caught it out on this floor\\n(On this floor, in this floor) Baby, there\\'s no hesitation,\\nNo reservation by taking a chance and more\\nOh no, because It\\'s like an angel came by, and took me to heaven\\n(It\\'s like you took me to heaven girl)\\nCause when I stare in your eyes\\nIt couldn\\'t be better\\n(Don\\'t want you to go, oh no so) Let the music blast\\nWe gon\\' do our dance\\nBring the doubters on\\nThey don\\'t matter at all\\nCause this life\\'s too long\\nAnd this love\\'s to strong\\nSo baby know for sure\\nThat I\\'ll never let you go It\\'s like an angel came by, and took me to heaven\\n(It\\'s like you took me to heaven girl)\\nCause when I stare in your eyes\\nIt couldn\\'t be better\\n(Don\\'t want you to go, oh, no, so) Take my hand, lets just dance\\nWatch my feet, follow me\\nDon\\'t be scared, girl I\\'m here\\nIf you didn\\'t know, this is love (Let the music blast)\\n(We gon\\' do our dance)\\n(Bring the doubters on)\\n(They don\\'t matter at all)\\nOh baby\\n(Cause this life\\'s to long)\\n(And it\\'s much to strong)\\n(So baby no for sure)\\nThat I\\'ll never let you go\\n(I\\'ll never let you go) So don\\'t fear, don\\'t you worry \\'bout a thing\\nI am here (right here)\\nI\\'ll never let you go, ooh\\nDon\\'t shed a tear, whenever you need me I\\'ll be near\\nI\\'ll never let you go, (Ooh no, oh no, ooh)\\nI\\'ll never let you go\\nOoh no, ooh no, ooh\\nI\\'ll never let you go Love is in the air\\nCandles all around us\\nThere\\'s no need to see, nothing, nothing\\nBaby I\\'m yours, yours until forever\\n\\'Cause you know that I would never ever want this to change It\\'s all about the magic\\nAll about the madness in your eyes\\nMadly in love, yeah\\nIt\\'s all about the magic\\nAll about the madness in your eyes\\nMadly in love\\nMadly in love babe\\nMadly in love\\n(Madly in love)\\n(Madly in love)\\n(Madly in love)\\nMadly in love\\n(Madly in love)\\n(Madly in love)\\n(Madly in love) Babe, you are the reason to breathe\\nAnd babe, you know you\\'re all that I need\\nRemember when you took my hand\\nAnd ran away (it was just us two babe)\\nAnd wandered off to Chinatown\\nLaughing \\'bout nothing at all\\nWhen I look into your eyes It\\'s all about the magic\\nAll about the madness in your eyes\\nMadly in love, yeah\\nIt\\'s all about the magic\\nAll about the madness in your eyes\\nMadly in love\\nMadly in love babe\\nMadly in love\\n(Madly in love)\\n(Madly in love)\\n(Madly in love)\\nMadly in love\\n(Madly in love)\\n(Madly in love)\\n(Madly in love) Love me like you do, love me like you do\\nLike you do, hold me tight and don\\'t let go\\nWhat am I to do\\nWhen you love me like you do?\\nLike you do\\nHold me tight and don\\'t let go Baby, baby, baby, teach me, teach me, teach me\\nShow me, show me, show me\\nThe way to your heart\\nOoh, my baby, baby, I\\'m begging, lady, lady\\nPut me in the middle\\nThat\\'s where I\\'mma start, uh huh I like how your eyes complementing you hair\\nThe way that them jeans fit is making me stare\\nPromise, I\\'ll be here forever, I swear\\nOur bodies touching while you Love me like you do, love me like you do\\nLike you do, hold me tight and don\\'t let go\\nWhat am I to do when you love me like you do?\\nLike you do, hold me tight and don\\'t let go Baby, baby, baby, well let me, let me, let me\\nLet me, let me, let me, be all your desire\\nPretty baby, baby, I\\'m begging lady, lady\\nTake me to the top now and I\\'ll take you higher oh oh I like how your eyes complementing you hair\\nThe way that them jeans fit is making me stare\\nPromise, I\\'ll be here forever, I swear\\nKissing on your neck while you Love me like you do, love me like you do\\nLike you do, hold me tight and don\\'t let go\\nWhat am I to do when you love me like you do?\\nLike you do, hold me tight and don\\'t let go Alright, okay\\nRight there, my way\\n\\'Cause when you love me, I can feel it\\nWhen your heart beats, I can hear it oh no\\nBe quiet, don\\'t say a word\\nDon\\'t say nothing, girl, I\\'m all yours\\nLove me like you do but let me go first\\nListen to these words right here Love me like you do, love me like it\\'s new\\nLove me like you love me, like there\\'s nothing left to lose\\nWe\\'ll hop up in the Benz, if you\\'re tryna cruise\\nHop up in them bed, baby, if you\\'re trying to snooze\\nLouis V. shoes, look at me do it\\nGot a lot of secrets, baby, can you guess clues?\\nAnd if you had a choice I know what\\'d you choose\\nYou\\'d choose me, right? Love me like you do, love me like you do\\nLike you do, love me tight and don\\'t let go\\nWhat am I to do, when you love me like you do?\\nLike you do, love me tight and don\\'t let go\\nWhat am I to do do do, love me like you do you do, like you do Love me tight and don\\'t let go\\nWhat am I to do\\nWhen you love me like you do ooh, like you do\\nLove me tight and don\\'t let go\\nNo-no no no\\nNo-no no no, no no no no, no no yeah, uh yeah\\nLove me like you do do do do do, hmm\\nLove me like you do do do\\nDo do\\nDo do do do do do\\nUh, yeah Where are you now\\nWhen I need you the most\\nWhy don\\'t you take my hand\\nI wanna be close Help me when I am down\\nLift me up off the ground\\nTeach me right from wrong\\nHelp me to stay strong So take my hand and walk with me\\nShow me what to be\\nI need you to set me free\\nYeah Where are you now\\nWhere are you now\\nNow that I\\'m half grown\\nWhy are we far apart\\nI feel so alone Where are you now\\nWhen nothings going right\\nWhere are you now\\nI can\\'t see the light So take my hand and walk with me\\nShow me what to be\\nI need you to set me free , Yeah I need you\\nTo need me\\nCan\\'t you see me\\nHow could you leave me\\nMy heart is\\nHalf empty\\nI\\'m not whole\\nWhen your not with me\\nI want you here with me\\nTo get me, hold me and love me now Where are you now\\nOh, where are you now So take my hand and walk with me,\\nShow me what to be\\nI need you to set me free\\nYeah\\nOh, oh\\nYeah It\\'s the most beautiful time of the year\\nLights fill the streets, spreadin\\' so much cheer\\nI should be playin\\' in the winter snow, but I\\'ma be under the mistletoe\\nI don\\'t wanna miss out on the holiday, but I can\\'t stop starin\\' at your face\\nI should be playin\\' in the winter snow, but I\\'ma be under the mistletoe With you, shawty with you\\nWith you, shawty with you\\nWith you, under the mistletoe Everyone\\'s gatherin\\' around the fire\\nChestnuts roastin\\' like a hot July\\nI should be chillin\\' with my folks I know, but I\\'ma be under the mistletoe\\nWord on the street Santa\\'s comin\\' tonight\\nReindeer flyin\\' through the sky so high\\nI should be makin\\' a list I know, but I\\'ma be under the mistletoe With you, shawty with you\\nWith you, shawty with you\\nWith you, under the mistletoe\\nWith you, shawty with you\\nWith you, shawty with you\\nWith you, under the mistletoe Aye love, the Wisemen follow the star, the way I follow my heart\\nAnd it lead me to a miracle, hey love\\nDon\\'t ya buy me nothin\\', \\'cause I am feelin\\' one thing\\nYour lips on my lips, that\\'s a merry merry Christmas It\\'s the most beautiful time of the year\\nLights fill the streets, spreadin\\' so much cheer\\nI should be playin\\' in the winter snow, but I\\'ma be under the mistletoe\\nI don\\'t wanna miss out on the holiday, but I can\\'t stop starin\\' at your face\\nI should be playin\\' in the winter snow, but I\\'ma be under the mistletoe With you, shawty with you\\nWith you, shawty with you\\nWith you, under the mistletoe oh yeah\\nWith you, shawty with you\\nWith you, shawty with you\\nWith you, yeah under the mistletoe Kiss me underneath the mistletoe, show me baby that you love me so oh oh\\nOh oh oh yeah yeah yeah\\nKiss me underneath the mistletoe, show me baby that you love me so oh oh\\nOh oh oh Feeling like I\\'m breathing my last breath\\nFeeling like I\\'m walking my last steps\\nLook at all of these tears I\\'ve wept\\nLook at all the promises that I\\'ve kept I put my heart into your hands\\nHere\\'s my soul to keep\\nI let you in with all that I can\\nYou\\'re not hard to reach\\nAnd you\\'ve blessed me with the best gift\\nThat I\\'ve ever known\\nYou give me purpose\\nYeah, you\\'ve given me purpose Thinking my journey\\'s come to an end, oh\\nSending out a farewell to my friends\\nForever peace\\nAsk you to forgive me for my sins\\nOh would you please?\\nI\\'m more than grateful for the time we spent\\nMy spirit\\'s at ease I put my heart into your hands\\nLearn the lessons you teach\\nNo matter when, wherever I am\\nYou\\'re not hard to reach\\nAnd you\\'ve given me the best gift\\nThat I\\'ve ever known\\nYou give me purpose everyday\\nYou give me purpose in every way Oh, you are my everything\\nOh, you are my everything I don\\'t know if this is wrong\\nBecause someone else is telling me that it\\'s wrong\\nBut I feel this so let me just like, try my best not to let this happen again\\nWe weren\\'t necessarily put in the best position to make the best decisions.\\nYou can\\'t be hard on yourself for these were the cards that you were given\\nSo you have to understand that these like\\nThat\\'s not who you are\\nYou know you\\'re trying to be the best you can be\\nBut that\\'s all you can do\\nIf you don\\'t give it all you got, you\\'re only cheating yourself\\nGive it all you got\\nBut if it ends up happening, it ends up happening\\nThat\\'s what it\\'s that\\'s what\\'s happening with me\\nIt\\'s like God I\\'m giving it all I got\\nSometimes I\\'m weak and I\\'m gonna do it\\nAnd it\\'s like I\\'m not giving myself grace\\nI\\'m just like understanding, that\\'s just how it is Alright, let\\'s go\\nThere\\'s gonna be one less lonely girl(one less lonely girl)\\nOne less lonely girl(one less lonely girl)\\nThere\\'s gonna be one less lonely girl(one less lonely girl)\\nOne less lonely girl How many I told you\\'s and start overs\\nAnd shoulders have you cried on before?\\nHow many promises be honest girl?\\nHow many tears you let hit the floor? How many bags you packed\\nJust to take \\'em back tell me that\\nHow many either or\\'s (but no more)\\nIf you let me inside of your world\\nThere\\'d be the one less lonely girl Saw so many pretty faces (before I saw you you)\\nNow all I see is you\\nI\\'m coming for you (I\\'m coming for you)\\nNo no\\nDon\\'t need these other pretty faces like I need you\\nAnd when you\\'re mine in the world There\\'s gonna be one less lonely girl(I\\'m coming for you)\\nOne less lonely girl (I\\'m coming for you)\\nOne less lonely girl (I\\'m coming for you)\\nOne less lonely girl (I\\'m coming for you)\\nThere\\'s gonna be one less lonely girl (I\\'m coming for you)\\nI\\'m gonna put you first (I\\'m coming for you)\\nI\\'ll show you what you\\'re worth (that\\'s what I\\'m gonna do)\\nIf you let me inside your world\\nThere\\'s gonna be one less lonely girl Christmas wasn\\'t merry 14th of February\\nNot one of them spent with you\\nHow many dinner dates set dinner plates and\\nHe didn\\'t even touch his food\\nHow many torn photographs are you taping back\\nTell me that couldn\\'t see an open door\\nBut no more\\nIf you let me inside of your world\\nThere\\'ll be one less lonely girl Saw so many pretty faces\\n(Before I saw you you)\\nNow all I see is you\\nI\\'m coming for you I\\'m coming for you\\nNo no\\nDon\\'t need these other pretty faces like I need you\\nAnd when your mine in this world There\\'s gonna be one less lonely girl (I\\'m coming for you)\\nOne less lonely girl (I\\'m coming for you)\\nOne less lonely girl (I\\'m coming for you)\\nOne less lonely girl\\nThere\\'s gonna be one less lonely girl (I\\'m coming for you)\\nI\\'m gonna put you first (I\\'m coming for you)\\nI\\'ll show you what you\\'re worth (that\\'s what I\\'m gonna do)\\nIf you let me inside of your world\\nThere\\'s gonna be on less lonely girl I can fix up your broken heart (heart)\\nI can give you a brand new start (start)\\nI can make you believe (yeah)\\nI just wanna set one girl free to fall,\\nFree to fall (she\\'s free to fall)\\nFall in love\\nWith me Her hearts locked and nowhere to get the key\\nI\\'ll take her and leave the world with one less lonely girl There\\'s gonna be one less lonely girl (one less lonely girl)\\nOne less lonely girl (one less lonely girl)\\nThere\\'s gonna be one less lonely girl (one less lonely girl)\\nOne less lonely girl (I\\'m coming for you)\\nOne less lonely girl (I\\'m coming for you)\\nOne less lonely girl (I\\'m coming for you)\\nOne less lonely girl\\nThere\\'s gonna be one less lonely girl (I\\'m coming for you) I\\'m gonna put you first (I\\'m coming for you)\\nI\\'ll show you what you\\'re worth (that\\'s what I\\'m gonna do)\\nIf you let me inside your world\\nThere\\'s gonna be on less lonely girl (I\\'m coming for you)\\nOne less lonely girl (one less lonely girl)\\nOne less lonely girl (one less lonely girl) I\\'m gonna put you first (I\\'m coming for you)\\nI\\'ll show you what you\\'re worth (that\\'s what I\\'m gonna do)\\nIf you let me inside your world\\nThere\\'s gonna be on less lonely girl You shawty Ooh whoa, ooh whoa, ooh whoa\\nYou know you love me, I know you care\\nJust shout whenever and I\\'ll be there\\nYou are my love, you are my heart\\nAnd we will never, ever, ever be apart Are we an item? Girl quit playin\\'\\nWe\\'re just friends, what are you sayin\\'\\nSaid there\\'s another, look right in my eyes\\nMy first love, broke my heart for the first time And I was like baby, baby, baby oh\\nLike baby, baby, baby no\\nLike baby, baby, baby oh\\nI thought you\\'d always be mine (mine)\\nBaby, baby, baby oh\\nLike baby, baby, baby no\\nLike baby, baby, baby ooh\\nI thought you\\'d always be mine Oh for you, I would have done whatever\\nAnd I just can\\'t believe we ain\\'t together\\nAnd I wanna play it cool\\nBut I\\'m losin\\' you\\nI\\'ll buy you anything\\nI\\'ll buy you any ring\\nAnd I\\'m in pieces, baby fix me\\nAnd just shake me, \\'til you wake me from this bad dream\\nI\\'m goin\\' down, down, down, down\\nAnd I can\\'t believe my first love won\\'t be around And I\\'m like baby, baby, baby oh\\nLike baby, baby, baby no\\nLike baby, baby, baby oh\\nI thought you\\'d always be mine (mine)\\nBaby, baby, baby oh\\nLike baby, baby, baby no\\nLike baby, baby, baby ooh\\nI thought you\\'d always be mine Luda, when I was thirteen, I had my first love\\nThere was nobody that compared to my baby\\nAnd nobody came between us no one could ever come above\\nShe had me goin\\' crazy\\nOh I was starstruck\\nShe woke me up daily\\nDon\\'t need no Starbucks\\nShe made my heart pound\\nAnd skip a beat when I see her in the street and\\nAt school on the playground\\nBut I really wanna see her on the weekend\\nShe know she got me dazin\\'\\n\\'Cause she was so amazin\\'\\nAnd now my heart is breakin\\'\\nBut I just keep on sayin\\' Baby, baby, baby oh\\nLike baby, baby, baby no\\nLike baby, baby, baby oh\\nI thought you\\'d always be mine (mine)\\nBaby, baby, baby oh\\nLike baby, baby, baby no\\nLike baby, baby, baby ooh\\nI thought you\\'d always be mine Now I\\'m all gone\\nYeah, yeah, yeah\\nYeah, yeah, yeah (now I\\'m all gone)\\nYeah, yeah, yeah\\nYeah, yeah, yeah (now I\\'m all gone)\\nYeah, yeah, yeah\\nYeah, yeah, yeah (now I\\'m all gone)\\nGone, gone, gone I\\'m gone gone Don\\'t do it to me\\nDon\\'t do it to me, oh no no, oh no no\\nDon\\'t do it to me, oh no no, oh no no\\nDon\\'t do it to me, oh no no, oh no no\\nDon\\'t do it to me, oh no no, oh no no Focused, I\\'m focused\\nShe got a body like that\\nI ain\\'t never seen nothing like that\\nLike a fantasy in front of me\\nI think that something special is going down\\nThat\\'s right I think she foreign\\nThink she foreign, got passports\\nMi amor started slow, got faster\\nShe gon\\' work some more, work some more\\nNo stopping her now, no stopping her now (No) Then she started dancing, sexual romancing\\nNasty but she fancy, lipstick on my satin sheets\\nWhat\\'s your nationality? I wonder if there\\'s more of you\\nShe\\'s got my attention, she\\'s confident Oh no no, oh no no\\nShe\\'s confident\\nOh no no, oh no no\\nAnd I\\'m down with it\\nOh no no, oh no no\\nShe\\'s confident\\nYou could tell by the way she walks in the room She said it\\'s her first time\\nI think she might of lied\\nFeels so good damn, and I don\\'t know why\\nI\\'m addicted, something like a headache\\nGot me twisted, but still I gotta have it\\nExplosive, explosive (I could still smell her perfume)\\nIt\\'s not hard to notice, that I\\'m open\\nHypnotized by the way she moves Then she started dancing, sexual romancing\\nNasty but she fancy, mona lisa masterpiece\\nWhat\\'s your nationality? I wonder if there\\'s more of you\\nShe\\'s got my attention, she\\'s confident Oh no no, oh no no\\nShe\\'s confident\\nOh no no, oh no no\\nAnd I\\'m down with it\\nOh no no, oh no no\\nShe\\'s confident\\nYou could tell by the way she walks in the room She said it\\'s her first time\\nI think she might of lied\\nFeels so good damn, and I don\\'t know why\\nI\\'m addicted, something like a headache\\nGot me twisted, but still I gotta have it Tattoos, piercings and she just learned to twerk\\nShe ain\\'t gotta heart or a ass, just her brains, gotta ask cause her ass on a learning curve\\nAnd she love to earn the berb, I mean burn the word\\nThat\\'s only legal with a doctors note\\nReal deep pockets like a doctors clothes\\nStay fitted like Diddy hair back tryna rock the boat\\nShe the first mate wanna rock the boat\\nShe never forget to ride like a bicycle\\nShe like planes, trains, chains with icicles\\nIt goes her, blank blank, and rock & roll\\nShe say \"I know! Honey bunny that\\'s a funny thing\"\\nWatch her twerk for a goodfella\\nShe money dance with the money team She\\'s confident\\nOh no no, oh no no\\nShe\\'s confident\\nOh no no, oh no no\\nAnd I\\'m down with it\\nOh no no, oh no no\\nShe\\'s confident\\nYou could tell by the way she walks in the room She said it\\'s her first time (Oh yeah yeah)\\nI think she might of lied (Oh yeah yeah)\\nFeels so good damn (Oh yeah yeah) and I don\\'t know why\\nI\\'m addicted (Oh yeah yeah) something like a headache\\nGot me twisted (Oh yeah yeah) still I gotta have it\\nStill I gotta have it\\nStill I gotta have it\\nStill I gotta have it\\nOh no no, oh no no\\nOh no no, oh no no\\nOh no no, oh no no\\nOh no no, oh no, but still I gotta have it My life is a movie and everyone\\'s watching\\nSo let\\'s get to the good part and past all the nonsense Sometimes it\\'s hard to do the right thing\\nWhen the pressure\\'s coming down like lightning\\nIt\\'s like they want me to be perfect\\nWhen they don\\'t even know that I\\'m hurting \\'Cause life\\'s not easy, I\\'m not made out of steel\\nDon\\'t forget that I\\'m human, don\\'t forget that I\\'m real\\nAct like you know me, but you never will\\nBut there\\'s one thing that I know for sure\\nI\\'ll show you\\nI\\'ll show you\\nI\\'ll show you\\nI\\'ll show you I\\'ve got to learn things, learn them the hard way\\nGot to see what it feels like, no matter what they say Sometimes it\\'s hard to do the right thing\\nWhen the pressure\\'s coming down like lightning\\nIt\\'s like they want me to be perfect\\nWhen they don\\'t even know that I\\'m hurting \\'Cause life\\'s not easy, I\\'m not made out of steel\\nDon\\'t forget that I\\'m human, don\\'t forget that I\\'m real\\nAct like you know me, but you never will\\nBut there\\'s one thing that I know for sure\\nI\\'ll show you\\nI\\'ll show you\\nI\\'ll show you\\nI\\'ll show you\\n\\'Cause life\\'s not easy, I\\'m not made out of steel\\nDon\\'t forget that I\\'m human, don\\'t forget that I\\'m real\\nAct like you know me, but you never will\\nBut there\\'s one thing that I know for sure I\\'ll show you\\nI\\'ll show you Lately I\\'ve been thinking,thinking about what we had\\nAnd I know it was hard, it was all that we knew,yeah! Have you been drinking, to take all the pain away?\\nI wish that I could give you what you deserve\\n\\'Cause nothing can ever, ever replace you\\nNothing can make me feel like you do, yeah! You know there\\'s no one, I can relate to\\nI know we won\\'t find a love that\\'s so true There\\'s nothing like us\\nThere\\'s nothing like you and me\\nTogether through the storm There\\'s nothing like us\\nThere\\'s nothing like you for me, together I gave you everything babe\\nWell, everything I had to give\\nGirl, why would you push me away? Lost in confusion, like an illusion\\nYou know I\\'m used to making your day But that is the past now, we didn\\'t last now\\nI guess that this is meant to be Tell me, was it worth it? We were so perfect\\nBut baby I just want you to see There\\'s nothing like us\\nThere\\'s nothing like you and me\\nTogether through the storm There\\'s nothing like us\\nThere\\'s nothing like you and me, together There\\'s nothing like us\\nThere\\'s nothing like you and me\\nTogether through the storm There\\'s nothing like us\\nThere\\'s nothing like you and me, together You got a fast car\\nI want a ticket to anywhere\\nMaybe we make a deal\\nMaybe together we can get somewhere\\nAny place is better\\nStarting from zero got nothing to lose\\nMaybe we\\'ll make something\\nMe myself I got nothing to prove You got a fast car\\nI got a plan to get us out of here\\nI been working at the convenience store\\nManaged to save just a little bit of money\\nWon\\'t have to drive too far\\nJust \\'cross the border and into the city\\nYou and I can both get jobs\\nAnd finally see what it means to be living See my old man\\'s got a problem\\nHe live with the bottle that\\'s the way it is\\nHe says his body\\'s too old for working\\nHis body\\'s too young to look like his\\nMy mama went off and left him\\nShe wanted more from life than he could give\\nI said somebody\\'s got to take care of him\\nSo I quit school and that\\'s what I did You got a fast car\\nIs it fast enough so we can fly away?\\nWe gotta make a decision\\nLeave tonight or live and die this way So remember when we were driving driving in your car\\nSpeed so fast I felt like I was drunk\\nCity lights lay out before us\\nAnd your arm felt nice wrapped \\'round my shoulder\\nAnd I had a feeling that I belonged\\nI had a feeling I could be someone, be someone, be someone You got a fast car\\nWe go cruising, entertain ourselves\\nYou still ain\\'t got a job\\nAnd I work in a market as a checkout girl\\nI know things will get better\\nYou\\'ll find work and I\\'ll get promoted\\nWe\\'ll move out of the shelter\\nBuy a bigger house and live in the suburbs So remember when we were driving driving in your car\\nSpeed so fast I felt like I was drunk\\nCity lights lay out before us\\nAnd your arm felt nice wrapped \\'round my shoulder\\nAnd I had a feeling that I belonged\\nI had a feeling I could be someone, be someone, be someone You got a fast car\\nI got a job that pays all our bills\\nYou stay out drinking late at the bar\\nSee more of your friends than you do of your kids\\nI\\'d always hoped for better\\nThought maybe together you and me find it\\nI got no plans I ain\\'t going nowhere\\nSo take your fast car and keep on driving So remember when we were driving driving in your car\\nSpeed so fast I felt like I was drunk\\nCity lights lay out before us\\nAnd your arm felt nice wrapped \\'round my shoulder\\nAnd I had a feeling that I belonged\\nI had a feeling I could be someone, be someone, be someone You got a fast car\\nIs it fast enough so you can fly away?\\nYou gotta make a decision\\nLeave tonight or live and die this way Justin Bieber\\nJustin Bieber\\nJustin Bieber\\nJustin Bieber\\nAll I need is love\\nAll I need is love is you Young Money, Nicki Minaj, Justin Show you off, tonight I wanna show you off\\nWhat you got, a billion could\\'ve never bought\\nWe gonna party like it\\'s thirty twelve tonight\\nI wanna show you all the finer things in life\\nSo just forget about the world, be young tonight\\nI\\'m coming for ya, I\\'m coming for ya \\'Cause all I need is a beauty and a beat\\nWho can make my life complete\\nIt\\'s all by you, when the music makes you move\\nBaby do it like you do\\n\\'Cause Body rock\\nBody rock\\nBody rock, rock, rock\\nBody rock, girl, I can feel your body rock\\nTake a bow, you on the hottest ticket now\\nWe gonna party like it\\'s thirty twelve tonight\\nI wanna show you all the finer things in life\\nSo just forget about the world, be young tonight\\nI\\'m coming for ya, I\\'m coming for ya \\'Cause all I need is a beauty and a beat\\nWho can make my life complete\\nIt\\'s all by you, when the music makes you move\\nBaby do it like you do In time, ink lines, bitches couldn\\'t get on my incline\\nWorld tour, it\\'s mine, ten little letters, in a big sign\\nJustin Bieber, you know I\\'ma hit \\'em with the ether\\nBuns out, wiener, but I gotta keep my eye out for Selena\\nBeauty, beauty and the beast\\nBeauty from the east, beautiful confessions of the priest\\nBeast, beauty from the streets, we don\\'t get deceased\\nEvery time a beauty on the beats Body rock, girl, I wanna feel your body rock\\n\\'Cause all I need is a beauty and a beat\\nWho can make my life complete\\nIt\\'s all by you, when the music makes you move\\nBaby do it like you do\\n\\'Cause Body rock\\nBody rock\\nBody rock, Oh, oh, oh I never thought that it\\'d be easy\\n\\'Cause we both so distant now\\nAnd the walls are closing in on us\\nAnd we\\'re wondering how\\nNo one has a solid answer\\nWe\\'re just walking in the dark\\nAnd you can see the look on my face\\nIt just tears me apart So we fight (so we fight) through the hurt (through the hurt)\\nAnd we\\'ll cry, and cry, and cry, and cry\\nAnd we live (and we live) and we learn (and we learn)\\nAnd we try, and try, and try, and try So it\\'s up to you and it\\'s up to me\\nThat we meet in the middle\\nOn our way back down to earth\\nDown to earth, down to earth\\nOn our way back down to earth\\n(Back down to earth, back down to earth)\\n(Back down to earth, back down to earth)\\n(Back down to earth, back down to earth)\\n(Back down to earth, back down to earth) Mommy you were always somewhere\\nAnd Daddy I live outta town\\nSo tell me how could I ever be normal somehow\\nYou tell me this is for the best\\nSo tell me why am I in tears, whoa\\nSo far away and now I just need you here So we fight (so we fight) through the hurt (through the hurt)\\nAnd we\\'ll cry, and cry, and cry, and cry\\nAnd we live (and we live) and we learn (and we learn)\\nAnd we try, and try, and try, and try So it\\'s up to you and it\\'s up to me\\nThat we meet in the middle\\nOn our way back down to earth\\nDown to earth, down to earth\\nOn our way back down to earth\\n(Back down to earth, back down to earth)\\n(Back down to earth, back down to earth)\\n(Back down to earth, back down to earth)\\n(Back down to earth, back down to earth) We fell so far away from where we used to be\\nNow we\\'re standing, and where do we go\\nWhen there\\'s no road, to get to your heart\\nLet\\'s start over again So it\\'s up to you and it\\'s up to me\\nThat we meet in the middle\\nOn our way back down to earth\\nDown to earth, down to earth\\nOn our way back down to earth\\n(Back down to earth, back down to earth)\\n(Back down to earth, back down to earth)\\n(Back down to earth, back down to earth)\\n(Back down to earth, back down to earth) I never thought that it\\'d be easy\\n\\'Cause we both so distant now\\nAnd the walls are closing in on us\\nAnd we\\'re wondering how. Oh oh oh\\nOh oh oh\\nOh oh oh\\nAnd I pray I just can\\'t sleep tonight\\nKnowing that things ain\\'t right\\nIts in the papers, its on the TV,\\nIts everywhere that I go\\nChildren are crying\\nSoldiers are dying\\nSome people don\\'t have a home But I know there\\'s sunshine behind that rain\\nI know there\\'s good times behind that pain\\nCan you tell me how I can make a change I close my eyes and I can see a better day\\nI close my eyes and pray\\nI close my eyes and I can see a better day\\nI close my eyes and pray I lose my appetite,\\nKnowing kids starve tonight\\nAm I a sinner,\\n\\'Cause half my dinner is still there on my plate\\nOoh I got a vision, to make a difference\\nAnd its starting today \\'Cause I know there\\'s sunshine behind that rain\\nI know there\\'s good times behind that pain\\nHeaven tell me how I can make a change I close my eyes and I can see a better day\\nI close my eyes and pray\\nI close my eyes and I can see a better day\\nI close my eyes and\\nPray for the broken-hearted\\nI pray for the life not started\\nI pray for all the lungs not breathing\\nI pray for all the souls in need\\nI pray\\nCan you give \\'em one today\\nI just can\\'t sleep tonight\\nCan someone tell how to make a change? I close my eyes and I can see a better day\\nI close my eyes and pray\\nI close my eyes and I can see a better day\\nI close my eyes and I pray I pray\\nI pray\\nI pray\\nI close my eyes and pray Well let me tell you a story\\nAbout a girl and a boy\\nHe fell in love with his best friend\\nWhen she\\'s around, he feels nothing but joy\\nBut she was already broken, and it made her blind\\nBut she could never believe that love would ever treat her right\\nBut did you know that I loved you or were you not aware?\\nYou\\'re the smile on my face\\nAnd I ain\\'t going nowhere\\nI\\'m here to make you happy, I\\'m here to see you smile\\nI\\'ve been wanting to tell you this for a long while What\\'s gonna make you fall in love\\nI know you got your wall wrapped all the way around your heart\\nDon\\'t have to be scared at all, oh my love\\nBut you can\\'t fly unless you let yourself,\\nYou can\\'t fly unless you let yourself fall Well I can tell you\\'re afraid of what this might do\\n\\'Cause we got such an amazing friendship and that you don\\'t wanna lose\\nWell I don\\'t wanna lose it either\\nI don\\'t think I can stand sitting around while you\\'re hurting babe\\nSo take my hand\\nWell did you know you\\'re an angel who forgot how to fly?\\nDid you know that it breaks my heart every time to see you cry\\n\\'Cause I know that a piece of you\\'s gone,\\nEvery time he done wrong I\\'m the shoulder you\\'re crying on\\nAnd I hope by the time that I\\'m done with this song that I figure out What\\'s gonna make you fall in love\\nI know you got your wall wrapped all the way around your heart\\nYou don\\'t have to be scared at all, oh my love\\nBut you can\\'t fly unless you let yourself,\\nYou can\\'t fly unless you let yourself fall I will catch you if you fall\\nI will catch you if you fall\\nI will catch you if you fall\\nBut if you spread your wings\\nYou can fly away with me\\nBut you can\\'t fly unless you let your\\nYou can\\'t fly unless you let yourself fall What\\'s gonna make you fall in love\\nI know you got your wall wrapped all the way around your heart\\nYou\\'re not gon\\' be scared at all, oh my love\\nBut you can\\'t fly unless you let yourself\\nYou can\\'t fly unless you let yourself fall, In love\\nI know you got your wall wrapped all the way around your heart\\nDon\\'t have to be scared at all, oh my love\\nBut you can\\'t fly unless you let yourself,\\nYou can\\'t fly unless you let yourself fall I will catch you if you fall\\nI will catch you if you fall\\nI will catch you if you fall If you spread your wings\\nYou can fly away with me\\nBut you can\\'t fly unless, unless you let yourself fall Mark my words, that\\'s all that I have\\nMark my words, give you all I got\\nIn every way I will\\nYou\\'re the only reason why\\nOh I don\\'t wanna live a lie\\nMark my words\\nMark my words So you heard it all before\\nFalling in and out of trust\\nTrying to rekindle us\\nOnly to lose yourself\\nBut I won\\'t let me lose you\\nAnd I won\\'t let us just fade away\\nAfter all that we\\'ve been through\\nI\\'ma show you more than I ever could say Mark my words, that\\'s all that I have\\nMark my words, give you all I got\\nIn every way I will\\nYou\\'re the only reason why\\nOh I don\\'t wanna live a lie\\nMark my words\\nMark my words Ah ah ah ah\\nAh ah ah ah\\nAh ah ah oh\\nAh ah ah ah I always knew you were the best\\nThe coolest girl I know\\nSo prettier than all the rest\\nThe star of my show\\nSo many times I wished you\\'d be the one for me\\nI never knew it\\'d get like this, girl, what you do to me\\nYou\\'re who I\\'m thinking of\\nGirl, you ain\\'t my runner-up\\nAnd no matter what you\\'re always number one My prized possession\\nOne and only\\nAdore ya\\nGirl, I want ya\\nThe one I can\\'t live without, that\\'s you, that\\'s you You\\'re my special\\nLittle lady\\nThe one that makes me crazy\\nOf all the girls I\\'ve ever known, it\\'s you, it\\'s you\\nMy favorite, my favorite, my favorite\\nMy favorite girl, my favorite girl You\\'re used to going out your way to impress these Mr. Wrongs\\nBut you can be yourself for me, I\\'ll take you as you are\\nI know they said, \"Believe in love,\" is a dream that can\\'t be real\\nSo, girl, let\\'s write a fairy tale\\nAnd show \\'em how we feel You\\'re who I\\'m thinking of\\nGirl, you ain\\'t my runner-up\\nAnd no matter what you\\'re always number one My prized possession\\nOne and only\\nAdore ya\\nGirl, I want ya\\nThe one I can\\'t live without, that\\'s you, that\\'s you You\\'re my special little lady\\nThe one that makes me crazy\\nOf all the girls I\\'ve ever known, it\\'s you, it\\'s you\\nMy favorite, my favorite, my favorite\\nMy favorite girl, my favorite girl My favorite, my favorite, my favorite\\nMy favorite girl, my favorite girl You take my breath away\\nWith everything you say\\nI just wanna be with you\\nMy baby, my baby, oh Promise I\\'ll play no games\\nTreat you no other way than you deserve\\n\\'Cause you\\'re the girl of my dreams My prized possession\\nOne and only\\nAdore ya\\nGirl, I want ya\\nThe one I can\\'t live without that\\'s you, that\\'s you\\nYou\\'re my special little lady\\nThe one that makes me crazy\\nOf all the girls I\\'ve ever known, it\\'s you, it\\'s you (My prized possession)\\n(One and only)\\n(Adore ya)\\n(Girl, I want ya) I want you\\n(The one I can\\'t live without, that\\'s you), that\\'s you, (that\\'s you), that\\'s you\\n(You\\'re my special little lady) You\\'re my special little lady\\n(The one that makes me crazy) The one that makes me crazy\\n(Of all the girls I\\'ve ever known, it\\'s you, it\\'s you) You\\'re my favorite girl\\n(My favorite, my favorite, my favorite) My favorite girl\\n(My favorite girl, my favorite girl) My favorite girl\\n(My favorite, my favorite, my favorite) My favorite girl\\n(My favorite girl, my favorite girl) My favorite girl Mhm, uh huh, yeah yeah, alright,\\nMhm, uh huh, yeah yeah, alright Say you love me\\nAs much as I love you yeah\\nWould you hurt me baby\\nCould you do that to me yeah\\nWould you lie to me baby\\n\\'Cause the truth hurts so much more\\nWould you do the things that drive me crazy\\nLeave my heart still at the door? Oh, I can\\'t help it I\\'m just selfish\\nThere\\'s no way that I could share you\\nThat would break my heart to pieces\\nHonestly the truth is If I could just die in your arms\\nI wouldn\\'t mind\\n\\'Cause every time you touch me\\nI just die in your arms\\nOoh, it feels so right\\nSo baby baby please don\\'t stop girl (Mhm, uh huh, yeah yeah, alright) Ooh, baby I know loving you ain\\'t easy\\nBut it sure is worth a try Ooh, if there is a reason to call me a fool\\n\\'Cause I love too hard\\nAre there any rules baby\\nIf this a lesson\\nThen baby teach me to behave\\nJust tell me what I gotta do\\nJust to stay right next to you Oh, I can\\'t help it I\\'m just selfish\\nThere\\'s no way that I could share you\\nThat would break my heart to pieces\\nHonestly the truth is If I could just die in your arms\\nI wouldn\\'t mind\\n\\'Cause every time you touch me\\nI just die in your arms\\nOoh, it feels so right\\nSo baby baby please don\\'t stop girl Basically I\\'m saying here\\nI can\\'t live without my baby\\nLoving you is so damn easy for me yeah\\nAin\\'t no need for contemplating\\nPromise you won\\'t keep me waiting\\nTell me baby, I\\'m all that you need If I could just die in your arms\\nI wouldn\\'t mind\\n\\'Cause every time you touch me\\nI just die in your arms\\nOoh, it feels so right\\nSo baby baby please don\\'t stop girl If I could die, arms\\nI\\'ma make you believe girl\\nThat I wouldn\\'t mind\\nEy ey ey, oh\\nDon\\'t stop baby no (no)\\nIt\\'s what you do to me yeah\\nWhoa, no, no, whoa whoa, ooh, whoa\\nBaby please don\\'t go girl\\nDon\\'t go, no no no You are to me\\nA part of me just like anatomy, oh\\nYou\\'re pulling me\\nYou\\'re pulling me in like you\\'re gravity, oh I\\'m notorious for thinking you\\'re\\nFull of beautiful instead of hollow\\nSugar on your lips, it\\'s hard to kill\\nJagged like a pill, so hard to swallow Am I in love with you? Am I in love with you?\\nOr am I in love with the feeling?\\nTrying to find the truth, trying to find the truth\\nSometimes the heart is deceiving\\nCan\\'t get out of my head, I need you to save me\\nIf I am delusional then maybe I\\'m crazy\\nIn love with you, am I in love with you?\\nOr am I in love with the feeling? (Oh) (Oh) You give to me\\nEverything, anything that I could dream\\nAnd at least that\\'s what it seems\\nCould it be I don\\'t know what\\'s good for me? I\\'m notorious for thinking you\\'re\\nFull of beautiful instead of hollow\\nSugar on your lips, it\\'s hard to kill\\nJagged like a pill, so hard to swallow Am I in love with you? Am I in love with you?\\nOr am I in love with the feeling?\\nTrying to find the truth, trying to find the truth\\nSometimes the heart is deceiving\\nCan\\'t get out of my head, I need you to save me\\nIf I am delusional then maybe I\\'m crazy\\nIn love with you, am I in love with you?\\nOr am I in love with the feeling? (Oh) (Oh) I\\'m sinking faster and faster\\nBetween heaven and disaster\\nSorry if I made you feel like\\nI\\'m standing on the borderline, oh Am I in love with you? Am I in love with you?\\nOr am I in love with the feeling?\\nTrying to find the truth, trying to find the truth\\nSometimes the heart is deceiving\\nCan\\'t get out of my head, I need you to save me\\nIf I am delusional then maybe I\\'m crazy\\nIn love with you, am I in love with you?\\nOr am I in love with the feeling? (Oh) (Oh) Damn, let me see\\nOh across the ocean, across the sea\\nStarting to forget the way you look at me now\\nOver the mountains, across the sky,\\nNeed to see your face, I need to look in your eyes\\nThrough the storm and through the clouds\\nBumps on the road and upside down\\nI know it\\'s hard, babe, to sleep at night\\nDon\\'t you worry \\'cause everything\\'s gonna be alright,\\nBe alright Through the sorrow, and the fights\\nDon\\'t you worry\\n\\'Cause everything\\'s gonna be alright\\nBe alright Through the sorrow, and the fights\\nDon\\'t you worry\\n\\'Cause everything\\'s gonna be alright\\nBe alright All alone, in my room\\nWaiting for your phone call to come soon\\nAnd for you, oh, I would walk a thousand miles,\\nTo be in your arms, holding my heart Ooh I, oh I, oh I, love you\\nAnd everything\\'s gonna be alright\\nBe alright You know that I care for you\\nI\\'ll always be there for you\\nI promise I will stay right here, yeah\\nI know that you want me to,\\nBaby we can make it through anything\\nAnd everything\\'s gonna be alright\\nBe alright Through the sorrow, and the fights\\nDon\\'t you worry\\n\\'Cause everything\\'s gonna be alright,\\nBe alright Through the sorrow, and the fights\\nDon\\'t you worry\\n\\'Cause everything\\'s gonna be alright, [Verse 1]\\nWhere\\'d the love go?\\nWhere\\'s the passion, oh?\\nWhy\\'s it feel like\\nI\\'m better off alone?\\nSay it\\'s my fault\\nThat we\\'re broken [Pre-Chorus]\\nYou know the truth, babe\\nWhat should I do, babe?\\nI wanted you but I don\\'t know what to do babe\\nI\\'m not gonna lose any sleep tryna know where you are\\nI\\'m doing just fine without you in my life at all [Chorus]\\nI\\'m doing better without you, you, you, you oh\\nI got nothing left for you, you, you, you oh\\nThought I was tripping on you, you, you, you oh\\nI\\'m so much better without you, you, you, you oh\\nWith you with you oh without you [Verse 2]\\nWhere did we go from here\\nDid we throw it all away\\nGuess the end is finally near\\nThere\\'s nothing left to say\\nYou got me open, now we are broken\\nMy heart is frozen since we haven\\'t spoken [Pre-Chorus]\\nYou know the truth babe\\nWhat did I do babe\\nI wanted you but I just don\\'t know what to do babe\\nI\\'m not gonna lose any sleep tryna know where you are\\nI\\'m doing just fine without you in my life at all (at all) [Chorus]\\nI\\'m doing better without you, you, you, you oh\\nI got nothing left for you, you, you, you oh\\nThought I was tripping on you, you, you, you oh\\nI\\'m so much better without you, you, you, you oh\\nWith you with you oh without you [Verse 3]\\nWhen I wake up in the morning and you\\'re not right there\\nGirl I\\'m wishing that I never put your flight back\\nIf I sent you a text, girl would you write back?\\nIf I left you a voicemail, yeah could you like that?\\nIt\\'s all good, it\\'s all g\\n\\'Cause I got more time, just to figure out me\\nIn the meantime, girls be around me\\nAnd I was so lost, until you found me\\nI\\'m doing better without you, you, you, you, you\\nI\\'m doing better without you, you, you [Chorus]\\nI\\'m doing better without you, you, you, you oh (so much better)\\nI got nothing left for you, you, you, you oh (woah)\\nThought I was tripping on you, you, you, you oh (trippin on you, trippin on you, trippin on you)\\nI\\'m so much better without you, you, you, you oh (trippin on you, tripping on you)\\nWith you with you oh without you Girl you don\\'t know how I feel\\nSince you been away oh baby\\nAny chance that you could take my call?\\nIf you got you today\\nYou say that you don\\'t wanna talk but it\\'s cool\\nBeen thinkin\\' about you all day long, hopin\\' you\\'ll pick up your phone\\nAnd I know that I don\\'t wanna lose your love oh baby, oh baby\\nOh girl I got a secret place that we can go\\n\\'Cause I really wanna be alone\\nBaby nobody else gotta know\\nJust meet me later on the low Don\\'t tell me you\\'re my heartbreaker\\n\\'Cause girl my heart\\'s breaking\\nDon\\'t tell me you\\'re my heartbreaker\\n\\'Cause girl my heart\\'s breaking (heartbreaker) Hey girl\\nGirl you see me standing here, standing in the rain oh baby\\nAny chance that you could stay right here?\\nAnd never go away?\\nYou say that you don\\'t wanna talk but it\\'s cool\\nBeen thinkin\\' about you all day long, hopin\\' you\\'ll pick up your phone\\nAnd I know that I don\\'t wanna lose your love oh baby, oh baby\\nOh girl I got a secret place that we can go\\n\\'Cause I really wanna be alone\\nBaby nobody else gotta know\\nJust meet me later on the low Don\\'t tell me you\\'re my heartbreaker\\n\\'Cause girl my heart\\'s breaking\\nDon\\'t tell me you\\'re my heartbreaker\\n\\'Cause girl my heart\\'s breaking (heart is breaking) So what I\\'m really tryin\\' to say is, and what I hope you understand\\nIs despite all the imperfections of who I am I still wanna be your man\\nI know it hasn\\'t been easy for us to talk with everyone being around,\\nBut this is, this is personal, this is for me and you\\nAnd I want you to know that I still love you\\nAnd I know the seasons may change,\\nBut sometimes love goes from sunshine to rain\\nBut I\\'m under this umbrella and I\\'m calling your name\\nAnd you know I don\\'t wanna lose that\\nI still believe in us\\nI still believe in love\\nI still believe in us\\nI hope you believe in love\\nThe way I believe in us You don\\'t see, is what you don\\'t see, is when we don\\'t speak\\nOr really don\\'t sleep, I wanna talk to ya\\nAnd if I had the world in my hands I\\'d give it all to ya\\nI wanna know if you feelin\\' the way that I\\'m feelin\\'\\nI wanna know if you feelin\\' the way that I, the way that I\\nYou told me to be careful with your heart, your heart\\nYou told me to be careful with your heart, your heart\\nBe careful with your heart Oh-oh, just as sure as the stars in the sky\\nI need you to shine in the light\\nNot just for the meanwhile, for a long long time\\nBetter believe it\\nUh-oh, whenever you\\'re not in my presence\\nIt feels like I\\'m missing my blessings, yeah\\nSo I sleep through the daylight, stay awake all night\\n\\'Til you\\'re back again, yeah, yeah You think I\\'m biased\\nTo my significant other\\nYou hit it right on the head\\nOnly been missing my lover\\nGot a whole lot of texts in my phone and I don\\'t reply\\nBut the next day bothers you, I You\\'re all that matters to me\\nYeah yeah, ain\\'t worried about nobody else\\nIf it ain\\'t you, I\\'m not myself\\nYou make me complete\\nYou\\'re all that matters to me\\nYeah, yeah, what\\'s a king bed without a queen\\nThere ain\\'t no \"I\" in team\\nYou make me complete\\nYou\\'re all that matters to me Take the gas out the car it won\\'t drive\\nThat\\'s how I feel when you\\'re not by my side\\nWhen I wake up in the morning up under you, and only you\\nUh-oh, I\\'m grateful for your existence\\nFaithful no matter the distance\\nYou\\'re the only girl I see\\nFrom the bottom of my heart, please believe You\\'re all that matters to me\\nYeah yeah, ain\\'t worried about nobody else\\nIf it ain\\'t you, I\\'m not myself\\nYou make me complete\\nYou\\'re all that matters to me\\nYeah, yeah, what\\'s a king bed without a queen\\nThere ain\\'t no \"I\" in team\\nYou make me complete\\nYou\\'re all that matters to me Yeah, yeah, yeah, yeah\\nYou\\'re all that matters to me\\nYeah, yeah, yeah, yeah\\nYou\\'re all that matters to me Across the ocean, across the sea\\nStarting to forget the way you look at me now\\nOver the mountains, across the sky\\nNeed to see your face\\nI need to look in your eyes\\nThrough the storm and\\nThrough the clouds\\nBumps in the road and\\nUpside down\\nI know it\\'s hard babe\\nTo sleep at night\\nDon\\'t you worry\\n\\'Cause everythings gonna be alright, I\\nBe alright, I\\nThrough your sorrow,\\nIn the fights\\nDont you worry\\n\\'Cause everythings gonna be alright, I\\nBe alright, I\\nAll alone in my room\\nWaiting for your phone call to come soon\\nAnd for you, oh, I would walk a thousand miles\\nTo be in your arms,\\nHolding my heart\\nOh I, Oh I\\nI love you\\nAnd everythings gonna be alright, I\\nBe alright, I\\nThrough the long nights,\\nAnd the bright lights\\nDon\\'t you worry babe,\\n\\'Cause everything\\'s gonna be alright, I\\nBe alright, I\\nYou know that I care for you\\nIll always be there for you\\nPromise I will stay right here\\nI know that you want me too\\nBaby we can make it through anything\\nCause everythings gonna be alright, I\\nBe alright, I\\nThrough the sorrow,\\nIn the fights,\\nDon\\'t you worry\\n\\'Cause everythings gonna be alright\\nBe alright, I\\nThrough the sorrow,\\nIn the fights,\\nDon\\'t you worry\\n\\'Cause everythings gonna be alright Oh oh for you I\\'d write a symphony!\\nI\\'d tell the violins\\nIt\\'s time to sink or swim\\nMarch and play for ya! For you I\\'d be, whoa\\nRunning a thousand miles to get to where you are\\nStep to the beat of my heart.\\nI don\\'t need a whole lot but coming from you I admit I\\nRather give you the world or we can share mine!\\nI know that I won\\'t be the first one given you all this attention, baby listen I just need somebody to love\\nI-I, I don\\'t need too much just need somebody to love (Somebody to love)\\nI don\\'t need nothing else, I promise girl I swear.\\nI just need somebody to love. (I need somebody I-I need somebody\\nI need somebody I-I need somebody) Everyday I bring the sun around,\\nI sweep away the clouds.\\nSmile for me (Smile for me) I would take, every second, every single time\\nSpend it like my last dime, step to the beat of my heart. I don\\'t need a whole lot but coming from you I admit I\\nI\\'d rather give you the world or we can share mine! I know I won\\'t be the first one,\\nGiven you all this attention baby listen! I just need somebody to love I-I I don\\'t need too much\\nJust need somebody to love. (just need somebody to love)\\nI don\\'t need nothing else, I promise girl I swear.\\nI just need somebody to love. I need somebody, I-I need somebody,\\nI need somebody, I-I need somebody.\\nI need somebody, I-I need somebody,\\nI need somebody, I-I need somebody. (Somebody to love, somebody to love.)\\nI just need somebody to love. And you can have it all, anything you want.\\nI can bring you, give you, the finer things yeah! But what I really want, I can\\'t find \\'cause,\\nMoney can\\'t find me somebody to love. Oh whoa, find me somebody to love ooh I need somebody to love, I-I don\\'t need too much\\nJust somebody to love, somebody to love,\\nI don\\'t need nothing else,\\nI promise girl I swear, I just need somebody to love. I need somebody, I-I need somebody,\\nI need somebody, I-I need somebody somebody to love\\nI need somebody, I-I need somebody,\\nI need somebody, (I swear I just need somebody to love) I-I need somebody to love (I need somebody) Is she out there, is she out there, is she out there!\\nI just need somebody to love. With you,\\nWith you,\\nI wish we had another time,\\nI wish we had another place Now Romeo and Juliet,\\nBet they never felt the way we felt,\\nBonnie and Clyde,\\nNever had to hide like,\\nWe do,\\nWe do You and I both know it can\\'t work,\\nIt\\'s all fun and games,\\n\\'Til someone gets hurt,\\nAnd I don\\'t,\\nI won\\'t let that be you Now you don\\'t wanna let go,\\nAnd I don\\'t wanna let you know,\\nThere might be something real between us two, who knew?\\nNow we don\\'t wanna fall but,\\nWe\\'re tripping in our hearts and it\\'s reckless and clumsy,\\n\\'Cause I know you can\\'t love me here I wish we had another time,\\nI wish we had another place,\\nBut everything we had is stuck in the moment,\\nAnd there\\'s nothing my heart can do (can do),\\nTo fight with time and space \\'cause,\\nI\\'m still stuck in the moment with you See like Adam and Eve,\\nTragedy was our destiny,\\nLike Sunny and Cher,\\nI don\\'t care,\\nI got you baby See we both,\\nFightin\\' every inch of our fiber,\\n\\'Cause ain\\'t no way,\\nIt\\'s gonna end right but,\\nWe are both too foolish to stop Now you don\\'t wanna let go,\\nAnd I don\\'t wanna let you know,\\nThat there might be something real between us two, who knew?\\nAnd we don\\'t wanna fall but,\\nWe\\'re tripping in our hearts and it\\'s reckless and clumsy,\\nAnd I know you can\\'t love me here I wish we had another time,\\nI wish we had another place,\\nBut everything we had is stuck in the moment \\'cause,\\nI\\'m still stuck in the moment with you See like,\\nJust because this cold cold world saying we can\\'t be,\\nBaby, we both have the right to disagree,\\nAnd I ain\\'t with it,\\nAnd I don\\'t wanna be so old and gray,\\nReminiscin\\' \\'bout these better days,\\nBut convention\\'s telling us to let go,\\nSo we\\'ll never know I wish we had another time,\\nI wish we had another place,\\n\\'Cause everything we did,\\nAnd everything we have is stuck in the moment,\\nYeah I wish we had another time,\\nI wish we had another place,\\nBut everything we have is stuck in the moment,\\nAnd there\\'s nothing my heart can do,\\n(Nothing my heart can do),\\nTo fight with time and space \\'cause, (and space)\\nI\\'m still stuck in the moment with you,\\nYeah, You\\'re beautiful, beautiful, you should know it\\n(You\\'re beautiful, beautiful, you should know it)\\nI think it\\'s time, think it\\'s time that you show it\\nYou\\'re beautiful, beautiful Baby what you doing? Where you at, where you at?\\nWhy you working so shy? Holdin\\' back, holdin\\' back\\nWe\\'re not the only ones doing it like that, yeah, like that\\nSo DJ bring that, bring that, bring that, bring that back \\'Cause all around the world people want to be loved\\nYeah, \\'cause all around the world, they\\'re no different than us\\nAll around the world people want to be loved\\nAll around the world, they\\'re no different than us\\nAll around the world (All around the world) You\\'re crazy girl, crazy girl, you should know it\\n(You\\'re crazy girl, crazy girl, gonna show it)\\nLight it up, light it up, so explosive\\nYou\\'re crazy girl, yeah, yeah Baby what you doing? Where you at, where you at?\\nWhy you working so shy? Holdin\\' back, holdin\\' back\\nWe\\'re not the only ones doing it like that, yeah, like that\\nSo DJ bring that, bring that, bring that, bring that back All around the world people want to be loved\\nYeah, all around the world, they\\'re no different than us\\nAll around the world people want to be loved\\nAll around the world, they\\'re no different than us\\nAll around the world Yeah\\nOnce again, the dynamic duo\\'s back at it\\nJ-B, Luda!\\nI love everything about you\\nYou\\'re imperfectly perfect\\nEveryone is itching from beauty\\nBut you\\'re scratching the surface\\nLost found is never found\\nCan the DJ please reverse it?\\nIn lights we pay for change\\nLet\\'s make every second work it\\nAny day can work it if you\\'re working with people saying\\nYou don\\'t deserve it and don\\'t give in\\n\\'Cause hate may win some battles but love wins in the end\\nYou shine just like the sun while the moon and the starts reflect your light\\nBeauty revolves around you\\nSo you like that? All around the world people want to be loved\\nAll around the world, they\\'re no different than us\\nAll around the world (all around the world, people want to be loved)\\nAll around the world (all around the world, they\\'re no different than us)\\nAll around the world (all around the world, people want to be loved)\\nAll around the world (all around the world, they\\'re no different than us)\\nAll around the world Yeah, yeah\\nIt don\\'t make no sense unless I\\'m doing it with you\\nIt don\\'t make no sense unless I\\'m doing it with you (Alright)\\nThe sun don\\'t set the same as you\\'re watching it go down with me\\nAnd I won\\'t sleep the same unless you\\'re waking up in here with me\\nOh, my heart\\'s a vacant house when you\\'re gone away, it\\'s so empty\\nAnd love don\\'t make no sense when it\\'s empty (Oh no)\\nI\\'ve driven almost every car\\nIt ain\\'t the same when I\\'m without you, boo\\nBeen around a million stars\\nNone of \\'em shine brighter than you\\nThe sky be so dark now without you\\nYeah, ooh, baby It don\\'t make no sense unless I\\'m doing it with you\\nIt don\\'t make no sense unless I\\'m doing it with you\\nOh been around the world ain\\'t the same without you\\nIt don\\'t make no sense unless I\\'m doing it with you Focus ain\\'t the same if the picture ain\\'t got you in it\\nIn every limelight\\nEmotions ain\\'t the same if it ain\\'t about you, I don\\'t get it\\nEver since the beginning now\\nYou had that effect on me\\nAll I wanna do is you, oh\\nI mean that so literally\\nDon\\'t nobody go harder than you\\nAll of the angels must be lonely now, without you, woah It don\\'t make sense, no\\nIt don\\'t make no sense unless I\\'m doing it with you\\n\\'Cause I\\'m doing it with you baby\\nIt don\\'t make no sense unless I\\'m doing it with you\\nI only want to hear your voice, yeah\\nOh, been around the world, ain\\'t the same without you\\nHad to find out the hard way\\nIt don\\'t make no sense unless I\\'m doing it with you\\n(Going way up, way up)\\nIt don\\'t make no sense unless I\\'m doing it with you\\n(Yeah, slow down stay up, stay up, stay up)\\nIt don\\'t make no sense unless I\\'m doing it with you Time and time again I break a plan\\nWithout you girl I ain\\'t the man\\nCould never be all I could be\\nYou over stand, I\\'m incomplete\\nApparently, you gotta know I hate that\\nHow am I supposed to take that?\\nBoo\\'d up, missing all of that\\nGotta be laying in that\\nRolled up, put a flame to that\\nCouple times you would made it back, be patient\\nWon\\'t you pull up to me now, I\\'m forever young\\nIt\\'s amazing\\nI don\\'t want to sleep unless you at home It don\\'t make sense, no\\nIt don\\'t make no sense unless I\\'m doing it with you\\nNo, It don\\'t make sense\\nIt don\\'t make no sense unless I\\'m doing it with you\\nNo, it don\\'t make sense, it don\\'t make sense\\nIt don\\'t make no sense unless I\\'m doing it with you\\n(Alright, yeah, alright) Oh oh oh\\nYeah\\nHm hm hm\\nI wait on you\\nForever\\nAny day\\nHand and foot\\nYour world\\nIs my world\\nYeah\\nAin\\'t no way\\nYou ever\\nGonna get any\\nLess than you should \\'Cause baby\\nYou smile\\nI smile\\nWhoa\\n\\'Cause whenever\\nYou smile\\nI smile\\nHey, hey, hey Your lips\\nMy biggest weakness\\nShouldn\\'t have let you know\\nI\\'m always gonna do what they say\\nIf you need me\\nI come runnin\\'\\nFrom a thousand miles away When you smile\\nI smile\\nWhoa\\nYou smile\\nI smile\\nHey Baby take my\\nOpen heart\\nAnd all it offers\\n\\'Cause this is as\\nUnconditional as it\\'ll\\nEver get you ain\\'t\\nSeen nothing yet\\nI won\\'t ever\\nHesitate\\nTo give you more \\'Cause baby\\nYou smile\\nI smile\\nWhoa whoa ah\\nYou smile\\nI smile\\nHey, hey, hey\\nYou smile\\nI smile\\nI smile, I smile, I smile\\nYou smile\\nI smile Make me smile baby\\nBaby you won\\'t ever want for nothing\\nYou are my ins and my means now\\nWith you there\\'s no in between\\nI\\'m all in \\'Cause my cards are on the table\\nAnd I\\'m willing and I\\'m able\\nBut I fold\\nTo your wish \\'Cause it\\'s my command\\nHey, hey, hey You smile\\nI smile\\nWhoa whoa ah ah\\nYou smile\\nI smile\\nHey, hey, hey You smile\\nI smile\\nI smile, I smile, I smile\\nYou smile\\nI smile\\nYou smile\\nI smile\\nYou smile\\nI smile Feelin\\' the remnants, gone in an instance\\nBlink of an eye, no goodbye\\nI had a notion, deep as the ocean\\nBlue like the sky, oh my Like a permanent stain\\nWishin\\' I could just wash away\\nAway\\nAnd our love was in vain\\nWho was to blame for all the pain? For all the pain? If I would\\'ve known, if I would\\'ve known\\nIf I would have known it could have been you\\nIf I had the chance, if I had the chance I\\'d make us brand new\\nI never wanted to be, wanted to be your remnant\\nOh, no, but if I, if I would\\'ve known\\nIf I would have known it could have been you\\nBeen you There are percussions, I\\'m missing your loving\\nMust be the night, the ghost of a life\\nAll of the memories\\nA serenity dwindling my mind\\nAll the time Like a permanent stain\\nWishin\\' I could just wash away\\nAway\\nHate or love was insane\\nWho was to blame for all the pain? For all the pain? If I would\\'ve known, if I would\\'ve known\\nIf I would have known it could have been you\\nIf I had the chance, if I had the chance I\\'d make us brand new\\nI never wanted to be, wanted to be your remnant\\nOh, no, but if I, if I would\\'ve known\\nIf I would have known it could have been you\\nBeen you If I would\\'ve known, if I would\\'ve known\\nIf I would have known it could have been you\\nIf I had the chance, if I had the chance I\\'d make us brand new\\nI never wanted to be, wanted to be your remnant\\nOh, no, but if I, if I would\\'ve known\\nIf I would have known it could have been you\\nBeen you [Chorus]\\nYou\\'re the only girl that I see\\nI\\'m the only guy that you need\\nAnd there\\'s a viable term in me\\nSaid you want this\\nDon\\'t text, take a deep breath\\n\\'Cause I don\\'t need you to stress, hey hey\\nBaby, don\\'t stress\\nStress out over me [Verse 1]\\nSo when I invite you\\nBaby don\\'t shy, oh\\nOpen your mind, don\\'t knock it till you try it, darling\\nShow of, when you come closer\\nDon\\'t waste no time, I need it every minute darling\\nOh, believe in me\\nGuaranteeing in my loyalty\\nHow many times you don\\'t want me to leave?\\nWant me to leave, no [Chorus]\\nYou\\'re the only girl that I see\\nI\\'m the only guy that you need\\nAnd there\\'s a viable term in me\\nSaid you want this\\nDon\\'t text, take a deep breath\\n\\'Cause I don\\'t need you to stress, hey hey\\nBaby, don\\'t stress\\nStress out over me [Verse 2]\\nOh, oh, no\\nLet\\'s take it slow\\nFrom the bottom to the top to (?)\\nNo need to turn up\\nLike the echo from your voice set the world shook\\nEvery (?) will achieve\\nDon\\'t hesitate to follow my lead\\nHow many times you don\\'t want me to leave?\\nYou don\\'t want me to leave, no [Chorus]\\nYou\\'re the only girl that I see (only girl I see)\\nI\\'m the only guy that you need (I\\'m the only guy that you need)\\nAnd there\\'s a viable term in me\\nSaid you want this, want this\\nDon\\'t text, don\\'t text, take a deep breath, take a deep breath\\n\\'Cause I don\\'t need you to stress\\nI don\\'t need you to stress out over me, hey hey\\nStress out over me\\nBaby, don\\'t stress over me Believe, believe, believe I don\\'t know how I got here\\nI knew it wouldn\\'t be easy\\nBut your faith in me was so clear\\nIt didn\\'t matter how many times I got knocked on the floor\\nBut you knew one day I would be standing tall\\nJust look at me now \\'Cause everything starts from something\\nBut something would be nothing\\nNothing if your heart didn\\'t dream with me\\nWhere would I be, if, if you didn\\'t believe\\nBelieve There were days when I was just broken, you know\\nThere were nights when I was doubting myself\\nBut your kept my heart from foldin\\'\\nIt didn\\'t matter how many times I got knocked on the floor\\nYou knew one day I would be standing tall\\nAnd just look at us now \\'Cause everything starts from something\\nBut something would be nothing\\nNothing if your heart didn\\'t dream with me\\nWhere would I be, if, if you didn\\'t believe Where would I be, if you, if you\\nIf you didn\\'t believe\\nWould you know, how it feels\\nTo touch the sky, if you didn\\'t believe\\nBelieve, believe, yeah It didn\\'t matter how many times I got knocked on the floor\\nYou knew one day I would be standing tall\\nAnd just look at us now \\'Cause everything starts from something\\nBut something would be nothing\\nNothing if your heart didn\\'t dream with me \\'Cause everything starts from something\\nBut something would be nothing\\nNothing if your heart didn\\'t dream with me\\nWhere would I be, if you didn\\'t believe Where would I be, if you\\nIf you didn\\'t believe\\nWould you know, how it feels\\nTo touch the sky, yeah if you didn\\'t believe\\n(Believe, believe) where would I be, if you didn\\'t believe Happy birthday You ain\\'t gotta question it\\nYou already know the answer\\nThe truth don\\'t make us relevant\\nHurts but it\\'s necessary\\nDon\\'t want us to lose what we are\\nDon\\'t want us to lose what we are\\nLose what we are If it ain\\'t broke then we don\\'t need to fix it\\nBelieving in what she say\\'ll have you livid\\nKnow they won\\'t be happy \\'til our love is over\\nThey tryna break us up but you don\\'t wanna get it They ain\\'t never had your back like how I got it\\nThey ain\\'t never had a chance how we got it\\nSo they can\\'t help but to come and hate on it\\nThey see what we got and you know they want it Don\\'t question it\\nYou ain\\'t gotta question it\\nYou already know the answer\\nThe truth don\\'t make us relevant\\nHurts but it\\'s necessary\\nDon\\'t want us to lose what we are\\nDon\\'t want us to lose what we are\\nLose what we are It\\'s like you\\'re always looking for a problem\\nThe raining of equations for you to solve \\'em\\nSo quick to turn nothin\\' right into somethin\\'\\nGet the numbers out my phone, go \\'head and call \\'em They ain\\'t never had my back like you got it\\nThey ain\\'t never had a chance how you got it\\nSo they can\\'t help but to come and hate on it\\nThey see what we got and you know they want it Don\\'t question it\\nYou ain\\'t gotta question it (oh)\\nYou already know the answer (already know the answer)\\nThe truth don\\'t make us relevant (the truth don\\'t make us relevant)\\nHurts but it\\'s necessary (yeah)\\nDon\\'t want us to lose what we are\\nDon\\'t wanna lose, no\\nDon\\'t want us to lose what we are (yeah)\\nLose what we are (yeah) She texts me \"How\\'s you love life?\"\\nAnd \"How are you?\", I said \"I\\'m good\"\\nThey only get as close as you allow them to\\nWe should be closer together, warm oceans, better weather\\nInstead of us playing games forever, she says whatever\\nI says whatever, who get you wetter than a half moon wearer\\nHistory sweater, serendipity when you with me\\nSwear you love that one thing we did that one time in that one place\\nBlew your mind, you got my mind going when I\\'m home\\nI\\'m serious girl, a much older dude, a whole forty-two\\nI\\'ve accomplished my goals, it\\'s only you\\nYou and I in that wraith, retire my pimp super-fly cape\\nJust my Mets cap and my badge and I\\'m straight, Esco Don\\'t question it\\nYou ain\\'t gotta question it (oh)\\nYou already know the answer (you already know the answer)\\nThe truth don\\'t make us relevant (the truth don\\'t make us relevant)\\nIt hurts but it\\'s necessary (yeah)\\nDon\\'t want us lose what we are\\nDon\\'t wanna lose no\\nDon\\'t want us lose what we are (we can\\'t lose, nah, nah)\\nLose what we are (uh) It\\'s a big big world\\nIt\\'s easy to get lost in it\\nYou\\'ve always been my girl (ah)\\nAnd I\\'m not ready to call it quits\\nWe can make the sun shine in the moonlight\\nWe can make the gray clouds turn to blue skies\\nI know it\\'s hard baby believe, me That we can go nowhere but up\\nFrom here my dear\\nBaby we can go nowhere but up\\nTell me what we got to fear\\nWe\\'ll take you to the sky past the moon\\nThrough the galaxy\\nAs long as you\\'re with me baby\\nHonestly (honestly)\\nWith the strength of our love\\nWe can go nowhere but up It\\'s a big, big world\\nAnd girl, I\\'m gonna show you all of it\\nI\\'m gonna lace you with pearls, oh\\nFrom every ocean that we\\'re swimming in\\nWe can make the sun shine in the moonlight\\nWe can make those gray clouds turn to blue skies\\nYeah I know it\\'s hard baby believe me (oh) That we can go nowhere but up\\nFrom here my dear\\nBaby we can go nowhere but up, oh\\nTell me what we got to fear\\nWe\\'ll take you to the sky past the moon\\nTo the galaxies\\nAs long as you\\'re with me baby\\nHonestly (honestly)\\nWith the strength of our love\\nWe can go nowhere but up\\n(Nowhere but oh up, whoa whoa)\\n(Nowhere but oh up, whoa whoa) Baby we were underground\\nWe\\'re on the surface now\\nWe\\'re gonna make it girl I promise\\nIf you believe in love\\nAnd you believe in us\\nWe can go nowhere but up We can go nowhere but up (yeah yeah)\\nFrom here my dear (yeah whoa)\\nBaby we can go nowhere but up\\nJust tell me what we got to fear\\nWe\\'ll take you to the sky past the moon\\nTo the galaxy\\nAs long as you\\'re with me baby\\nHonestly (honestly)\\nWith the strength of our love\\nWe can go nowhere but up (We can go oh oh, whoa whoa)\\nNowhere but up\\n(We can go oh oh, whoa whoa)\\nWhoa\\n(Nowhere but oh up, whoa whoa)\\nYeah\\n(Nowhere but oh up, whoa whoa)\\nYeah yeah It feels like we\\'ve been out at sea, whoa\\nSo back and forth that\\'s how it seems, whoa\\nAnd when I wanna talk you say to me\\nThat if it\\'s meant to be it will be, whoa oh no So crazy in this thing we call love\\nAnd now that we\\'ve got it we just can\\'t give up\\nI\\'m reaching out for you\\nGot me out here in the water, and I I\\'m overboard, and I need your love\\nPull me up, I can\\'t swim on my own\\nIt\\'s too much, feel like I\\'m drowning without your love\\nSo throw yourself out to me\\nMy lifesaver (Lifesaver, oh lifesaver)\\nMy lifesaver (Lifesaver, oh lifesaver) Whoa Never understood you when you\\'d say, whoa\\nWanted me to meet you halfway, whoa\\nFelt like I was doing my part\\nYou kept thinking you were coming up short\\nIt\\'s funny how things change cause now I see oh whoa So crazy in this thing we call love\\nAnd now that we\\'ve got it we just can\\'t give up\\nI\\'m reaching out for ya\\nGot me out here in the water, and I I\\'m overboard (overboard)\\nAnd I need your love\\nPull me up (pull me up)\\nI can\\'t swim on my own\\nIt\\'s too much (it\\'s too much)\\nFeels like I\\'m drowning (oh)\\nWithout your love\\nSo throw yourself out to me, my lifesaver Oh, it\\'s supposed to be some give and take I know\\nBut you\\'re only taking and not giving anymore\\nSo what do I do (so what do I do)\\n\\'Cause I still love you\\n(I still love you baby)\\nAnd you\\'re the only one who can save me Whoa, whoa, whoa, oh I\\'m overboard\\nAnd I need your love\\nPull me up (pull me up)\\nI can\\'t swim on my own\\nIt\\'s too much (it\\'s too much)\\nFeels like I\\'m drowning without your love\\n(I\\'m drowning baby, I\\'m drowning)\\nSo throw yourself out to me (I can\\'t swim)\\nMy lifesaver (Lifesaver, oh lifesaver)\\nMy lifesaver\\nIt\\'s crazy crazy crazy (Lifesaver, oh lifesaver)\\nLifesaver oh (Lifesaver, oh lifesaver)\\nMy lifesaver (Lifesaver, oh lifesaver) Yeah Ooh whoa, ooh whoa, ooh whoa\\nYou know you love me, I know you care\\nJust shout whenever and I\\'ll be there\\nYou are my love, you are my heart\\nAnd we will never, ever, ever be apart Are we an item? Girl quit playin\\'\\nWe\\'re just friends, what are you sayin\\'\\nSaid there\\'s another, look right in my eyes\\nMy first love, broke my heart for the first time And I was like baby, baby, baby oh\\nLike baby, baby, baby no\\nLike baby, baby, baby oh\\nI thought you\\'d always be mine (mine)\\nBaby, baby, baby oh\\nLike baby, baby, baby no\\nLike baby, baby, baby ooh\\nI thought you\\'d always be mine Oh for you, I would have done whatever\\nAnd I just can\\'t believe we ain\\'t together\\nAnd I wanna play it cool\\nBut I\\'m losin\\' you\\nI\\'ll buy you anything\\nI\\'ll buy you any ring\\nAnd I\\'m in pieces, baby fix me\\nAnd just shake me, \\'til you wake me from this bad dream\\nI\\'m goin\\' down, down, down, down\\nAnd I can\\'t believe my first love won\\'t be around And I\\'m like baby, baby, baby oh\\nLike baby, baby, baby no\\nLike baby, baby, baby oh\\nI thought you\\'d always be mine (mine)\\nBaby, baby, baby oh\\nLike baby, baby, baby no\\nLike baby, baby, baby ooh\\nI thought you\\'d always be mine Luda, when I was thirteen, I had my first love\\nThere was nobody that compared to my baby\\nAnd nobody came between us no one could ever come above\\nShe had me goin\\' crazy\\nOh I was starstruck\\nShe woke me up daily\\nDon\\'t need no Starbucks\\nShe made my heart pound\\nAnd skip a beat when I see her in the street and\\nAt school on the playground\\nBut I really wanna see her on the weekend\\nShe know she got me dazin\\'\\n\\'Cause she was so amazin\\'\\nAnd now my heart is breakin\\'\\nBut I just keep on sayin\\' Baby, baby, baby oh\\nLike baby, baby, baby no\\nLike baby, baby, baby oh\\nI thought you\\'d always be mine (mine)\\nBaby, baby, baby oh\\nLike baby, baby, baby no\\nLike baby, baby, baby ooh\\nI thought you\\'d always be mine Now I\\'m all gone\\nYeah, yeah, yeah\\nYeah, yeah, yeah (now I\\'m all gone)\\nYeah, yeah, yeah\\nYeah, yeah, yeah (now I\\'m all gone)\\nYeah, yeah, yeah\\nYeah, yeah, yeah (now I\\'m all gone)\\nGone, gone, gone I\\'m gone gone You\\'ve got that smile,\\nThat only heaven can make.\\nI pray to God everyday,\\nThat you keep that smile. Yeah, you are my dream,\\nThere\\'s not a thing I won\\'t do.\\nI\\'ll give my life up for you,\\n\\'Cause you are my dream. And baby, everything that I have is yours,\\nYou will never go cold or hungry.\\nI\\'ll be there when you\\'re insecure,\\nLet you know that you\\'re always lovely.\\nGirl, \\'cause you are,\\nThe only thing that I got right now One day when the sky is falling,\\nI\\'ll be standing right next to you,\\nRight next to you.\\nNothing will ever come between us,\\n\\'Cause I\\'ll be standing right next to you,\\nRight next to you.\\nYou had my child,\\nYou would make my life complete.\\nJust to have your eyes on little me,\\nThat\\'d be mine forever. And baby, everything that I have is yours\\nYou will never go cold or hungry\\nI\\'ll be there when you\\'re insecure\\nLet you know that you\\'re always lovely\\nGirl, \\'cause you are,\\nThe only thing that I got right now One day when the sky is falling,\\nI\\'ll be standing right next to you,\\nRight next to you.\\nNothing will ever come between us,\\nI\\'ll be standing right next to you,\\nRight next to you. We\\'re made for one another\\nMe and you\\nAnd I have no fear\\nI know we\\'ll make it through One day when the sky is falling\\nI\\'ll be standing right next to you\\nOh oh oh oh One day when the sky is falling,\\nI\\'ll be standing right next to you,\\nRight next to you.\\nNothing will ever come between us,\\nI\\'ll be standing right next to you,\\nRight next to you. Oh nah nah\\nOh yeah\\nStand by my side, side, side\\nWhen the sky falls down\\nI\\'ll be there, I\\'ll be there You\\'ve got that smile,\\nThat only heaven can make.\\nI pray to God everyday,\\nTo keep you forever.\\nOoh I don\\'t work hard when it\\'s easy\\nI put in work when it\\'s hard\\nGirl I never believed in\\nLove until I had yours\\nThis is more than a season\\nAnd I\\'m not just sprung\\nI\\'m not afraid to tell ya\\nThat you\\'re the one\\nThe one I wake up thinking about\\nThe one I can run to when I\\'m feeling down\\nLife is all good when you\\'re around\\nGirl nobody from the past is\\nBeating you right now \\'Cause I take you home to mama\\nLet you meet my friends\\n\\'Cause you don\\'t come with drama\\nSo I want you til\\' the world ends\\nYou\\'re way more than worth it\\nBut I don\\'t feel like I deserve it\\nYou got the pieces\\nYou\\'re my kind of perfect I don\\'t work hard when it\\'s easy\\nI put in work when it\\'s hard\\nGirl I never believed in,\\nLove until I had yours\\nThis is more than a season\\nAnd I\\'m not just sprung\\nI\\'m not afraid to tell ya\\nThat you\\'re the one\\nI\\'m the one you wake up thinking about\\nThe one I can run to when I\\'m feeling down\\nLife is all good when you\\'re around\\nGirl nobody from the past is\\nBeating you right now \\'Cause I take you home to mama\\nI let you meet my friends\\n\\'Cause you don\\'t come with drama\\nSo I want you til\\' the world ends\\nYou\\'re way more than worth it\\nAnd I don\\'t feel like I deserve it\\nYou got the pieces\\nYou\\'re my kind of perfect\\nYou\\'re my kind of perfect, whoah Ooh whoah\\nOoh whoah\\nWhoah I take you home, home, home to mama\\nOh, oh, oh [Justin Bieber]\\naw yeah, aw yeahh,\\nall i care about is money and the city that i\\'m from\\ni\\'mma sing until i feel it, i\\'mma go until it\\'s done\\ni don\\'t need to say wassup and my excuse is that i\\'m young\\nand i\\'m only getting older, somebody shoulda told you\\ni\\'m on one, you know, i\\'m on one, yeah\\ni said i\\'m on one, you know, i\\'m on one\\ntwo white cups and i got that drink, it could be purple it could\\nbe pink, \\'pending on how you mix that ish, money that\\nwe got, never get that ish, and i\\'m on one, yeah, you know i\\'m one one, yeahhh you know what i like\\noh yeah, oh yeah, huh\\noh yes, oh yeah, uh\\noh yeah, oh yeah [Justin Bieber]\\nyou just need to listen, i teach you how to fix it\\ncause you\\'re the only one, cause i don\\'t trust these women\\ni don\\'t, i don\\'t trust these women, cause they might have me slipping\\nyou\\'re the only one, i don\\'t trust these women\\ncause they might have me slipping, cause you\\'re the only one\\ncause i don\\'t trust these women, i don\\'t, i don\\'t trust these women,\\ncause they might have me slippping\\ncause you\\'re the only one oh whoa, trust issues\\noh whoa, whoa, trust issues\\noh whoa, trust issues\\noh whoa, whoa, whoa, whoa\\noh yeah, yeah. [Drake]\\noh yeah, let\\'s call up on drinkin\\' lets all get wasted,\\non drinkin\\', let\\'s all get faded [Justin Bieber]\\noh yeah, oh yeah [Drake]\\ndrizzy drake, check me out\\ncoming live from the mothafucking north side\\nkick game, run game, run it real good\\nbut never ever have my bitches sitting court side\\nsame nigga that you knew way back when\\nyou acting like it\\'s somebody you don\\'t know\\ntell me, how the fuck we supposed to stay friends\\nwhen you got a bunch of feelings that you don\\'t show?\\ni could tell, i could tell, i could tell\\ncertain people don\\'t like me no more\\nnew shit don\\'t excite me no more\\nguess that they don\\'t really make \\'em like me no more\\nuh, you can look me in my eyes and see i ain\\'t myself\\ncause if y\\'all what i created then i hate myself\\nbut still, let them girls in and tell them all\\nleave their cell phones on the table where we see them\\ni\\'m all day with it man, a.m to the p.m\\nniggas hating, i just wish that they would say it when they see \\'em [Justin Bieber]\\nthat\\'s that ish that drive me crazy [both]\\nand that\\'s all that i\\'ve been getting lately [Drake]\\nand it\\'s probably why i\\'m scared to put the time in\\nwomen want to fuck like they\\'re me and i\\'m them\\nlooking for some things and i think that i can find them in you, in you\\noh whoa,trust issues.\\noh whoa, whoa, trust issues,\\noh whoa, trust issues,\\noh whoa, whoa, whoa, whoa. yeah, aw yeah, aw yeah,\\nlet\\'s call up on drinkin\\' let\\'s all get wasted,\\non drinkin\\' let\\'s all get faded\\nyeah, aw yeah, aw yeah,\\ncall up on drinkin\\' let\\'s, let\\'s call up on, uh Close to you\\nClose to you\\nYou... You ain\\'t gotta answer none of my calls\\nI\\'m believing you\\'ll pick up one day\\nI don\\'t wanna add to your pain at all\\nI\\'m praying that time makes a change in your life\\nI\\'m realizing how much you made a change in my life\\nAnd I don\\'t wanna spend it with nobody else\\nHear me? don\\'t nobody deserve myself\\nOh no, baby what I\\'m saying is You ain\\'t gotta make your mind up\\nYou ain\\'t gotta make your mind up right now\\nRight now, don\\'t rush, no pressure\\nYou ain\\'t gotta make your mind up\\nYou ain\\'t gotta make your mind up right now\\nCalm down, don\\'t rush, no pressure Thought that you were in it for the paper\\nNever thought I\\'d take you serious\\nNow I need you, not a moment later\\nLosin\\' it, I\\'m so delirious\\nAnd I\\'ma put up a fight for it\\nNever give up a love like this\\nFinally I found someone\\nThat can do me like no other\\nTalking to my conscience\\nI made a few mistakes\\nI did it to myself\\nI\\'m the only one to blame\\nI know you need a little while to believe again\\nTo love again You ain\\'t gotta make your mind up\\nYou ain\\'t gotta make your mind up right now\\nRight now, don\\'t rush, no pressure\\nYou ain\\'t gotta make your mind up\\nYou ain\\'t gotta make your mind up right now\\nI\\'ll be waiting for you\\nDon\\'t rush, no pressure\\nYou ain\\'t gotta make your mind up\\nYou ain\\'t gotta make your mind up right now\\nRight now, don\\'t rush, no pressure\\nYou ain\\'t gotta make your mind up\\nYou ain\\'t gotta make your mind up right now\\nI\\'ll still\\nDon\\'t rush, no pressure Put my key in the ignition\\nDon\\'t rush it girl, just stretch it out for me\\nI know that you ain\\'t got no plans to leave\\nGirl I need your attention\\nAnd every time I see you make that face\\nI wanna love you all over the place\\nDon\\'t do it, baby\\nDon\\'t do it to me, no I know you don\\'t wanna talk, right\\nWe\\'ve been on and off like the crosslights\\nYou heard I\\'m playin\\' with them hoes like I golf, right?\\nWhen I touch you, I get frostbite\\nGirl you\\'re so cold, so cold, so cold\\nHow we so young but livin\\' so old?\\nIn the bed together but we sleepin\\' solo\\nThat could drive you loco\\nYou\\'re supposed to be my uno, Yoko Ono\\nOh no, round two again\\nWe\\'ve been fighting more than Ryu and Ken\\nLast time we argued eight straight days\\nI learned my lesson, I got straight As\\nAnd I know it\\'s deeper than masseuses\\nOh, you know I eat the cookie like I\\'m Lucious\\nGo ahead and take the time\\nBut it\\'s a waste of time if your waist ain\\'t on mine\\nThink about it You ain\\'t gotta make your mind up\\nYou ain\\'t gotta make your mind up right now\\nRight now, don\\'t rush, no pressure\\nYou ain\\'t gotta make your mind up\\nYou ain\\'t gotta make your mind up right now\\nI\\'ll be waiting for you\\nDon\\'t rush, no pressure\\nYou ain\\'t gotta make your mind up\\nYou ain\\'t gotta make your mind up right now\\nRight now, don\\'t rush, no pressure\\nYou ain\\'t gotta make your mind up\\nYou ain\\'t gotta make your mind up right now\\nI\\'ll still\\nDon\\'t rush, no pressure You ain\\'t gotta make your mind up right now\\nI know I did you wrong\\nLet your heart heal\\nDon\\'t rush, no pressure Looking out the window\\nWaiting for your headlights\\nTo pull up in the driveway\\nIt\\'s really coming down tonight\\nYou\\'re scared that I won\\'t make it through the storm\\nYou should be here with me, safe and warm I\\'ll be waiting under the mistletoe\\nWhile you\\'re driving here through the winter snow\\nBaby think of me if it helps to get you home\\nWhen the only gift that I really need\\nIs to have your arms wrapped around me\\nBaby think of me if it helps to get you home\\nHome this Christmas Pacing down the hallway\\nTrying to fight the urge to call\\nI could almost hear a pin drop\\n\\'Cept for the clock on the wall\\nAnd I\\'m scared you won\\'t make it through the storm\\nYou should be here with me, safe and warm I\\'ll be waiting under the mistletoe\\nWhile you\\'re driving here through the winter snow\\nBaby think of me if it helps to get you home\\nWhen the only gift that I really need\\nIs to have your arms wrapped around me\\nBaby think of me if it helps to get you home\\nHome this Christmas I\\'m praying that you make it home tonight\\nSo we can lay down by the fireside\\nYou and I till Christmas morning\\nThere\\'s nothing else that I want this year\\nMore than just to have you here, whoa\\nI\\'ll be waiting I\\'ll be waiting under the mistletoe\\nWhile you\\'re driving here through the winter snow\\nBaby think of me if it helps to get you home\\nWhen the only gift that I really need\\nIs to have your arms wrapped around me\\nBaby think of me if it helps to get you home\\nHome this Christmas Looking out the window\\nWaiting for your head lights\\nTo pull up in the driveway\\nIt\\'s really coming down tonight That\\'s this..\\nCan\\'t sit in my room alone\\nI can\\'t eat, I can\\'t sleep\\nNo...\\nAnd I wanna pick up my phone\\nBut I can\\'t speak, I can\\'t breathe\\nCause you\\'re not here with me\\nYou\\'re my everything\\nAnd I can\\'t stand to see another man making you smile, your smile, your\\nCause you\\'re not here with me\\nYou\\'re my everything\\nAnd I can\\'t stand and see another man making you smile, your smile, your\\nHow can I let you go\\nYou were mine\\nSeems that we were doing just fine\\nBut I was blind and now I know\\nThat I\\'m all alone, all alone\\nI was dumb, I was wrong\\nNow I\\'m wishing you come back home but your not\\nNow I\\'m still home...\\nShe was the one I let get away (get away) one I let get away(get away) one I let get away (get away from me)\\nShe was the one I let get away\\n( get away) one I let get away (get away) one I let get away (get away from me from me)\\nBaby I want you to know\\nThat we were supposed to go\\nSo far away, so far away\\nThen I let you go, and even now I regret that I did you wrong, and baby I know that you tried your hardest to keep us together but now i\\'m down\\nCause you\\'re not here with me\\nYou\\'re my everything\\nAnd I can\\'t stand and see another man making you smile, your smile, your\\nCause you\\'re not here with me\\nYou\\'re my everything\\nAnd I can\\'t stand and see another man making you smile, your smile, your\\nHow can I let you go\\nYou were mine\\nSeems that we were doing just fine\\nBut I was blind and now I know\\nThat I\\'m all alone, all alone\\nI was dumb, I was wrong\\nNow I\\'m wishing you come back home but your not\\nNow I\\'m stuck...\\nShe was the one I let get away\\n(get away) one I let get away (get away) one I let get away (get away from me)\\nShe was the one I let get away\\n(get away) one I let get away (get away) one I let get away (get away from me) [Verse]\\nTake my hand and put it on your chest\\nCause I need your, your love, yeah\\nWould you come right here and do it, baby?\\nCause I need you to do it, baby\\nYour love is keeping me warm, warm, warm [Pre-Chorus]\\nYou been gone far away, I just need to hold you babe\\nCan\\'t believe I\\'m with you, cause you got me open, baby\\nI\\'m loving everything you do\\nI\\'m thankful that I\\'m here with you\\nYou make me wanna say [Chorus]\\nOh girl, your body is so insane, making me call your name, girl\\nOh girl, yeah it\\'s like a rush every single time we touch, girl\\nOh girl, your body is so insane, making me call your name\\nOh girl, yeah it\\'s like a rush every single time we touch [Verse]\\nTake my hand and put it on your chest\\nCause I need your, your love, yeah\\nWould you come right here and do it, baby?\\nCause I need you to do it, baby\\nYour love is keeping me warm, warm, warm [Pre-Chorus]\\nYou been gone far away, I just need to hold you babe\\nCan\\'t believe I\\'m with you, cause you got me open, baby\\nI\\'m loving everything you do\\nI\\'m thankful that I\\'m here with you\\nYou make me wanna say [Chorus]\\nOh girl, your body is so insane, making me call your name, girl\\nOh girl, yeah it\\'s like a rush every single time we touch, girl\\nOh girl, your body is so insane, making me call your name\\nOh girl, yeah it\\'s like a rush every single time we touch, girl [Outro]\\nOh girl, your body is so insane, making me call your name, girl\\nOh girl, I just need to hold you tight\\nOh girl, cause you\\'re all mine Oh\\nYeah\\nMmmm I\\'d wait on you forever and a day\\nHand and foot\\nYour world is my world\\nYeah\\nAin\\'t no way you\\'re ever gon\\' get\\nAny less than you should\\nCause baby\\nYou smile I smile (oh)\\nCause whenever\\nYou smile I smile\\nHey hey hey Your lips, my biggest weakness\\nShouldn\\'t have let you know\\nI\\'m always gonna do what they say (hey)\\nIf you need me\\nI\\'ll come right there\\nFrom a thousand miles away\\nWhen you smile I smile (oh whoa)\\nYou smile I smile\\nHey Baby take my open heart and all it offers\\nCause this is as unconditional as it\\'ll ever get\\nYou ain\\'t seen nothing yet\\nI won\\'t ever hesitate to give you more Cause baby (hey)\\nYou smile I smile (whoa)\\nYou smile I smile\\nHey hey hey\\nYou smile I smile\\nI smile I smile I smile\\nYou smile I smile\\nMake me smile baby Baby you won\\'t ever work for nothing\\nYou are my ins and my means now\\nWith you there\\'s no in between\\nI\\'m all in\\nCause my cards are on the table\\nAnd I\\'m willing and I\\'m able\\nBut I fold to your wish\\nCause it\\'s my command\\nHey hey hey You smile I smile (whoa)\\nYou smile I smile\\nHey hey hey\\nYou smile I smile\\nI smile I smile I smile\\nYou smile I smile\\nOh You smile I smile You smile I smile What about the children?\\nLook at all the children we can change\\nWhat about a vision?\\nBe a visionary for a change\\nWe\\'re the generation\\nWho\\'s gonna be the one to fight for it?\\nWe\\'re the inspiration\\nDo you believe enough to die for it? Who\\'s got the heart? Who\\'s got it?\\nWhose heart is the biggest?\\nWear it on your sleeve\\nThat we can make a difference\\nWho\\'s got the heart? Who\\'s got it?\\nWhose heart is the biggest?\\nWear it on your sleeve\\nThat we can make a difference\\nOh yeah Who\\'s got the heart?\\nOh yeah What about the children?\\nLook at all the children we can change\\nWhat about a vision?\\nBe a visionary for a change\\nWe\\'re the generation\\nWho\\'s gonna be the one to fight for it?\\nWe\\'re the inspiration\\nDo you believe enough to die for it?, to die for it? Who\\'s got the heart? who\\'s got it?\\nWhose heart is the biggest?\\nWear it on your sleeve\\nThat we can make a difference\\nWho\\'s got the heart? who\\'s got it?\\nWhose heart is the biggest?\\nWear it on your sleeve\\nThat we can make a difference\\nThat we can make a difference\\nOh yeah Who\\'s got the heart?\\nOh yeah\\nOh yeah\\nOh yeah Don\\'t do nothin\\' \\'less your heart\\'s in it, heart\\'s in it, heart\\'s in it\\nDon\\'t do nothin\\' \\'less you\\'re all in it, all in it, all in it If you got a twenty for all of your tries\\nTwenty for all of the times, the times you got back up, woah\\nYou\\'d be a billionaire in a year\\nThat\\'s what you gotta think \\'till you\\'re there, on the regular If you got a diamond for all of your passion, diamond for your dedication\\nYou could be icy like cake and icy for every occasion, gotta go hard, yeah\\nStill don\\'t condone it, love is a component\\nYou\\'re the only opponent, gotta seize the moment Don\\'t do nothin\\' \\'less your heart\\'s in it, heart\\'s in it, heart\\'s in it\\nDon\\'t do nothin\\' \\'less you\\'re all in it, all in it, all in it\\nGonna give each time\\nSaid it won\\'t hurt my side\\nOh, don\\'t do nothin\\' \\'less you\\'re all in it, all in it, all in it All in it, all in it\\nEver had a guitar missing five strings?\\nA guitar with only one string, I can only play one song, ooh\\nA simple melody, simple enough to make the world sing\\nStrong enough to make your mood swing, you know what I mean If you got a diamond for all of your passion, diamond for your dedication\\nYou could be icy like cake and icy for every occasion, gotta go hard, yeah\\nStill don\\'t condone it, love is a component\\nYou\\'re the only opponent, gotta seize the moment Don\\'t do nothin\\' \\'less your heart\\'s in it, heart\\'s in it, heart\\'s in it\\nDon\\'t do nothin\\' \\'less you\\'re all in it, all in it, all in it\\nGonna give each time\\nSaid it won\\'t hurt my side\\nDon\\'t do nothin\\' \\'less you\\'re all in it, all in it, all in it All in it, all in it See, growing up I\\nI always felt like I had to be the best at everything\\n\\'Cause I, I just didn\\'t think I wasn\\'t good enough\\nAnd maybe if I was good at something, that, that I\\'d get recognition from that but\\nI quickly found out that, I wasn\\'t going to get the recognition that I wanted or that I needed because\\nBecause, because people aren\\'t perfect and\\nBy not being perfect you, you sometimes can disappoint people\\nAnd with God, it\\'s like He\\'s perfect and He never disappoints\\nSo I, I just get my recognition from Him\\nAnd give Him recognition Yeah, yeah, yeah, yeah I won\\'t let the night stand in my way yeah\\nI know what I want, I know what I get, yeah\\nI\\'m only here to find you, you\\nAll I need is you by my side\\nAll I wanna do is lay down next you \\'Cause I all I need is one love, one love, one love\\n\\'Cause I all I need is one love, one love, one love\\nBaby give it to me\\n\\'Cause I don\\'t want-want nobody when I got-got your body\\nBaby no no nobody has got what I need\\n\\'Cause I don\\'t want-want nobody when I got-got your body\\nBaby no no nobody has got what I need tonight See I\\'ve made mistakes time after time, time, time\\nBut no not today, won\\'t leave \\'til I find what I\\'m looking for\\nI\\'m only here to find you, you\\nAll I need is you by my side\\nAll I wanna do is dance under the moon \\'Cause I all I need is one love, one love, one love\\n\\'Cause I all I need is one love, one love, one love\\nBaby give it to me\\n\\'Cause I don\\'t want-want nobody when I got-got your body\\nBaby no no nobody, has got what I need\\n\\'Cause I don\\'t want-want nobody when I got-got your body\\nBaby no no nobody has got what I need tonight Your love is like a roller-coaster\\nThe way that you take my breath away\\nIt feels like I\\'m slowly falling deeper and deeper, deeper and deeper \\'Cause I all I need is one love, one love, one love (I don\\'t need nobody else)\\n\\'Cause I all I need is one love, one love, one love\\nBaby give it to me\\n\\'Cause I don\\'t want-want nobody when I got-got your body\\nBaby no no nobody has got what I need\\n\\'Cause I don\\'t want-want nobody when I got-got your body\\nBaby no no nobody can give it to me\\n\\'Cause I don\\'t want-want nobody when I got-got your body\\nBaby no no nobody has got what I need\\n\\'Cause I don\\'t want-want nobody when I got-got your body\\nBaby no no nobody has got what I need tonight She\\'s my latin girl, she\\'s my latin girl I was on the beach yah\\nI was on vacation\\nI was doing nothing\\nI was just sittin\\' like a patient\\nThen you walked by\\nYou catch my eye\\nI said who\\'s this girl, she\\'s lookin dragon fly Hey miss beautiful\\nI\\'ve never seen you before\\nAnd I would like to be the one to show you I am cool and all\\nHey little momma what you got on yah\\nLooking so good that I just want to telephone her She\\'s my latin girl\\nOooo pretty lady don\\'t you think it\\'s crazy\\nShe\\'s my latin girl Oh she tries to fight it but she knows she likes it\\nShe\\'s my latin girl\\nSomeone sees and she\\'s looking at me\\nShe\\'s my latin girl\\nYeah yeah yeah Hey miss beautiful\\nI\\'ve never seen you before\\nAnd I would like to be the one to show you I am cool and all Hey little momma would you got on yah\\nLooking so good that I just want to telephone her She\\'s my latin girl\\nOooo pretty lady don\\'t you think it\\'s crazy\\nShe\\'s my latin girl\\nOh she tries to fight it but she knows she likes it\\nShe\\'s my latin girl\\nSo what I see she\\'s looking at me She\\'s my latin girl\\nYeah yeah yeah She\\'s my latin girl\\nOooo pretty lady don\\'t you think it\\'s crazy\\nShe\\'s my latin girl\\nOh she tries to fight it but she knows she likes it\\nShe\\'s my latin girl\\nSo what I see she\\'s looking at me She\\'s my latin girl\\nYeah yeah yeah Oh baby\\nYeah yeah\\nWoah, ooh\\nOoh If I believe in love\\nAnd you believe in love\\nThen we can be in love somehow\\nIf you want the best for us\\nLike I want the best for us\\nThen we gotta learn to trust right now Don\\'t let this effort go to waste\\nPut our all in it\\nDon\\'t want to be left with the questions, why\\nLet\\'s be honest with ourselves\\nDid we really come this far\\nJust to watch it go down the drain yeah? Sometimes the heart can see what\\'s invisible to the eye\\nAll you gotta do is\\nListen to your deepest feelings they don\\'t ever lie\\nWell giving up is immature\\nThere\\'s so much more to live for\\nThey don\\'t wanna see us together now\\n\\'Cause we\\'re strong enough to endure, woah If I believe in love\\nAnd you believe in love\\nThen we can be in love somehow\\nIf you want the best for us\\nLike I want the best for us\\nThen we gotta learn to trust right now Growing pains come along with these changes\\nSome people get closer some people separate, yeah\\nDon\\'t think we should separate\\nAnd we both adore one another\\nYou\\'re a dream come true\\nWe should start off brand new\\nThat\\'s what we ought to do\\nYeah Sometimes the heart can see what\\'s invisible to the eye\\nAll you gotta do is\\nListen to your deepest feelings they don\\'t ever lie\\nWell giving up is immature\\nGot so much more to live for\\nThey don\\'t wanna see us together now\\n\\'Cause we\\'re strong enough to endure, woah If I believe in love\\nAnd you believe in love\\nThen we can be in love somehow\\nIf you want the best for us\\nLike I want the best for us\\nThen we gotta learn to trust right now Trust me right now\\nYeah, yeah, yeah\\nOoh, we gotta learn to trust right now\\nYeah, yeah, yeah\\nGirl you gotta learn to trust me right now\\nHey, hey, yeah If I believe in love and you believe in love\\nThen we can be in love\\nIf you want the best for us I got the best for us\\nWe gotta learn to trust\\nWe gotta learn to trust\\nYeah, woah woah Sun comes up on another morning\\nMy mind never wakes up without you on it\\nAnd it\\'s crazy to me, I even see you in my dreams\\nIs this meant to be?\\nCould this be happening to me, yeah?\\nWe were best of friends since we were this high\\nSo why do I get nervous every time you, walk by?\\nWe would be on the phone all day\\nNow I can\\'t find the words to say, to you\\nNow what am I supposed to do? Could it be a possibility? I\\'m tryna see what\\'s up\\nIt\\'s been me for you, and you for me, maybe now is time for us\\nTryna keep it all together, but enough is enough\\nThey say we\\'re too young for love, but I\\'m\\nCatching feelings\\nCatching feelings (girl) In my head we\\'re already together\\nI\\'m good alone, but with you I\\'m better\\nI just want to see you smile\\nJust say the word and I\\'ll\\nBe right there (be right there)\\nI ain\\'t never going nowhere\\nI\\'m just tryna see where this can take us\\n\\'Cause everything about you girl is so contagious\\nI think I finally got it down\\nAnd all that\\'s left to do now is get at the mirror\\nAnd say it to her, yeah Could it be a possibility? I\\'m tryna see what\\'s up\\nIt\\'s been me for you, and you for me, maybe now is time for us\\nTryna keep it all together, but enough is enough\\nThey say we\\'re too young for love, but I\\'m\\nCatching feelings\\nCatching feelings girl Should I tell her how I really feel? (How I really feel?)\\nOr should I move in close or just be still? (How will I know?)\\n\\'Cause if I take a chance, and I touch her hand, will everything change?\\nHow do I know, if she feels the same, woah Could it be a possibility? I\\'m tryna see what\\'s up\\nIt\\'s been me for you, and you for me, maybe now is time for us\\nTryna keep it all together, but enough is enough\\nThey say we\\'re too young for love, but I\\'m\\nCatching feelings\\nCatching feelings girl Catching feelings\\nCatching feelings So girl\\nYou just be honest with me, I know we can make this work\\nLove you I know that you afraid, babe\\nBut you don\\'t need to be saved, babe\\nYou just need someone that understands\\nAnd I think I need the same, babe\\nShow me where you at, let\\'s keep it honest\\nHome is where you at and that\\'s a promise\\nOpen up and never keep it from us\\nNothing left between us, baby, nothing\\nTell me what you want, let\\'s keep it gangsta\\nTell me who created you, I\\'d thank her\\nOpen up and never keep it from us\\nNothing left between us, baby Hopefully you\\'ll give me a chance\\nAll I want is love and romance\\nI wanna give it all, give it all to you I wanna dream what you dream\\nGo where you\\'re going\\nI only have one life\\nAnd I only wanna live it with you\\nI wanna sleep where you sleep\\nConnect with your soul\\nThe only thing I want in life\\nI only wanna live it with you\\nOh yeah\\noh yeah\\nI only wanna live it with you\\nOnly wanna live it with you Tell me what you want, I can\\'t believe it\\nI know that if we make it there\\'s a reason\\nSometimes the sun shines, baby\\nSometimes it ain\\'t breezy\\nI hope that maybe this time it may be different\\nI told you I\\'mma make it happen, I commit it\\nYeah, you took your shot and didn\\'t miss it\\nAin\\'t nothing more attractive than a mission Hopefully you\\'ll give me a chance\\nAll I want is love and romance\\nI wanna give it all, give it all to you I wanna dream what you dream\\nGo where you\\'re going\\nI only have one life\\nAnd I only wanna live it with you\\nI wanna sleep where you sleep\\nConnect with your soul\\nThe only thing I want in life\\nI only wanna live it with you\\nOh yeah\\noh yeah\\nI only wanna live it with you\\nOnly wanna live it with you If I came to your crib would you open the door?\\nI don\\'t wanna go down that road no more\\nSaid you wanted it bad, but girl I wanted it more\\nYou\\'re the only one I wanna be with, yay\\nYay, yeah I wanna dream what you dream\\nGo where you\\'re going\\nI only have one life\\nAnd I only wanna live it with you\\nI wanna sleep where you sleep\\nConnect with your soul\\nThe only thing I want in life\\nI only wanna live it with you\\nOh yeah\\noh yeah\\nI only wanna live it with you\\nOnly wanna live it with you I\\'m gonna live my life\\nNo matter what, we party tonight\\nI\\'m gonna li-li-live my life\\nI know that we gon\\' be alright Yo, hell yeah, dirty bass\\nGhetto girl, you drive me cray\\nHell yeah, dirty bass Yo, his beat make me go wow\\nThis drink make me fall down\\nI party hard like carnival let\\'s burn this motha\\' down\\nThis bass make me go ache (go ache)\\nThis girls circus olay\\nYou\\'re that telly cake with a Cali\\' shake\\nI got dough, who\\'s down to fake Oh my, dirty bass, oh you got it like that, I can work that bad,\\nLet me get that (get your ass on the floor)\\nOh my, dirty bass oh you got that small, I can break that off\\nLet me get that (get your ass on the floor) I\\'m gonna live my life\\nNo matter what, we party tonight\\nI\\'m gonna li-li-live my life\\nI know that we gon\\' be alright\\nI\\'m gonna live my life\\nNo matter what, we party tonight\\nI\\'m gonna li-li-live my life\\nI know that we gon\\' be alright\\nWhoa oh, whoa oh,\\nI know that we gon\\' be alright\\nWhoa oh, whoa oh\\nI know that we gon\\' be alright Yo, hell yeah, dirty bass\\nGhetto girl, you drive me cray\\nHell yeah, dirty bass No matter where we be at VIP, or in the C lac\\'\\nAll we need to start it is the speakers in my chit-chat\\nI spot a couple hotties\\nHolla, we\\'re the party, we that\\nGirl move it like Pilates\\nPut your head where you knee at Oh my, dirty bass, oh you got it like that, I can work that bad\\nLet me get that (get your ass on the floor)\\nOh my, dirty bass oh you got that small, I can break that off\\nLet me get that (get your ass on the floor) I\\'m gonna live my life\\nNo matter what, we party tonight\\nI\\'m gonna li-li-live my life\\nI know that we gon\\' be alright\\nI\\'m gonna live my life\\nNo matter what, we party tonight\\nI\\'m gonna li-li-live my life\\nI know that we gon\\' be alright This is my moment tonight\\nHell yeah we doing it right\\nSo get your hands up in the air\\nLike we living your life\\nThis is my moment tonight\\nHell yeah we doing it right\\nSo get your hands up in the air\\nLike we living your life\\n(Like your living your life)\\n(Like your living your life)\\n(Like your living your life) I\\'m gonna live my life\\nNo matter what, we party tonight\\nI\\'m gonna li-li-live my life\\nI know that we gon\\' be alright\\nWhoa oh, whoa oh,\\nI know that we gon\\' be alright\\nWhoa oh, whoa oh,\\nI know that we gon\\' be alright First, I\\'ll acknowledge\\nOur trust has been broken\\nA successful recovery\\nI pray for us at night Bless me with a second chance\\nNever thought I\\'d see your face again\\nLearning life through trial and error\\nTryna make it right Make it right\\nMake it right\\nMake it right\\nThis time i\\'ll do you right Missing your good intentions\\nMissing you from a distance\\nHope you did the same I know that I caused a problem\\nKnow that I left you livid\\nPushed you far away Learned it don\\'t pay to lie\\nCause i don\\'t wanna see you cry\\nSayin nothin gets you nowhere fast\\nI\\'ma hold it back inside But now that i\\'m back around ya\\nNothin else really matters\\nHope you feel the same First, I\\'ll acknowledge\\nOur trust has been broken\\nA successful recovery\\nI pray for us at night Bless me with a second chance\\nNever thought I\\'d see your face again\\nLearning life through trial and error\\nTryna make it right Make it right\\nMake it right\\nMake it right\\nThis time I\\'ll do you right I\\'m going through all the motions\\nTrying to find a reason\\nWhy we ended that way Nothing in life is perfect\\nWe\\'ll be changing like the seasons\\nThat\\'s what they used to say I\\'m just going to sleep alone at night\\nI don\\'t wanna close my eyes\\nWanna give you all I have to give\\nNo more holdin back this time Now that I\\'m back around ya\\nNothin around me matters\\nHope you feel the same First, I\\'ll acknowledge\\nOur trust has been broken\\nA successful recovery\\nI pray for us at night Bless me with a second chance\\nNever thought I\\'d see your face again\\nLearning life through trial and error\\nTryna make it right. Make it right (make it right, make it right)\\nMake it right (make it right, make it right)\\nMake it right (make it right, make it right)\\nThis time i\\'ll do you right (I\\'ma do you right)\\nYou know I\\'ma do you right (I\\'ma do you right)\\nYou know I\\'ma do you right (I\\'ma do you right)\\nYou know I\\'ma do you right (I\\'ma do you right)\\nI\\'ma do you right\\nYou know I\\'ma do you right Oh, oh, oh, oh, oh, oh, oh\\nSmoking on the beat, with my backpack on\\nAnd my snapback on, with the rap back on, uhuh\\nBeautiful girls wearing high heels\\nAsking how I feel, I feel I, uhuh Thats when you walk by\\nIm like damn you fly,\\nAnd I was like uhuh\\nYou ask me where Im from\\nAnd I say C-C-C-anada, uhuh Oh, oh, oh, oh, oh, oh, oh\\nUhuh, uhuh, yeah\\nUhuh, uhuh, oh yeah\\nUhuh, uhuh, oh yeah Hey girl, hey girl, hey girl [X5]\\nOh yeah [X4] Louis Vuittons, on your feet\\nTake them off and make me say, uhuh\\nOh the curves got me going crazy, crazy, crazy, crazy, uhuh\\nLet me ask you girl where your mind is\\nLet me just tell youre the flyest, uhuh Uhuh, uhuh, yeah\\nUhuh, uhuh, oh yeah\\nUhuh, uhuh, oh yeah [X4] Hey girl, hey girl, hey girl [X5]\\nOh yeah [X4] Where are you now\\nWhen I need you the most\\nWhy don\\'t you take my hand\\nI wanna be close Help me when I am down\\nLift me up off the ground\\nTeach me right from wrong\\nHelp me to stay strong So take my hand and walk with me\\nShow me what to be\\nI need you to set me free\\nYeah Where are you now\\nWhere are you now\\nNow that I\\'m half grown\\nWhy are we far apart\\nI feel so alone Where are you now\\nWhen nothings going right\\nWhere are you now\\nI can\\'t see the light So take my hand and walk with me\\nShow me what to be\\nI need you to set me free , Yeah I need you\\nTo need me\\nCan\\'t you see me\\nHow could you leave me\\nMy heart is\\nHalf empty\\nI\\'m not whole\\nWhen your not with me\\nI want you here with me\\nTo get me, hold me and love me now Where are you now\\nOh, where are you now So take my hand and walk with me,\\nShow me what to be\\nI need you to set me free\\nYeah\\nOh, oh\\nYeah '"
            ],
            "application/vnd.google.colaboratory.intrinsic+json": {
              "type": "string"
            }
          },
          "metadata": {},
          "execution_count": 40
        }
      ]
    },
    {
      "cell_type": "code",
      "execution_count": 41,
      "id": "5e7b345c",
      "metadata": {
        "colab": {
          "base_uri": "https://localhost:8080/"
        },
        "id": "5e7b345c",
        "outputId": "54766c50-f60b-4014-a7e2-bf3fadafdafc"
      },
      "outputs": [
        {
          "output_type": "stream",
          "name": "stdout",
          "text": [
            "['What do you mean?', 'Oh, oh, oh', 'When you sometimes say yes', 'But you sometimes say no', 'What do you mean?', 'Hey, yeah', \"When you don't want me to move\", 'But you tell me to go', 'What do you mean?', 'Oh']\n"
          ]
        }
      ],
      "source": [
        "data=response.splitlines()\n",
        "print(data[:10]) # 10 sample"
      ]
    },
    {
      "cell_type": "code",
      "execution_count": 42,
      "id": "74499609",
      "metadata": {
        "colab": {
          "base_uri": "https://localhost:8080/"
        },
        "id": "74499609",
        "outputId": "c12b19f2-b56d-4495-d538-ea629950d151"
      },
      "outputs": [
        {
          "output_type": "execute_result",
          "data": {
            "text/plain": [
              "3715"
            ]
          },
          "metadata": {},
          "execution_count": 42
        }
      ],
      "source": [
        "len(data)"
      ]
    },
    {
      "cell_type": "code",
      "execution_count": 43,
      "id": "a16e4751",
      "metadata": {
        "colab": {
          "base_uri": "https://localhost:8080/"
        },
        "id": "a16e4751",
        "outputId": "5e1dbfaf-68d3-4a11-aba1-46b49b0c5d49"
      },
      "outputs": [
        {
          "output_type": "execute_result",
          "data": {
            "text/plain": [
              "143695"
            ]
          },
          "metadata": {},
          "execution_count": 43
        }
      ],
      "source": [
        "# Total word number is:\n",
        "len(\" \".join(data))"
      ]
    },
    {
      "cell_type": "code",
      "execution_count": 44,
      "id": "f3e7cb42",
      "metadata": {
        "id": "f3e7cb42"
      },
      "outputs": [],
      "source": [
        "import numpy as np\n",
        "from tensorflow.keras.preprocessing.text import Tokenizer\n",
        "from tensorflow.keras.utils import to_categorical\n",
        "from tensorflow.keras.models import Sequential\n",
        "from tensorflow.keras.layers import Dense, LSTM, Embedding, Dropout, Conv1D, MaxPooling1D\n",
        "from tensorflow.keras.preprocessing.sequence import pad_sequences\n"
      ]
    },
    {
      "cell_type": "markdown",
      "id": "911137dd",
      "metadata": {
        "id": "911137dd"
      },
      "source": [
        "#### LSTM model and train test preparation"
      ]
    },
    {
      "cell_type": "code",
      "execution_count": 45,
      "id": "b1babd07",
      "metadata": {
        "id": "b1babd07"
      },
      "outputs": [],
      "source": [
        "tokenizer=Tokenizer()\n",
        "tokenizer.fit_on_texts(data) #it's going to fit on the data in the forms of lines."
      ]
    },
    {
      "cell_type": "code",
      "execution_count": 47,
      "id": "de90b86d",
      "metadata": {
        "colab": {
          "base_uri": "https://localhost:8080/"
        },
        "id": "de90b86d",
        "outputId": "b2c2c4a4-6bee-4cb6-bae8-3c50506c86b4"
      },
      "outputs": [
        {
          "output_type": "execute_result",
          "data": {
            "text/plain": [
              "[[30, 26, 1, 90],\n",
              " [6, 6, 6],\n",
              " [45, 1, 164, 55, 354],\n",
              " [32, 1, 164, 55, 20],\n",
              " [30, 26, 1, 90],\n",
              " [83, 18],\n",
              " [45, 1, 14, 47, 4, 5, 267],\n",
              " [32, 1, 68, 4, 5, 48],\n",
              " [30, 26, 1, 90],\n",
              " [6]]"
            ]
          },
          "metadata": {},
          "execution_count": 47
        }
      ],
      "source": [
        "encoded_text=tokenizer.texts_to_sequences(data)\n",
        "encoded_text[:10]\n",
        "# These number actually comes from vocabulary\n",
        "# it assigns number to each words"
      ]
    },
    {
      "cell_type": "code",
      "execution_count": 48,
      "id": "4e8aaec2",
      "metadata": {
        "id": "4e8aaec2"
      },
      "outputs": [],
      "source": [
        "wc=tokenizer.word_counts\n",
        "# word frequency"
      ]
    },
    {
      "cell_type": "code",
      "execution_count": 49,
      "id": "1609d8e4",
      "metadata": {
        "id": "1609d8e4"
      },
      "outputs": [],
      "source": [
        "wi=tokenizer.word_index"
      ]
    },
    {
      "cell_type": "code",
      "execution_count": 50,
      "id": "63af34c1",
      "metadata": {
        "colab": {
          "base_uri": "https://localhost:8080/"
        },
        "id": "63af34c1",
        "outputId": "5bb8ee1a-0bca-4ffe-a161-c9e2152fa22f"
      },
      "outputs": [
        {
          "output_type": "stream",
          "name": "stdout",
          "text": [
            "Number of unique words and total vocab size: 1979\n"
          ]
        }
      ],
      "source": [
        "print(f\"Number of unique words and total vocab size: {len(tokenizer.word_counts)+1}\")\n",
        "vocab_size=len(tokenizer.word_counts)+1 # always adding plus one for tensorflow"
      ]
    },
    {
      "cell_type": "code",
      "execution_count": 55,
      "id": "d9035af5",
      "metadata": {
        "id": "d9035af5"
      },
      "outputs": [],
      "source": [
        "x=[\"play this song\"]"
      ]
    },
    {
      "cell_type": "code",
      "execution_count": 56,
      "id": "a9efe9a6",
      "metadata": {
        "colab": {
          "base_uri": "https://localhost:8080/"
        },
        "id": "a9efe9a6",
        "outputId": "cf493ef9-0ff4-4317-c620-f0b6a0a34423"
      },
      "outputs": [
        {
          "output_type": "execute_result",
          "data": {
            "text/plain": [
              "[[517, 58, 462]]"
            ]
          },
          "metadata": {},
          "execution_count": 56
        }
      ],
      "source": [
        "tokenizer.texts_to_sequences(x)"
      ]
    },
    {
      "cell_type": "markdown",
      "id": "33262d23",
      "metadata": {
        "id": "33262d23"
      },
      "source": [
        "### Prepare data for training"
      ]
    },
    {
      "cell_type": "code",
      "execution_count": 57,
      "id": "022b5d17",
      "metadata": {
        "colab": {
          "base_uri": "https://localhost:8080/"
        },
        "id": "022b5d17",
        "outputId": "a9c126d8-3299-4031-a7a1-6504770e30d0"
      },
      "outputs": [
        {
          "output_type": "execute_result",
          "data": {
            "text/plain": [
              "[[30, 26, 1, 90],\n",
              " [6, 6, 6],\n",
              " [45, 1, 164, 55, 354],\n",
              " [32, 1, 164, 55, 20],\n",
              " [30, 26, 1, 90],\n",
              " [83, 18],\n",
              " [45, 1, 14, 47, 4, 5, 267],\n",
              " [32, 1, 68, 4, 5, 48],\n",
              " [30, 26, 1, 90],\n",
              " [6]]"
            ]
          },
          "metadata": {},
          "execution_count": 57
        }
      ],
      "source": [
        " encoded_text[:10] # 10 sample"
      ]
    },
    {
      "cell_type": "code",
      "execution_count": 58,
      "id": "c32ae96f",
      "metadata": {
        "id": "c32ae96f"
      },
      "outputs": [],
      "source": [
        "data_list=[]\n",
        "for i in encoded_text:\n",
        "    if len(i)>1:\n",
        "        for j in range(2,len(i)):\n",
        "            data_list.append(i[:j])\n",
        "#             print(i[:j]) # if you want to check data"
      ]
    },
    {
      "cell_type": "markdown",
      "id": "f592d01d",
      "metadata": {
        "id": "f592d01d"
      },
      "source": [
        "#### Paddding"
      ]
    },
    {
      "cell_type": "code",
      "execution_count": 59,
      "id": "905f8572",
      "metadata": {
        "id": "905f8572"
      },
      "outputs": [],
      "source": [
        "max_length=20\n",
        "#max length of line is 20 token per line in our poetry"
      ]
    },
    {
      "cell_type": "code",
      "execution_count": 60,
      "id": "6a7c4079",
      "metadata": {
        "colab": {
          "base_uri": "https://localhost:8080/"
        },
        "id": "6a7c4079",
        "outputId": "2c3ffc6e-0ab2-443c-ec52-a67ff06ca259"
      },
      "outputs": [
        {
          "output_type": "execute_result",
          "data": {
            "text/plain": [
              "array([[  0,   0,   0,   0,   0,   0,   0,   0,   0,   0,   0,   0,   0,\n",
              "          0,   0,   0,   0,   0,  30,  26],\n",
              "       [  0,   0,   0,   0,   0,   0,   0,   0,   0,   0,   0,   0,   0,\n",
              "          0,   0,   0,   0,  30,  26,   1],\n",
              "       [  0,   0,   0,   0,   0,   0,   0,   0,   0,   0,   0,   0,   0,\n",
              "          0,   0,   0,   0,   0,   6,   6],\n",
              "       [  0,   0,   0,   0,   0,   0,   0,   0,   0,   0,   0,   0,   0,\n",
              "          0,   0,   0,   0,   0,  45,   1],\n",
              "       [  0,   0,   0,   0,   0,   0,   0,   0,   0,   0,   0,   0,   0,\n",
              "          0,   0,   0,   0,  45,   1, 164]], dtype=int32)"
            ]
          },
          "metadata": {},
          "execution_count": 60
        }
      ],
      "source": [
        "sequences=pad_sequences(data_list,maxlen=max_length,padding=\"pre\") # we set the lenght size equal to 20\n",
        "sequences[:5] # 5 sample"
      ]
    },
    {
      "cell_type": "code",
      "execution_count": 62,
      "id": "e621c3ad",
      "metadata": {
        "colab": {
          "base_uri": "https://localhost:8080/"
        },
        "id": "e621c3ad",
        "outputId": "82050487-5b00-4098-8cfa-51666629ec33"
      },
      "outputs": [
        {
          "output_type": "execute_result",
          "data": {
            "text/plain": [
              "(22129, 20)"
            ]
          },
          "metadata": {},
          "execution_count": 62
        }
      ],
      "source": [
        "sequences.shape"
      ]
    },
    {
      "cell_type": "code",
      "execution_count": 63,
      "id": "3f1a3a8b",
      "metadata": {
        "colab": {
          "base_uri": "https://localhost:8080/"
        },
        "id": "3f1a3a8b",
        "outputId": "4d80a589-9b1c-4b48-be21-408215df1fe9"
      },
      "outputs": [
        {
          "output_type": "stream",
          "name": "stdout",
          "text": [
            "X values\n",
            "[[ 0  0  0  0  0  0  0  0  0  0  0  0  0  0  0  0  0  0 30]\n",
            " [ 0  0  0  0  0  0  0  0  0  0  0  0  0  0  0  0  0 30 26]\n",
            " [ 0  0  0  0  0  0  0  0  0  0  0  0  0  0  0  0  0  0  6]\n",
            " [ 0  0  0  0  0  0  0  0  0  0  0  0  0  0  0  0  0  0 45]\n",
            " [ 0  0  0  0  0  0  0  0  0  0  0  0  0  0  0  0  0 45  1]]\n",
            "------------------------------\n",
            "X values\n",
            "[ 26   1   6   1 164]\n"
          ]
        }
      ],
      "source": [
        "X=sequences[:,:-1]\n",
        "y=sequences[:,-1]\n",
        "print(\"X values\")\n",
        "print(X[:5]) # 5 sample\n",
        "print(\"-\"*30)\n",
        "print(\"X values\")\n",
        "print(y[:5]) # 5 sample"
      ]
    },
    {
      "cell_type": "code",
      "execution_count": 64,
      "id": "e144e0d2",
      "metadata": {
        "colab": {
          "base_uri": "https://localhost:8080/"
        },
        "id": "e144e0d2",
        "outputId": "5ce9444a-5966-4ff4-d221-88ac65657b7f"
      },
      "outputs": [
        {
          "output_type": "execute_result",
          "data": {
            "text/plain": [
              "((22129, 19), (22129,))"
            ]
          },
          "metadata": {},
          "execution_count": 64
        }
      ],
      "source": [
        "X.shape,y.shape"
      ]
    },
    {
      "cell_type": "code",
      "execution_count": 65,
      "id": "18894fe2",
      "metadata": {
        "colab": {
          "base_uri": "https://localhost:8080/"
        },
        "id": "18894fe2",
        "outputId": "6191cf60-0ad0-4dea-d841-210851b4c9a1"
      },
      "outputs": [
        {
          "output_type": "stream",
          "name": "stdout",
          "text": [
            "[[0. 0. 0. ... 0. 0. 0.]\n",
            " [0. 1. 0. ... 0. 0. 0.]\n",
            " [0. 0. 0. ... 0. 0. 0.]\n",
            " [0. 1. 0. ... 0. 0. 0.]\n",
            " [0. 0. 0. ... 0. 0. 0.]]\n",
            "Shape of y (22129, 1979)\n"
          ]
        }
      ],
      "source": [
        "y=to_categorical(y,num_classes=vocab_size)\n",
        "#since unique word number is vocab_size, thus there is vocab_size classes\n",
        "print(y[:5]) # 5 sample\n",
        "print(\"Shape of y\",y.shape)"
      ]
    },
    {
      "cell_type": "code",
      "execution_count": 66,
      "id": "bd466740",
      "metadata": {
        "colab": {
          "base_uri": "https://localhost:8080/"
        },
        "id": "bd466740",
        "outputId": "de0ab315-00c6-42d7-f03b-6f61d5ef1206"
      },
      "outputs": [
        {
          "output_type": "stream",
          "name": "stdout",
          "text": [
            "Shape of X (22129, 19)\n"
          ]
        },
        {
          "output_type": "execute_result",
          "data": {
            "text/plain": [
              "19"
            ]
          },
          "metadata": {},
          "execution_count": 66
        }
      ],
      "source": [
        "print(\"Shape of X\",X.shape)\n",
        "seq_length=X.shape[1]\n",
        "seq_length"
      ]
    },
    {
      "cell_type": "markdown",
      "id": "66e6e819",
      "metadata": {
        "id": "66e6e819"
      },
      "source": [
        "#### Build Model\n",
        "- We will build a simple LSTM model"
      ]
    },
    {
      "cell_type": "code",
      "execution_count": 67,
      "id": "fb22d3a6",
      "metadata": {
        "colab": {
          "base_uri": "https://localhost:8080/"
        },
        "id": "fb22d3a6",
        "outputId": "977e11bf-dc2d-4964-c2a8-88d7664373c1"
      },
      "outputs": [
        {
          "output_type": "stream",
          "name": "stderr",
          "text": [
            "/usr/local/lib/python3.10/dist-packages/keras/src/layers/core/embedding.py:90: UserWarning: Argument `input_length` is deprecated. Just remove it.\n",
            "  warnings.warn(\n"
          ]
        }
      ],
      "source": [
        "model=Sequential()\n",
        "model.add(Embedding(vocab_size,50,input_length=seq_length))\n",
        "#The first layer is the Embedded layer that uses 50-length vectors\n",
        "#return_sequences=True because we add another LSTM\n",
        "model.add(LSTM(100,return_sequences=True))\n",
        "model.add(LSTM(100))\n",
        "model.add(Dense(100,activation=\"relu\"))\n",
        "model.add(Dense(vocab_size,activation=\"softmax\")) # we use softmax because there is multiclasses"
      ]
    },
    {
      "cell_type": "markdown",
      "id": "125714e4",
      "metadata": {
        "id": "125714e4"
      },
      "source": [
        "#### You can use dropout() , You will see that Training will be slightly slower trend in convergence, maybe lower final accuracy"
      ]
    },
    {
      "cell_type": "code",
      "execution_count": 69,
      "id": "95ef4906",
      "metadata": {
        "id": "95ef4906"
      },
      "outputs": [],
      "source": [
        "model=Sequential()\n",
        "model.add(Embedding(vocab_size,50,input_length=seq_length))\n",
        "#The first layer is the Embedded layer that uses 50-length vectors\n",
        "#return_sequences=True because we add another LSTM\n",
        "model.add(Dropout(0.2))\n",
        "model.add(LSTM(100,return_sequences=True))\n",
        "model.add(Dropout(0.2))\n",
        "model.add(LSTM(100))\n",
        "model.add(Dropout(0.2))\n",
        "model.add(Dense(100,activation=\"relu\"))\n",
        "model.add(Dense(vocab_size,activation=\"softmax\")) # we use softmax because there is multiclasses"
      ]
    },
    {
      "cell_type": "markdown",
      "id": "4f5c1fc9",
      "metadata": {
        "id": "4f5c1fc9"
      },
      "source": [
        "####  Dropout can be applied to the input and recurrent connections of the memory units with the LSTM precisely and separately.\n",
        "#### LSTM-specific dropout may have more pronounced effect on the convergence of the network than the layer-wise dropout."
      ]
    },
    {
      "cell_type": "code",
      "execution_count": 70,
      "id": "3c095832",
      "metadata": {
        "id": "3c095832"
      },
      "outputs": [],
      "source": [
        "model=Sequential()\n",
        "model.add(Embedding(vocab_size,50,input_length=seq_length))\n",
        "#The first layer is the Embedded layer that uses 50-length vectors\n",
        "#return_sequences=True because we add another LSTM\n",
        "model.add(LSTM(100,return_sequences=True,dropout=0.2,recurrent_dropout=0.2))\n",
        "model.add(LSTM(100,dropout=0.2,recurrent_dropout=0.2))\n",
        "model.add(Dense(100,activation=\"relu\"))\n",
        "model.add(Dense(vocab_size,activation=\"softmax\")) # we use softmax because there is multiclasses"
      ]
    },
    {
      "cell_type": "markdown",
      "id": "a6ce2a8b",
      "metadata": {
        "id": "a6ce2a8b"
      },
      "source": [
        "#### LSTM and CNN can be used together"
      ]
    },
    {
      "cell_type": "code",
      "execution_count": 71,
      "id": "fead4a76",
      "metadata": {
        "id": "fead4a76"
      },
      "outputs": [],
      "source": [
        "model=Sequential()\n",
        "model.add(Embedding(vocab_size,50,input_length=seq_length))\n",
        "#The first layer is the Embedded layer that uses 50-length vectors\n",
        "#return_sequences=True because we add another LSTM\n",
        "model.add(Conv1D(filters=32,kernel_size=3, padding=\"same\",activation=\"relu\"))\n",
        "model.add(MaxPooling1D(pool_size=2))\n",
        "model.add(LSTM(100,return_sequences=True))\n",
        "model.add(LSTM(100))\n",
        "model.add(Dense(100,activation=\"relu\"))\n",
        "model.add(Dense(vocab_size,activation=\"softmax\")) # we use softmax because there is multiclasses"
      ]
    },
    {
      "cell_type": "code",
      "execution_count": 72,
      "id": "5d6f5963",
      "metadata": {
        "colab": {
          "base_uri": "https://localhost:8080/",
          "height": 353
        },
        "id": "5d6f5963",
        "outputId": "024768b6-a308-4851-865e-6eaef98e461f"
      },
      "outputs": [
        {
          "output_type": "display_data",
          "data": {
            "text/plain": [
              "\u001b[1mModel: \"sequential_3\"\u001b[0m\n"
            ],
            "text/html": [
              "<pre style=\"white-space:pre;overflow-x:auto;line-height:normal;font-family:Menlo,'DejaVu Sans Mono',consolas,'Courier New',monospace\"><span style=\"font-weight: bold\">Model: \"sequential_3\"</span>\n",
              "</pre>\n"
            ]
          },
          "metadata": {}
        },
        {
          "output_type": "display_data",
          "data": {
            "text/plain": [
              "┏━━━━━━━━━━━━━━━━━━━━━━━━━━━━━━━━━━━━━━┳━━━━━━━━━━━━━━━━━━━━━━━━━━━━━┳━━━━━━━━━━━━━━━━━┓\n",
              "┃\u001b[1m \u001b[0m\u001b[1mLayer (type)                        \u001b[0m\u001b[1m \u001b[0m┃\u001b[1m \u001b[0m\u001b[1mOutput Shape               \u001b[0m\u001b[1m \u001b[0m┃\u001b[1m \u001b[0m\u001b[1m        Param #\u001b[0m\u001b[1m \u001b[0m┃\n",
              "┡━━━━━━━━━━━━━━━━━━━━━━━━━━━━━━━━━━━━━━╇━━━━━━━━━━━━━━━━━━━━━━━━━━━━━╇━━━━━━━━━━━━━━━━━┩\n",
              "│ embedding_3 (\u001b[38;5;33mEmbedding\u001b[0m)              │ ?                           │     \u001b[38;5;34m0\u001b[0m (unbuilt) │\n",
              "├──────────────────────────────────────┼─────────────────────────────┼─────────────────┤\n",
              "│ conv1d (\u001b[38;5;33mConv1D\u001b[0m)                      │ ?                           │     \u001b[38;5;34m0\u001b[0m (unbuilt) │\n",
              "├──────────────────────────────────────┼─────────────────────────────┼─────────────────┤\n",
              "│ max_pooling1d (\u001b[38;5;33mMaxPooling1D\u001b[0m)         │ ?                           │     \u001b[38;5;34m0\u001b[0m (unbuilt) │\n",
              "├──────────────────────────────────────┼─────────────────────────────┼─────────────────┤\n",
              "│ lstm_6 (\u001b[38;5;33mLSTM\u001b[0m)                        │ ?                           │     \u001b[38;5;34m0\u001b[0m (unbuilt) │\n",
              "├──────────────────────────────────────┼─────────────────────────────┼─────────────────┤\n",
              "│ lstm_7 (\u001b[38;5;33mLSTM\u001b[0m)                        │ ?                           │     \u001b[38;5;34m0\u001b[0m (unbuilt) │\n",
              "├──────────────────────────────────────┼─────────────────────────────┼─────────────────┤\n",
              "│ dense_6 (\u001b[38;5;33mDense\u001b[0m)                      │ ?                           │     \u001b[38;5;34m0\u001b[0m (unbuilt) │\n",
              "├──────────────────────────────────────┼─────────────────────────────┼─────────────────┤\n",
              "│ dense_7 (\u001b[38;5;33mDense\u001b[0m)                      │ ?                           │     \u001b[38;5;34m0\u001b[0m (unbuilt) │\n",
              "└──────────────────────────────────────┴─────────────────────────────┴─────────────────┘\n"
            ],
            "text/html": [
              "<pre style=\"white-space:pre;overflow-x:auto;line-height:normal;font-family:Menlo,'DejaVu Sans Mono',consolas,'Courier New',monospace\">┏━━━━━━━━━━━━━━━━━━━━━━━━━━━━━━━━━━━━━━┳━━━━━━━━━━━━━━━━━━━━━━━━━━━━━┳━━━━━━━━━━━━━━━━━┓\n",
              "┃<span style=\"font-weight: bold\"> Layer (type)                         </span>┃<span style=\"font-weight: bold\"> Output Shape                </span>┃<span style=\"font-weight: bold\">         Param # </span>┃\n",
              "┡━━━━━━━━━━━━━━━━━━━━━━━━━━━━━━━━━━━━━━╇━━━━━━━━━━━━━━━━━━━━━━━━━━━━━╇━━━━━━━━━━━━━━━━━┩\n",
              "│ embedding_3 (<span style=\"color: #0087ff; text-decoration-color: #0087ff\">Embedding</span>)              │ ?                           │     <span style=\"color: #00af00; text-decoration-color: #00af00\">0</span> (unbuilt) │\n",
              "├──────────────────────────────────────┼─────────────────────────────┼─────────────────┤\n",
              "│ conv1d (<span style=\"color: #0087ff; text-decoration-color: #0087ff\">Conv1D</span>)                      │ ?                           │     <span style=\"color: #00af00; text-decoration-color: #00af00\">0</span> (unbuilt) │\n",
              "├──────────────────────────────────────┼─────────────────────────────┼─────────────────┤\n",
              "│ max_pooling1d (<span style=\"color: #0087ff; text-decoration-color: #0087ff\">MaxPooling1D</span>)         │ ?                           │     <span style=\"color: #00af00; text-decoration-color: #00af00\">0</span> (unbuilt) │\n",
              "├──────────────────────────────────────┼─────────────────────────────┼─────────────────┤\n",
              "│ lstm_6 (<span style=\"color: #0087ff; text-decoration-color: #0087ff\">LSTM</span>)                        │ ?                           │     <span style=\"color: #00af00; text-decoration-color: #00af00\">0</span> (unbuilt) │\n",
              "├──────────────────────────────────────┼─────────────────────────────┼─────────────────┤\n",
              "│ lstm_7 (<span style=\"color: #0087ff; text-decoration-color: #0087ff\">LSTM</span>)                        │ ?                           │     <span style=\"color: #00af00; text-decoration-color: #00af00\">0</span> (unbuilt) │\n",
              "├──────────────────────────────────────┼─────────────────────────────┼─────────────────┤\n",
              "│ dense_6 (<span style=\"color: #0087ff; text-decoration-color: #0087ff\">Dense</span>)                      │ ?                           │     <span style=\"color: #00af00; text-decoration-color: #00af00\">0</span> (unbuilt) │\n",
              "├──────────────────────────────────────┼─────────────────────────────┼─────────────────┤\n",
              "│ dense_7 (<span style=\"color: #0087ff; text-decoration-color: #0087ff\">Dense</span>)                      │ ?                           │     <span style=\"color: #00af00; text-decoration-color: #00af00\">0</span> (unbuilt) │\n",
              "└──────────────────────────────────────┴─────────────────────────────┴─────────────────┘\n",
              "</pre>\n"
            ]
          },
          "metadata": {}
        },
        {
          "output_type": "display_data",
          "data": {
            "text/plain": [
              "\u001b[1m Total params: \u001b[0m\u001b[38;5;34m0\u001b[0m (0.00 B)\n"
            ],
            "text/html": [
              "<pre style=\"white-space:pre;overflow-x:auto;line-height:normal;font-family:Menlo,'DejaVu Sans Mono',consolas,'Courier New',monospace\"><span style=\"font-weight: bold\"> Total params: </span><span style=\"color: #00af00; text-decoration-color: #00af00\">0</span> (0.00 B)\n",
              "</pre>\n"
            ]
          },
          "metadata": {}
        },
        {
          "output_type": "display_data",
          "data": {
            "text/plain": [
              "\u001b[1m Trainable params: \u001b[0m\u001b[38;5;34m0\u001b[0m (0.00 B)\n"
            ],
            "text/html": [
              "<pre style=\"white-space:pre;overflow-x:auto;line-height:normal;font-family:Menlo,'DejaVu Sans Mono',consolas,'Courier New',monospace\"><span style=\"font-weight: bold\"> Trainable params: </span><span style=\"color: #00af00; text-decoration-color: #00af00\">0</span> (0.00 B)\n",
              "</pre>\n"
            ]
          },
          "metadata": {}
        },
        {
          "output_type": "display_data",
          "data": {
            "text/plain": [
              "\u001b[1m Non-trainable params: \u001b[0m\u001b[38;5;34m0\u001b[0m (0.00 B)\n"
            ],
            "text/html": [
              "<pre style=\"white-space:pre;overflow-x:auto;line-height:normal;font-family:Menlo,'DejaVu Sans Mono',consolas,'Courier New',monospace\"><span style=\"font-weight: bold\"> Non-trainable params: </span><span style=\"color: #00af00; text-decoration-color: #00af00\">0</span> (0.00 B)\n",
              "</pre>\n"
            ]
          },
          "metadata": {}
        }
      ],
      "source": [
        "model.summary()"
      ]
    },
    {
      "cell_type": "code",
      "execution_count": 73,
      "id": "62c42ef3",
      "metadata": {
        "id": "62c42ef3"
      },
      "outputs": [],
      "source": [
        "model.compile(loss=\"categorical_crossentropy\",optimizer=\"adam\",metrics=[\"accuracy\"])"
      ]
    },
    {
      "cell_type": "code",
      "execution_count": 74,
      "id": "f06cbeaf",
      "metadata": {
        "colab": {
          "base_uri": "https://localhost:8080/"
        },
        "id": "f06cbeaf",
        "outputId": "c841b35f-8e0e-4872-cf9e-edf5cdf574e7"
      },
      "outputs": [
        {
          "output_type": "stream",
          "name": "stdout",
          "text": [
            "Epoch 1/150\n",
            "\u001b[1m692/692\u001b[0m \u001b[32m━━━━━━━━━━━━━━━━━━━━\u001b[0m\u001b[37m\u001b[0m \u001b[1m26s\u001b[0m 29ms/step - accuracy: 0.0488 - loss: 6.0249\n",
            "Epoch 2/150\n",
            "\u001b[1m692/692\u001b[0m \u001b[32m━━━━━━━━━━━━━━━━━━━━\u001b[0m\u001b[37m\u001b[0m \u001b[1m21s\u001b[0m 30ms/step - accuracy: 0.0582 - loss: 5.4327\n",
            "Epoch 3/150\n",
            "\u001b[1m692/692\u001b[0m \u001b[32m━━━━━━━━━━━━━━━━━━━━\u001b[0m\u001b[37m\u001b[0m \u001b[1m20s\u001b[0m 28ms/step - accuracy: 0.0644 - loss: 5.2139\n",
            "Epoch 4/150\n",
            "\u001b[1m692/692\u001b[0m \u001b[32m━━━━━━━━━━━━━━━━━━━━\u001b[0m\u001b[37m\u001b[0m \u001b[1m21s\u001b[0m 31ms/step - accuracy: 0.0741 - loss: 4.9979\n",
            "Epoch 5/150\n",
            "\u001b[1m692/692\u001b[0m \u001b[32m━━━━━━━━━━━━━━━━━━━━\u001b[0m\u001b[37m\u001b[0m \u001b[1m40s\u001b[0m 30ms/step - accuracy: 0.0921 - loss: 4.7723\n",
            "Epoch 6/150\n",
            "\u001b[1m692/692\u001b[0m \u001b[32m━━━━━━━━━━━━━━━━━━━━\u001b[0m\u001b[37m\u001b[0m \u001b[1m40s\u001b[0m 28ms/step - accuracy: 0.1088 - loss: 4.5906\n",
            "Epoch 7/150\n",
            "\u001b[1m692/692\u001b[0m \u001b[32m━━━━━━━━━━━━━━━━━━━━\u001b[0m\u001b[37m\u001b[0m \u001b[1m22s\u001b[0m 30ms/step - accuracy: 0.1357 - loss: 4.3931\n",
            "Epoch 8/150\n",
            "\u001b[1m692/692\u001b[0m \u001b[32m━━━━━━━━━━━━━━━━━━━━\u001b[0m\u001b[37m\u001b[0m \u001b[1m41s\u001b[0m 31ms/step - accuracy: 0.1563 - loss: 4.1812\n",
            "Epoch 9/150\n",
            "\u001b[1m692/692\u001b[0m \u001b[32m━━━━━━━━━━━━━━━━━━━━\u001b[0m\u001b[37m\u001b[0m \u001b[1m41s\u001b[0m 31ms/step - accuracy: 0.1799 - loss: 4.0076\n",
            "Epoch 10/150\n",
            "\u001b[1m692/692\u001b[0m \u001b[32m━━━━━━━━━━━━━━━━━━━━\u001b[0m\u001b[37m\u001b[0m \u001b[1m42s\u001b[0m 32ms/step - accuracy: 0.2075 - loss: 3.8307\n",
            "Epoch 11/150\n",
            "\u001b[1m692/692\u001b[0m \u001b[32m━━━━━━━━━━━━━━━━━━━━\u001b[0m\u001b[37m\u001b[0m \u001b[1m19s\u001b[0m 28ms/step - accuracy: 0.2218 - loss: 3.7373\n",
            "Epoch 12/150\n",
            "\u001b[1m692/692\u001b[0m \u001b[32m━━━━━━━━━━━━━━━━━━━━\u001b[0m\u001b[37m\u001b[0m \u001b[1m22s\u001b[0m 30ms/step - accuracy: 0.2510 - loss: 3.5347\n",
            "Epoch 13/150\n",
            "\u001b[1m692/692\u001b[0m \u001b[32m━━━━━━━━━━━━━━━━━━━━\u001b[0m\u001b[37m\u001b[0m \u001b[1m40s\u001b[0m 28ms/step - accuracy: 0.2736 - loss: 3.3861\n",
            "Epoch 14/150\n",
            "\u001b[1m692/692\u001b[0m \u001b[32m━━━━━━━━━━━━━━━━━━━━\u001b[0m\u001b[37m\u001b[0m \u001b[1m22s\u001b[0m 31ms/step - accuracy: 0.2976 - loss: 3.2632\n",
            "Epoch 15/150\n",
            "\u001b[1m692/692\u001b[0m \u001b[32m━━━━━━━━━━━━━━━━━━━━\u001b[0m\u001b[37m\u001b[0m \u001b[1m41s\u001b[0m 31ms/step - accuracy: 0.3095 - loss: 3.1579\n",
            "Epoch 16/150\n",
            "\u001b[1m692/692\u001b[0m \u001b[32m━━━━━━━━━━━━━━━━━━━━\u001b[0m\u001b[37m\u001b[0m \u001b[1m41s\u001b[0m 31ms/step - accuracy: 0.3356 - loss: 3.0215\n",
            "Epoch 17/150\n",
            "\u001b[1m692/692\u001b[0m \u001b[32m━━━━━━━━━━━━━━━━━━━━\u001b[0m\u001b[37m\u001b[0m \u001b[1m20s\u001b[0m 28ms/step - accuracy: 0.3569 - loss: 2.9311\n",
            "Epoch 18/150\n",
            "\u001b[1m692/692\u001b[0m \u001b[32m━━━━━━━━━━━━━━━━━━━━\u001b[0m\u001b[37m\u001b[0m \u001b[1m23s\u001b[0m 31ms/step - accuracy: 0.3683 - loss: 2.8439\n",
            "Epoch 19/150\n",
            "\u001b[1m692/692\u001b[0m \u001b[32m━━━━━━━━━━━━━━━━━━━━\u001b[0m\u001b[37m\u001b[0m \u001b[1m41s\u001b[0m 31ms/step - accuracy: 0.3811 - loss: 2.7490\n",
            "Epoch 20/150\n",
            "\u001b[1m692/692\u001b[0m \u001b[32m━━━━━━━━━━━━━━━━━━━━\u001b[0m\u001b[37m\u001b[0m \u001b[1m42s\u001b[0m 32ms/step - accuracy: 0.4092 - loss: 2.6113\n",
            "Epoch 21/150\n",
            "\u001b[1m692/692\u001b[0m \u001b[32m━━━━━━━━━━━━━━━━━━━━\u001b[0m\u001b[37m\u001b[0m \u001b[1m20s\u001b[0m 29ms/step - accuracy: 0.4189 - loss: 2.5349\n",
            "Epoch 22/150\n",
            "\u001b[1m692/692\u001b[0m \u001b[32m━━━━━━━━━━━━━━━━━━━━\u001b[0m\u001b[37m\u001b[0m \u001b[1m22s\u001b[0m 31ms/step - accuracy: 0.4376 - loss: 2.4578\n",
            "Epoch 23/150\n",
            "\u001b[1m692/692\u001b[0m \u001b[32m━━━━━━━━━━━━━━━━━━━━\u001b[0m\u001b[37m\u001b[0m \u001b[1m20s\u001b[0m 29ms/step - accuracy: 0.4523 - loss: 2.3816\n",
            "Epoch 24/150\n",
            "\u001b[1m692/692\u001b[0m \u001b[32m━━━━━━━━━━━━━━━━━━━━\u001b[0m\u001b[37m\u001b[0m \u001b[1m22s\u001b[0m 31ms/step - accuracy: 0.4633 - loss: 2.3599\n",
            "Epoch 25/150\n",
            "\u001b[1m692/692\u001b[0m \u001b[32m━━━━━━━━━━━━━━━━━━━━\u001b[0m\u001b[37m\u001b[0m \u001b[1m20s\u001b[0m 29ms/step - accuracy: 0.4740 - loss: 2.2894\n",
            "Epoch 26/150\n",
            "\u001b[1m692/692\u001b[0m \u001b[32m━━━━━━━━━━━━━━━━━━━━\u001b[0m\u001b[37m\u001b[0m \u001b[1m22s\u001b[0m 31ms/step - accuracy: 0.4849 - loss: 2.2290\n",
            "Epoch 27/150\n",
            "\u001b[1m692/692\u001b[0m \u001b[32m━━━━━━━━━━━━━━━━━━━━\u001b[0m\u001b[37m\u001b[0m \u001b[1m20s\u001b[0m 28ms/step - accuracy: 0.5027 - loss: 2.1396\n",
            "Epoch 28/150\n",
            "\u001b[1m692/692\u001b[0m \u001b[32m━━━━━━━━━━━━━━━━━━━━\u001b[0m\u001b[37m\u001b[0m \u001b[1m21s\u001b[0m 30ms/step - accuracy: 0.5083 - loss: 2.1180\n",
            "Epoch 29/150\n",
            "\u001b[1m692/692\u001b[0m \u001b[32m━━━━━━━━━━━━━━━━━━━━\u001b[0m\u001b[37m\u001b[0m \u001b[1m19s\u001b[0m 28ms/step - accuracy: 0.5287 - loss: 2.0473\n",
            "Epoch 30/150\n",
            "\u001b[1m692/692\u001b[0m \u001b[32m━━━━━━━━━━━━━━━━━━━━\u001b[0m\u001b[37m\u001b[0m \u001b[1m21s\u001b[0m 31ms/step - accuracy: 0.5376 - loss: 1.9866\n",
            "Epoch 31/150\n",
            "\u001b[1m692/692\u001b[0m \u001b[32m━━━━━━━━━━━━━━━━━━━━\u001b[0m\u001b[37m\u001b[0m \u001b[1m19s\u001b[0m 28ms/step - accuracy: 0.5405 - loss: 1.9540\n",
            "Epoch 32/150\n",
            "\u001b[1m692/692\u001b[0m \u001b[32m━━━━━━━━━━━━━━━━━━━━\u001b[0m\u001b[37m\u001b[0m \u001b[1m22s\u001b[0m 31ms/step - accuracy: 0.5513 - loss: 1.8983\n",
            "Epoch 33/150\n",
            "\u001b[1m692/692\u001b[0m \u001b[32m━━━━━━━━━━━━━━━━━━━━\u001b[0m\u001b[37m\u001b[0m \u001b[1m41s\u001b[0m 30ms/step - accuracy: 0.5591 - loss: 1.8611\n",
            "Epoch 34/150\n",
            "\u001b[1m692/692\u001b[0m \u001b[32m━━━━━━━━━━━━━━━━━━━━\u001b[0m\u001b[37m\u001b[0m \u001b[1m42s\u001b[0m 32ms/step - accuracy: 0.5696 - loss: 1.8133\n",
            "Epoch 35/150\n",
            "\u001b[1m692/692\u001b[0m \u001b[32m━━━━━━━━━━━━━━━━━━━━\u001b[0m\u001b[37m\u001b[0m \u001b[1m20s\u001b[0m 29ms/step - accuracy: 0.5797 - loss: 1.7655\n",
            "Epoch 36/150\n",
            "\u001b[1m692/692\u001b[0m \u001b[32m━━━━━━━━━━━━━━━━━━━━\u001b[0m\u001b[37m\u001b[0m \u001b[1m21s\u001b[0m 31ms/step - accuracy: 0.5887 - loss: 1.7295\n",
            "Epoch 37/150\n",
            "\u001b[1m692/692\u001b[0m \u001b[32m━━━━━━━━━━━━━━━━━━━━\u001b[0m\u001b[37m\u001b[0m \u001b[1m40s\u001b[0m 30ms/step - accuracy: 0.5915 - loss: 1.7133\n",
            "Epoch 38/150\n",
            "\u001b[1m692/692\u001b[0m \u001b[32m━━━━━━━━━━━━━━━━━━━━\u001b[0m\u001b[37m\u001b[0m \u001b[1m40s\u001b[0m 29ms/step - accuracy: 0.5986 - loss: 1.6835\n",
            "Epoch 39/150\n",
            "\u001b[1m692/692\u001b[0m \u001b[32m━━━━━━━━━━━━━━━━━━━━\u001b[0m\u001b[37m\u001b[0m \u001b[1m22s\u001b[0m 32ms/step - accuracy: 0.6073 - loss: 1.6355\n",
            "Epoch 40/150\n",
            "\u001b[1m692/692\u001b[0m \u001b[32m━━━━━━━━━━━━━━━━━━━━\u001b[0m\u001b[37m\u001b[0m \u001b[1m41s\u001b[0m 32ms/step - accuracy: 0.6186 - loss: 1.6014\n",
            "Epoch 41/150\n",
            "\u001b[1m692/692\u001b[0m \u001b[32m━━━━━━━━━━━━━━━━━━━━\u001b[0m\u001b[37m\u001b[0m \u001b[1m40s\u001b[0m 31ms/step - accuracy: 0.6234 - loss: 1.5727\n",
            "Epoch 42/150\n",
            "\u001b[1m692/692\u001b[0m \u001b[32m━━━━━━━━━━━━━━━━━━━━\u001b[0m\u001b[37m\u001b[0m \u001b[1m20s\u001b[0m 29ms/step - accuracy: 0.6237 - loss: 1.5570\n",
            "Epoch 43/150\n",
            "\u001b[1m692/692\u001b[0m \u001b[32m━━━━━━━━━━━━━━━━━━━━\u001b[0m\u001b[37m\u001b[0m \u001b[1m21s\u001b[0m 31ms/step - accuracy: 0.6405 - loss: 1.4920\n",
            "Epoch 44/150\n",
            "\u001b[1m692/692\u001b[0m \u001b[32m━━━━━━━━━━━━━━━━━━━━\u001b[0m\u001b[37m\u001b[0m \u001b[1m41s\u001b[0m 31ms/step - accuracy: 0.6398 - loss: 1.4826\n",
            "Epoch 45/150\n",
            "\u001b[1m692/692\u001b[0m \u001b[32m━━━━━━━━━━━━━━━━━━━━\u001b[0m\u001b[37m\u001b[0m \u001b[1m20s\u001b[0m 29ms/step - accuracy: 0.6483 - loss: 1.4693\n",
            "Epoch 46/150\n",
            "\u001b[1m692/692\u001b[0m \u001b[32m━━━━━━━━━━━━━━━━━━━━\u001b[0m\u001b[37m\u001b[0m \u001b[1m22s\u001b[0m 31ms/step - accuracy: 0.6557 - loss: 1.4247\n",
            "Epoch 47/150\n",
            "\u001b[1m692/692\u001b[0m \u001b[32m━━━━━━━━━━━━━━━━━━━━\u001b[0m\u001b[37m\u001b[0m \u001b[1m41s\u001b[0m 30ms/step - accuracy: 0.6582 - loss: 1.3919\n",
            "Epoch 48/150\n",
            "\u001b[1m692/692\u001b[0m \u001b[32m━━━━━━━━━━━━━━━━━━━━\u001b[0m\u001b[37m\u001b[0m \u001b[1m41s\u001b[0m 31ms/step - accuracy: 0.6652 - loss: 1.3724\n",
            "Epoch 49/150\n",
            "\u001b[1m692/692\u001b[0m \u001b[32m━━━━━━━━━━━━━━━━━━━━\u001b[0m\u001b[37m\u001b[0m \u001b[1m40s\u001b[0m 29ms/step - accuracy: 0.6741 - loss: 1.3314\n",
            "Epoch 50/150\n",
            "\u001b[1m692/692\u001b[0m \u001b[32m━━━━━━━━━━━━━━━━━━━━\u001b[0m\u001b[37m\u001b[0m \u001b[1m22s\u001b[0m 30ms/step - accuracy: 0.6694 - loss: 1.3419\n",
            "Epoch 51/150\n",
            "\u001b[1m692/692\u001b[0m \u001b[32m━━━━━━━━━━━━━━━━━━━━\u001b[0m\u001b[37m\u001b[0m \u001b[1m42s\u001b[0m 31ms/step - accuracy: 0.6860 - loss: 1.2814\n",
            "Epoch 52/150\n",
            "\u001b[1m692/692\u001b[0m \u001b[32m━━━━━━━━━━━━━━━━━━━━\u001b[0m\u001b[37m\u001b[0m \u001b[1m41s\u001b[0m 31ms/step - accuracy: 0.6868 - loss: 1.2726\n",
            "Epoch 53/150\n",
            "\u001b[1m692/692\u001b[0m \u001b[32m━━━━━━━━━━━━━━━━━━━━\u001b[0m\u001b[37m\u001b[0m \u001b[1m41s\u001b[0m 31ms/step - accuracy: 0.6866 - loss: 1.2784\n",
            "Epoch 54/150\n",
            "\u001b[1m692/692\u001b[0m \u001b[32m━━━━━━━━━━━━━━━━━━━━\u001b[0m\u001b[37m\u001b[0m \u001b[1m41s\u001b[0m 31ms/step - accuracy: 0.6966 - loss: 1.2318\n",
            "Epoch 55/150\n",
            "\u001b[1m692/692\u001b[0m \u001b[32m━━━━━━━━━━━━━━━━━━━━\u001b[0m\u001b[37m\u001b[0m \u001b[1m40s\u001b[0m 29ms/step - accuracy: 0.6969 - loss: 1.2166\n",
            "Epoch 56/150\n",
            "\u001b[1m692/692\u001b[0m \u001b[32m━━━━━━━━━━━━━━━━━━━━\u001b[0m\u001b[37m\u001b[0m \u001b[1m21s\u001b[0m 31ms/step - accuracy: 0.7068 - loss: 1.1821\n",
            "Epoch 57/150\n",
            "\u001b[1m692/692\u001b[0m \u001b[32m━━━━━━━━━━━━━━━━━━━━\u001b[0m\u001b[37m\u001b[0m \u001b[1m42s\u001b[0m 32ms/step - accuracy: 0.7103 - loss: 1.1682\n",
            "Epoch 58/150\n",
            "\u001b[1m692/692\u001b[0m \u001b[32m━━━━━━━━━━━━━━━━━━━━\u001b[0m\u001b[37m\u001b[0m \u001b[1m40s\u001b[0m 31ms/step - accuracy: 0.7107 - loss: 1.1615\n",
            "Epoch 59/150\n",
            "\u001b[1m692/692\u001b[0m \u001b[32m━━━━━━━━━━━━━━━━━━━━\u001b[0m\u001b[37m\u001b[0m \u001b[1m42s\u001b[0m 32ms/step - accuracy: 0.7151 - loss: 1.1473\n",
            "Epoch 60/150\n",
            "\u001b[1m692/692\u001b[0m \u001b[32m━━━━━━━━━━━━━━━━━━━━\u001b[0m\u001b[37m\u001b[0m \u001b[1m21s\u001b[0m 30ms/step - accuracy: 0.7194 - loss: 1.1298\n",
            "Epoch 61/150\n",
            "\u001b[1m692/692\u001b[0m \u001b[32m━━━━━━━━━━━━━━━━━━━━\u001b[0m\u001b[37m\u001b[0m \u001b[1m22s\u001b[0m 31ms/step - accuracy: 0.7201 - loss: 1.1139\n",
            "Epoch 62/150\n",
            "\u001b[1m692/692\u001b[0m \u001b[32m━━━━━━━━━━━━━━━━━━━━\u001b[0m\u001b[37m\u001b[0m \u001b[1m42s\u001b[0m 32ms/step - accuracy: 0.7258 - loss: 1.0929\n",
            "Epoch 63/150\n",
            "\u001b[1m692/692\u001b[0m \u001b[32m━━━━━━━━━━━━━━━━━━━━\u001b[0m\u001b[37m\u001b[0m \u001b[1m40s\u001b[0m 31ms/step - accuracy: 0.7283 - loss: 1.0959\n",
            "Epoch 64/150\n",
            "\u001b[1m692/692\u001b[0m \u001b[32m━━━━━━━━━━━━━━━━━━━━\u001b[0m\u001b[37m\u001b[0m \u001b[1m39s\u001b[0m 29ms/step - accuracy: 0.7326 - loss: 1.0677\n",
            "Epoch 65/150\n",
            "\u001b[1m692/692\u001b[0m \u001b[32m━━━━━━━━━━━━━━━━━━━━\u001b[0m\u001b[37m\u001b[0m \u001b[1m22s\u001b[0m 32ms/step - accuracy: 0.7398 - loss: 1.0398\n",
            "Epoch 66/150\n",
            "\u001b[1m692/692\u001b[0m \u001b[32m━━━━━━━━━━━━━━━━━━━━\u001b[0m\u001b[37m\u001b[0m \u001b[1m20s\u001b[0m 29ms/step - accuracy: 0.7324 - loss: 1.0572\n",
            "Epoch 67/150\n",
            "\u001b[1m692/692\u001b[0m \u001b[32m━━━━━━━━━━━━━━━━━━━━\u001b[0m\u001b[37m\u001b[0m \u001b[1m23s\u001b[0m 32ms/step - accuracy: 0.7480 - loss: 1.0023\n",
            "Epoch 68/150\n",
            "\u001b[1m692/692\u001b[0m \u001b[32m━━━━━━━━━━━━━━━━━━━━\u001b[0m\u001b[37m\u001b[0m \u001b[1m21s\u001b[0m 30ms/step - accuracy: 0.7426 - loss: 1.0113\n",
            "Epoch 69/150\n",
            "\u001b[1m692/692\u001b[0m \u001b[32m━━━━━━━━━━━━━━━━━━━━\u001b[0m\u001b[37m\u001b[0m \u001b[1m22s\u001b[0m 32ms/step - accuracy: 0.7500 - loss: 0.9889\n",
            "Epoch 70/150\n",
            "\u001b[1m692/692\u001b[0m \u001b[32m━━━━━━━━━━━━━━━━━━━━\u001b[0m\u001b[37m\u001b[0m \u001b[1m41s\u001b[0m 33ms/step - accuracy: 0.7484 - loss: 0.9798\n",
            "Epoch 71/150\n",
            "\u001b[1m692/692\u001b[0m \u001b[32m━━━━━━━━━━━━━━━━━━━━\u001b[0m\u001b[37m\u001b[0m \u001b[1m40s\u001b[0m 32ms/step - accuracy: 0.7531 - loss: 0.9748\n",
            "Epoch 72/150\n",
            "\u001b[1m692/692\u001b[0m \u001b[32m━━━━━━━━━━━━━━━━━━━━\u001b[0m\u001b[37m\u001b[0m \u001b[1m20s\u001b[0m 29ms/step - accuracy: 0.7544 - loss: 0.9526\n",
            "Epoch 73/150\n",
            "\u001b[1m692/692\u001b[0m \u001b[32m━━━━━━━━━━━━━━━━━━━━\u001b[0m\u001b[37m\u001b[0m \u001b[1m22s\u001b[0m 31ms/step - accuracy: 0.7677 - loss: 0.9110\n",
            "Epoch 74/150\n",
            "\u001b[1m692/692\u001b[0m \u001b[32m━━━━━━━━━━━━━━━━━━━━\u001b[0m\u001b[37m\u001b[0m \u001b[1m40s\u001b[0m 31ms/step - accuracy: 0.7648 - loss: 0.9226\n",
            "Epoch 75/150\n",
            "\u001b[1m692/692\u001b[0m \u001b[32m━━━━━━━━━━━━━━━━━━━━\u001b[0m\u001b[37m\u001b[0m \u001b[1m20s\u001b[0m 29ms/step - accuracy: 0.7606 - loss: 0.9244\n",
            "Epoch 76/150\n",
            "\u001b[1m692/692\u001b[0m \u001b[32m━━━━━━━━━━━━━━━━━━━━\u001b[0m\u001b[37m\u001b[0m \u001b[1m22s\u001b[0m 31ms/step - accuracy: 0.7710 - loss: 0.8890\n",
            "Epoch 77/150\n",
            "\u001b[1m692/692\u001b[0m \u001b[32m━━━━━━━━━━━━━━━━━━━━\u001b[0m\u001b[37m\u001b[0m \u001b[1m20s\u001b[0m 29ms/step - accuracy: 0.7665 - loss: 0.9106\n",
            "Epoch 78/150\n",
            "\u001b[1m692/692\u001b[0m \u001b[32m━━━━━━━━━━━━━━━━━━━━\u001b[0m\u001b[37m\u001b[0m \u001b[1m21s\u001b[0m 31ms/step - accuracy: 0.7781 - loss: 0.8791\n",
            "Epoch 79/150\n",
            "\u001b[1m692/692\u001b[0m \u001b[32m━━━━━━━━━━━━━━━━━━━━\u001b[0m\u001b[37m\u001b[0m \u001b[1m20s\u001b[0m 29ms/step - accuracy: 0.7727 - loss: 0.8814\n",
            "Epoch 80/150\n",
            "\u001b[1m692/692\u001b[0m \u001b[32m━━━━━━━━━━━━━━━━━━━━\u001b[0m\u001b[37m\u001b[0m \u001b[1m22s\u001b[0m 31ms/step - accuracy: 0.7761 - loss: 0.8670\n",
            "Epoch 81/150\n",
            "\u001b[1m692/692\u001b[0m \u001b[32m━━━━━━━━━━━━━━━━━━━━\u001b[0m\u001b[37m\u001b[0m \u001b[1m40s\u001b[0m 30ms/step - accuracy: 0.7711 - loss: 0.8715\n",
            "Epoch 82/150\n",
            "\u001b[1m692/692\u001b[0m \u001b[32m━━━━━━━━━━━━━━━━━━━━\u001b[0m\u001b[37m\u001b[0m \u001b[1m20s\u001b[0m 29ms/step - accuracy: 0.7769 - loss: 0.8494\n",
            "Epoch 83/150\n",
            "\u001b[1m692/692\u001b[0m \u001b[32m━━━━━━━━━━━━━━━━━━━━\u001b[0m\u001b[37m\u001b[0m \u001b[1m22s\u001b[0m 31ms/step - accuracy: 0.7755 - loss: 0.8613\n",
            "Epoch 84/150\n",
            "\u001b[1m692/692\u001b[0m \u001b[32m━━━━━━━━━━━━━━━━━━━━\u001b[0m\u001b[37m\u001b[0m \u001b[1m21s\u001b[0m 30ms/step - accuracy: 0.7821 - loss: 0.8249\n",
            "Epoch 85/150\n",
            "\u001b[1m692/692\u001b[0m \u001b[32m━━━━━━━━━━━━━━━━━━━━\u001b[0m\u001b[37m\u001b[0m \u001b[1m42s\u001b[0m 31ms/step - accuracy: 0.7851 - loss: 0.8171\n",
            "Epoch 86/150\n",
            "\u001b[1m692/692\u001b[0m \u001b[32m━━━━━━━━━━━━━━━━━━━━\u001b[0m\u001b[37m\u001b[0m \u001b[1m41s\u001b[0m 32ms/step - accuracy: 0.7853 - loss: 0.8153\n",
            "Epoch 87/150\n",
            "\u001b[1m692/692\u001b[0m \u001b[32m━━━━━━━━━━━━━━━━━━━━\u001b[0m\u001b[37m\u001b[0m \u001b[1m20s\u001b[0m 29ms/step - accuracy: 0.7894 - loss: 0.8009\n",
            "Epoch 88/150\n",
            "\u001b[1m692/692\u001b[0m \u001b[32m━━━━━━━━━━━━━━━━━━━━\u001b[0m\u001b[37m\u001b[0m \u001b[1m22s\u001b[0m 31ms/step - accuracy: 0.7921 - loss: 0.7896\n",
            "Epoch 89/150\n",
            "\u001b[1m692/692\u001b[0m \u001b[32m━━━━━━━━━━━━━━━━━━━━\u001b[0m\u001b[37m\u001b[0m \u001b[1m41s\u001b[0m 31ms/step - accuracy: 0.7882 - loss: 0.8094\n",
            "Epoch 90/150\n",
            "\u001b[1m692/692\u001b[0m \u001b[32m━━━━━━━━━━━━━━━━━━━━\u001b[0m\u001b[37m\u001b[0m \u001b[1m41s\u001b[0m 31ms/step - accuracy: 0.7896 - loss: 0.7950\n",
            "Epoch 91/150\n",
            "\u001b[1m692/692\u001b[0m \u001b[32m━━━━━━━━━━━━━━━━━━━━\u001b[0m\u001b[37m\u001b[0m \u001b[1m20s\u001b[0m 28ms/step - accuracy: 0.7925 - loss: 0.7886\n",
            "Epoch 92/150\n",
            "\u001b[1m692/692\u001b[0m \u001b[32m━━━━━━━━━━━━━━━━━━━━\u001b[0m\u001b[37m\u001b[0m \u001b[1m23s\u001b[0m 32ms/step - accuracy: 0.7924 - loss: 0.7774\n",
            "Epoch 93/150\n",
            "\u001b[1m692/692\u001b[0m \u001b[32m━━━━━━━━━━━━━━━━━━━━\u001b[0m\u001b[37m\u001b[0m \u001b[1m40s\u001b[0m 30ms/step - accuracy: 0.7942 - loss: 0.7773\n",
            "Epoch 94/150\n",
            "\u001b[1m692/692\u001b[0m \u001b[32m━━━━━━━━━━━━━━━━━━━━\u001b[0m\u001b[37m\u001b[0m \u001b[1m20s\u001b[0m 30ms/step - accuracy: 0.7880 - loss: 0.7944\n",
            "Epoch 95/150\n",
            "\u001b[1m692/692\u001b[0m \u001b[32m━━━━━━━━━━━━━━━━━━━━\u001b[0m\u001b[37m\u001b[0m \u001b[1m23s\u001b[0m 33ms/step - accuracy: 0.7943 - loss: 0.7747\n",
            "Epoch 96/150\n",
            "\u001b[1m692/692\u001b[0m \u001b[32m━━━━━━━━━━━━━━━━━━━━\u001b[0m\u001b[37m\u001b[0m \u001b[1m20s\u001b[0m 29ms/step - accuracy: 0.8007 - loss: 0.7559\n",
            "Epoch 97/150\n",
            "\u001b[1m692/692\u001b[0m \u001b[32m━━━━━━━━━━━━━━━━━━━━\u001b[0m\u001b[37m\u001b[0m \u001b[1m22s\u001b[0m 32ms/step - accuracy: 0.8049 - loss: 0.7344\n",
            "Epoch 98/150\n",
            "\u001b[1m692/692\u001b[0m \u001b[32m━━━━━━━━━━━━━━━━━━━━\u001b[0m\u001b[37m\u001b[0m \u001b[1m41s\u001b[0m 32ms/step - accuracy: 0.7978 - loss: 0.7582\n",
            "Epoch 99/150\n",
            "\u001b[1m692/692\u001b[0m \u001b[32m━━━━━━━━━━━━━━━━━━━━\u001b[0m\u001b[37m\u001b[0m \u001b[1m40s\u001b[0m 30ms/step - accuracy: 0.8089 - loss: 0.7247\n",
            "Epoch 100/150\n",
            "\u001b[1m692/692\u001b[0m \u001b[32m━━━━━━━━━━━━━━━━━━━━\u001b[0m\u001b[37m\u001b[0m \u001b[1m22s\u001b[0m 32ms/step - accuracy: 0.8026 - loss: 0.7338\n",
            "Epoch 101/150\n",
            "\u001b[1m692/692\u001b[0m \u001b[32m━━━━━━━━━━━━━━━━━━━━\u001b[0m\u001b[37m\u001b[0m \u001b[1m41s\u001b[0m 32ms/step - accuracy: 0.8054 - loss: 0.7215\n",
            "Epoch 102/150\n",
            "\u001b[1m692/692\u001b[0m \u001b[32m━━━━━━━━━━━━━━━━━━━━\u001b[0m\u001b[37m\u001b[0m \u001b[1m41s\u001b[0m 32ms/step - accuracy: 0.8093 - loss: 0.7179\n",
            "Epoch 103/150\n",
            "\u001b[1m692/692\u001b[0m \u001b[32m━━━━━━━━━━━━━━━━━━━━\u001b[0m\u001b[37m\u001b[0m \u001b[1m41s\u001b[0m 31ms/step - accuracy: 0.8055 - loss: 0.7251\n",
            "Epoch 104/150\n",
            "\u001b[1m692/692\u001b[0m \u001b[32m━━━━━━━━━━━━━━━━━━━━\u001b[0m\u001b[37m\u001b[0m \u001b[1m20s\u001b[0m 29ms/step - accuracy: 0.8049 - loss: 0.7317\n",
            "Epoch 105/150\n",
            "\u001b[1m692/692\u001b[0m \u001b[32m━━━━━━━━━━━━━━━━━━━━\u001b[0m\u001b[37m\u001b[0m \u001b[1m22s\u001b[0m 32ms/step - accuracy: 0.8026 - loss: 0.7236\n",
            "Epoch 106/150\n",
            "\u001b[1m692/692\u001b[0m \u001b[32m━━━━━━━━━━━━━━━━━━━━\u001b[0m\u001b[37m\u001b[0m \u001b[1m41s\u001b[0m 32ms/step - accuracy: 0.8060 - loss: 0.7162\n",
            "Epoch 107/150\n",
            "\u001b[1m692/692\u001b[0m \u001b[32m━━━━━━━━━━━━━━━━━━━━\u001b[0m\u001b[37m\u001b[0m \u001b[1m41s\u001b[0m 32ms/step - accuracy: 0.8086 - loss: 0.6953\n",
            "Epoch 108/150\n",
            "\u001b[1m692/692\u001b[0m \u001b[32m━━━━━━━━━━━━━━━━━━━━\u001b[0m\u001b[37m\u001b[0m \u001b[1m40s\u001b[0m 31ms/step - accuracy: 0.8074 - loss: 0.7060\n",
            "Epoch 109/150\n",
            "\u001b[1m692/692\u001b[0m \u001b[32m━━━━━━━━━━━━━━━━━━━━\u001b[0m\u001b[37m\u001b[0m \u001b[1m23s\u001b[0m 33ms/step - accuracy: 0.8094 - loss: 0.7075\n",
            "Epoch 110/150\n",
            "\u001b[1m692/692\u001b[0m \u001b[32m━━━━━━━━━━━━━━━━━━━━\u001b[0m\u001b[37m\u001b[0m \u001b[1m40s\u001b[0m 32ms/step - accuracy: 0.8144 - loss: 0.6781\n",
            "Epoch 111/150\n",
            "\u001b[1m692/692\u001b[0m \u001b[32m━━━━━━━━━━━━━━━━━━━━\u001b[0m\u001b[37m\u001b[0m \u001b[1m41s\u001b[0m 32ms/step - accuracy: 0.8078 - loss: 0.7124\n",
            "Epoch 112/150\n",
            "\u001b[1m692/692\u001b[0m \u001b[32m━━━━━━━━━━━━━━━━━━━━\u001b[0m\u001b[37m\u001b[0m \u001b[1m41s\u001b[0m 33ms/step - accuracy: 0.8126 - loss: 0.6914\n",
            "Epoch 113/150\n",
            "\u001b[1m692/692\u001b[0m \u001b[32m━━━━━━━━━━━━━━━━━━━━\u001b[0m\u001b[37m\u001b[0m \u001b[1m41s\u001b[0m 33ms/step - accuracy: 0.8088 - loss: 0.6945\n",
            "Epoch 114/150\n",
            "\u001b[1m692/692\u001b[0m \u001b[32m━━━━━━━━━━━━━━━━━━━━\u001b[0m\u001b[37m\u001b[0m \u001b[1m21s\u001b[0m 30ms/step - accuracy: 0.8152 - loss: 0.6768\n",
            "Epoch 115/150\n",
            "\u001b[1m692/692\u001b[0m \u001b[32m━━━━━━━━━━━━━━━━━━━━\u001b[0m\u001b[37m\u001b[0m \u001b[1m22s\u001b[0m 32ms/step - accuracy: 0.8187 - loss: 0.6638\n",
            "Epoch 116/150\n",
            "\u001b[1m692/692\u001b[0m \u001b[32m━━━━━━━━━━━━━━━━━━━━\u001b[0m\u001b[37m\u001b[0m \u001b[1m41s\u001b[0m 32ms/step - accuracy: 0.8156 - loss: 0.6731\n",
            "Epoch 117/150\n",
            "\u001b[1m692/692\u001b[0m \u001b[32m━━━━━━━━━━━━━━━━━━━━\u001b[0m\u001b[37m\u001b[0m \u001b[1m41s\u001b[0m 32ms/step - accuracy: 0.7995 - loss: 0.7261\n",
            "Epoch 118/150\n",
            "\u001b[1m692/692\u001b[0m \u001b[32m━━━━━━━━━━━━━━━━━━━━\u001b[0m\u001b[37m\u001b[0m \u001b[1m40s\u001b[0m 30ms/step - accuracy: 0.8151 - loss: 0.6718\n",
            "Epoch 119/150\n",
            "\u001b[1m692/692\u001b[0m \u001b[32m━━━━━━━━━━━━━━━━━━━━\u001b[0m\u001b[37m\u001b[0m \u001b[1m41s\u001b[0m 30ms/step - accuracy: 0.8179 - loss: 0.6610\n",
            "Epoch 120/150\n",
            "\u001b[1m692/692\u001b[0m \u001b[32m━━━━━━━━━━━━━━━━━━━━\u001b[0m\u001b[37m\u001b[0m \u001b[1m22s\u001b[0m 32ms/step - accuracy: 0.8184 - loss: 0.6583\n",
            "Epoch 121/150\n",
            "\u001b[1m692/692\u001b[0m \u001b[32m━━━━━━━━━━━━━━━━━━━━\u001b[0m\u001b[37m\u001b[0m \u001b[1m41s\u001b[0m 32ms/step - accuracy: 0.8167 - loss: 0.6560\n",
            "Epoch 122/150\n",
            "\u001b[1m692/692\u001b[0m \u001b[32m━━━━━━━━━━━━━━━━━━━━\u001b[0m\u001b[37m\u001b[0m \u001b[1m20s\u001b[0m 30ms/step - accuracy: 0.8152 - loss: 0.6589\n",
            "Epoch 123/150\n",
            "\u001b[1m692/692\u001b[0m \u001b[32m━━━━━━━━━━━━━━━━━━━━\u001b[0m\u001b[37m\u001b[0m \u001b[1m43s\u001b[0m 33ms/step - accuracy: 0.8213 - loss: 0.6460\n",
            "Epoch 124/150\n",
            "\u001b[1m692/692\u001b[0m \u001b[32m━━━━━━━━━━━━━━━━━━━━\u001b[0m\u001b[37m\u001b[0m \u001b[1m41s\u001b[0m 32ms/step - accuracy: 0.8169 - loss: 0.6557\n",
            "Epoch 125/150\n",
            "\u001b[1m692/692\u001b[0m \u001b[32m━━━━━━━━━━━━━━━━━━━━\u001b[0m\u001b[37m\u001b[0m \u001b[1m41s\u001b[0m 32ms/step - accuracy: 0.8252 - loss: 0.6404\n",
            "Epoch 126/150\n",
            "\u001b[1m692/692\u001b[0m \u001b[32m━━━━━━━━━━━━━━━━━━━━\u001b[0m\u001b[37m\u001b[0m \u001b[1m21s\u001b[0m 30ms/step - accuracy: 0.8170 - loss: 0.6442\n",
            "Epoch 127/150\n",
            "\u001b[1m692/692\u001b[0m \u001b[32m━━━━━━━━━━━━━━━━━━━━\u001b[0m\u001b[37m\u001b[0m \u001b[1m40s\u001b[0m 29ms/step - accuracy: 0.8218 - loss: 0.6432\n",
            "Epoch 128/150\n",
            "\u001b[1m692/692\u001b[0m \u001b[32m━━━━━━━━━━━━━━━━━━━━\u001b[0m\u001b[37m\u001b[0m \u001b[1m22s\u001b[0m 32ms/step - accuracy: 0.8156 - loss: 0.6632\n",
            "Epoch 129/150\n",
            "\u001b[1m692/692\u001b[0m \u001b[32m━━━━━━━━━━━━━━━━━━━━\u001b[0m\u001b[37m\u001b[0m \u001b[1m41s\u001b[0m 32ms/step - accuracy: 0.8153 - loss: 0.6499\n",
            "Epoch 130/150\n",
            "\u001b[1m692/692\u001b[0m \u001b[32m━━━━━━━━━━━━━━━━━━━━\u001b[0m\u001b[37m\u001b[0m \u001b[1m40s\u001b[0m 31ms/step - accuracy: 0.8252 - loss: 0.6286\n",
            "Epoch 131/150\n",
            "\u001b[1m692/692\u001b[0m \u001b[32m━━━━━━━━━━━━━━━━━━━━\u001b[0m\u001b[37m\u001b[0m \u001b[1m40s\u001b[0m 29ms/step - accuracy: 0.8245 - loss: 0.6302\n",
            "Epoch 132/150\n",
            "\u001b[1m692/692\u001b[0m \u001b[32m━━━━━━━━━━━━━━━━━━━━\u001b[0m\u001b[37m\u001b[0m \u001b[1m22s\u001b[0m 32ms/step - accuracy: 0.8263 - loss: 0.6221\n",
            "Epoch 133/150\n",
            "\u001b[1m692/692\u001b[0m \u001b[32m━━━━━━━━━━━━━━━━━━━━\u001b[0m\u001b[37m\u001b[0m \u001b[1m41s\u001b[0m 32ms/step - accuracy: 0.8199 - loss: 0.6392\n",
            "Epoch 134/150\n",
            "\u001b[1m692/692\u001b[0m \u001b[32m━━━━━━━━━━━━━━━━━━━━\u001b[0m\u001b[37m\u001b[0m \u001b[1m20s\u001b[0m 29ms/step - accuracy: 0.8211 - loss: 0.6306\n",
            "Epoch 135/150\n",
            "\u001b[1m692/692\u001b[0m \u001b[32m━━━━━━━━━━━━━━━━━━━━\u001b[0m\u001b[37m\u001b[0m \u001b[1m22s\u001b[0m 32ms/step - accuracy: 0.8243 - loss: 0.6216\n",
            "Epoch 136/150\n",
            "\u001b[1m692/692\u001b[0m \u001b[32m━━━━━━━━━━━━━━━━━━━━\u001b[0m\u001b[37m\u001b[0m \u001b[1m21s\u001b[0m 31ms/step - accuracy: 0.8257 - loss: 0.6246\n",
            "Epoch 137/150\n",
            "\u001b[1m692/692\u001b[0m \u001b[32m━━━━━━━━━━━━━━━━━━━━\u001b[0m\u001b[37m\u001b[0m \u001b[1m23s\u001b[0m 33ms/step - accuracy: 0.8248 - loss: 0.6328\n",
            "Epoch 138/150\n",
            "\u001b[1m692/692\u001b[0m \u001b[32m━━━━━━━━━━━━━━━━━━━━\u001b[0m\u001b[37m\u001b[0m \u001b[1m21s\u001b[0m 30ms/step - accuracy: 0.8238 - loss: 0.6314\n",
            "Epoch 139/150\n",
            "\u001b[1m692/692\u001b[0m \u001b[32m━━━━━━━━━━━━━━━━━━━━\u001b[0m\u001b[37m\u001b[0m \u001b[1m22s\u001b[0m 32ms/step - accuracy: 0.8234 - loss: 0.6179\n",
            "Epoch 140/150\n",
            "\u001b[1m692/692\u001b[0m \u001b[32m━━━━━━━━━━━━━━━━━━━━\u001b[0m\u001b[37m\u001b[0m \u001b[1m41s\u001b[0m 33ms/step - accuracy: 0.8295 - loss: 0.5998\n",
            "Epoch 141/150\n",
            "\u001b[1m692/692\u001b[0m \u001b[32m━━━━━━━━━━━━━━━━━━━━\u001b[0m\u001b[37m\u001b[0m \u001b[1m39s\u001b[0m 30ms/step - accuracy: 0.8275 - loss: 0.6142\n",
            "Epoch 142/150\n",
            "\u001b[1m692/692\u001b[0m \u001b[32m━━━━━━━━━━━━━━━━━━━━\u001b[0m\u001b[37m\u001b[0m \u001b[1m40s\u001b[0m 30ms/step - accuracy: 0.8304 - loss: 0.5972\n",
            "Epoch 143/150\n",
            "\u001b[1m692/692\u001b[0m \u001b[32m━━━━━━━━━━━━━━━━━━━━\u001b[0m\u001b[37m\u001b[0m \u001b[1m22s\u001b[0m 32ms/step - accuracy: 0.8251 - loss: 0.6174\n",
            "Epoch 144/150\n",
            "\u001b[1m692/692\u001b[0m \u001b[32m━━━━━━━━━━━━━━━━━━━━\u001b[0m\u001b[37m\u001b[0m \u001b[1m21s\u001b[0m 30ms/step - accuracy: 0.8225 - loss: 0.6285\n",
            "Epoch 145/150\n",
            "\u001b[1m692/692\u001b[0m \u001b[32m━━━━━━━━━━━━━━━━━━━━\u001b[0m\u001b[37m\u001b[0m \u001b[1m41s\u001b[0m 29ms/step - accuracy: 0.8264 - loss: 0.6050\n",
            "Epoch 146/150\n",
            "\u001b[1m692/692\u001b[0m \u001b[32m━━━━━━━━━━━━━━━━━━━━\u001b[0m\u001b[37m\u001b[0m \u001b[1m22s\u001b[0m 31ms/step - accuracy: 0.8241 - loss: 0.6226\n",
            "Epoch 147/150\n",
            "\u001b[1m692/692\u001b[0m \u001b[32m━━━━━━━━━━━━━━━━━━━━\u001b[0m\u001b[37m\u001b[0m \u001b[1m40s\u001b[0m 30ms/step - accuracy: 0.8246 - loss: 0.6212\n",
            "Epoch 148/150\n",
            "\u001b[1m692/692\u001b[0m \u001b[32m━━━━━━━━━━━━━━━━━━━━\u001b[0m\u001b[37m\u001b[0m \u001b[1m41s\u001b[0m 30ms/step - accuracy: 0.8322 - loss: 0.5747\n",
            "Epoch 149/150\n",
            "\u001b[1m692/692\u001b[0m \u001b[32m━━━━━━━━━━━━━━━━━━━━\u001b[0m\u001b[37m\u001b[0m \u001b[1m42s\u001b[0m 32ms/step - accuracy: 0.8270 - loss: 0.6088\n",
            "Epoch 150/150\n",
            "\u001b[1m692/692\u001b[0m \u001b[32m━━━━━━━━━━━━━━━━━━━━\u001b[0m\u001b[37m\u001b[0m \u001b[1m41s\u001b[0m 32ms/step - accuracy: 0.8241 - loss: 0.6101\n"
          ]
        },
        {
          "output_type": "execute_result",
          "data": {
            "text/plain": [
              "<keras.src.callbacks.history.History at 0x7fe71c82bd00>"
            ]
          },
          "metadata": {},
          "execution_count": 74
        }
      ],
      "source": [
        "model.fit(X,y,batch_size=32,epochs=150)"
      ]
    },
    {
      "cell_type": "markdown",
      "id": "66e41f61",
      "metadata": {
        "id": "66e41f61"
      },
      "source": [
        "### Text Generation"
      ]
    },
    {
      "cell_type": "code",
      "execution_count": 75,
      "id": "56f2d4f4",
      "metadata": {
        "id": "56f2d4f4"
      },
      "outputs": [],
      "source": [
        "text_lenght= 15 # 15 words per line\n",
        "\n",
        "def generate_text(input_text, no_lines):\n",
        "    general_text=[]\n",
        "    for i in range(no_lines):\n",
        "        text=[]\n",
        "        for _ in range(text_lenght):\n",
        "            encoded=tokenizer.texts_to_sequences([input_text])\n",
        "            encoded=pad_sequences(encoded,maxlen=seq_length,padding=\"pre\")\n",
        "            y_pred=np.argmax(model.predict(encoded),axis=-1) # it will generate a word index, loop up into dictionary containing word index\n",
        "\n",
        "            predicted_word=\"\"\n",
        "            for word,index in tokenizer.word_index.items():\n",
        "                if index==y_pred:\n",
        "                    predicted_word=word\n",
        "                    break\n",
        "\n",
        "            input_text=input_text +' '+ predicted_word\n",
        "            text.append(predicted_word)\n",
        "\n",
        "        input_text=text[-1]\n",
        "        text=\" \".join(text) # input text will be the last word of first created line\n",
        "        general_text.append(text)\n",
        "\n",
        "    return general_text"
      ]
    },
    {
      "cell_type": "code",
      "execution_count": 76,
      "id": "5c9bada2",
      "metadata": {
        "colab": {
          "base_uri": "https://localhost:8080/"
        },
        "id": "5c9bada2",
        "outputId": "e143dc5f-92d3-40c8-825e-03f89ed2069f"
      },
      "outputs": [
        {
          "output_type": "stream",
          "name": "stdout",
          "text": [
            "\u001b[1m1/1\u001b[0m \u001b[32m━━━━━━━━━━━━━━━━━━━━\u001b[0m\u001b[37m\u001b[0m \u001b[1m1s\u001b[0m 788ms/step\n",
            "\u001b[1m1/1\u001b[0m \u001b[32m━━━━━━━━━━━━━━━━━━━━\u001b[0m\u001b[37m\u001b[0m \u001b[1m0s\u001b[0m 30ms/step\n",
            "\u001b[1m1/1\u001b[0m \u001b[32m━━━━━━━━━━━━━━━━━━━━\u001b[0m\u001b[37m\u001b[0m \u001b[1m0s\u001b[0m 33ms/step\n",
            "\u001b[1m1/1\u001b[0m \u001b[32m━━━━━━━━━━━━━━━━━━━━\u001b[0m\u001b[37m\u001b[0m \u001b[1m0s\u001b[0m 31ms/step\n",
            "\u001b[1m1/1\u001b[0m \u001b[32m━━━━━━━━━━━━━━━━━━━━\u001b[0m\u001b[37m\u001b[0m \u001b[1m0s\u001b[0m 34ms/step\n",
            "\u001b[1m1/1\u001b[0m \u001b[32m━━━━━━━━━━━━━━━━━━━━\u001b[0m\u001b[37m\u001b[0m \u001b[1m0s\u001b[0m 34ms/step\n",
            "\u001b[1m1/1\u001b[0m \u001b[32m━━━━━━━━━━━━━━━━━━━━\u001b[0m\u001b[37m\u001b[0m \u001b[1m0s\u001b[0m 33ms/step\n",
            "\u001b[1m1/1\u001b[0m \u001b[32m━━━━━━━━━━━━━━━━━━━━\u001b[0m\u001b[37m\u001b[0m \u001b[1m0s\u001b[0m 34ms/step\n",
            "\u001b[1m1/1\u001b[0m \u001b[32m━━━━━━━━━━━━━━━━━━━━\u001b[0m\u001b[37m\u001b[0m \u001b[1m0s\u001b[0m 28ms/step\n",
            "\u001b[1m1/1\u001b[0m \u001b[32m━━━━━━━━━━━━━━━━━━━━\u001b[0m\u001b[37m\u001b[0m \u001b[1m0s\u001b[0m 35ms/step\n",
            "\u001b[1m1/1\u001b[0m \u001b[32m━━━━━━━━━━━━━━━━━━━━\u001b[0m\u001b[37m\u001b[0m \u001b[1m0s\u001b[0m 31ms/step\n",
            "\u001b[1m1/1\u001b[0m \u001b[32m━━━━━━━━━━━━━━━━━━━━\u001b[0m\u001b[37m\u001b[0m \u001b[1m0s\u001b[0m 34ms/step\n",
            "\u001b[1m1/1\u001b[0m \u001b[32m━━━━━━━━━━━━━━━━━━━━\u001b[0m\u001b[37m\u001b[0m \u001b[1m0s\u001b[0m 37ms/step\n",
            "\u001b[1m1/1\u001b[0m \u001b[32m━━━━━━━━━━━━━━━━━━━━\u001b[0m\u001b[37m\u001b[0m \u001b[1m0s\u001b[0m 32ms/step\n",
            "\u001b[1m1/1\u001b[0m \u001b[32m━━━━━━━━━━━━━━━━━━━━\u001b[0m\u001b[37m\u001b[0m \u001b[1m0s\u001b[0m 34ms/step\n",
            "\u001b[1m1/1\u001b[0m \u001b[32m━━━━━━━━━━━━━━━━━━━━\u001b[0m\u001b[37m\u001b[0m \u001b[1m0s\u001b[0m 32ms/step\n",
            "\u001b[1m1/1\u001b[0m \u001b[32m━━━━━━━━━━━━━━━━━━━━\u001b[0m\u001b[37m\u001b[0m \u001b[1m0s\u001b[0m 39ms/step\n",
            "\u001b[1m1/1\u001b[0m \u001b[32m━━━━━━━━━━━━━━━━━━━━\u001b[0m\u001b[37m\u001b[0m \u001b[1m0s\u001b[0m 32ms/step\n",
            "\u001b[1m1/1\u001b[0m \u001b[32m━━━━━━━━━━━━━━━━━━━━\u001b[0m\u001b[37m\u001b[0m \u001b[1m0s\u001b[0m 29ms/step\n",
            "\u001b[1m1/1\u001b[0m \u001b[32m━━━━━━━━━━━━━━━━━━━━\u001b[0m\u001b[37m\u001b[0m \u001b[1m0s\u001b[0m 34ms/step\n",
            "\u001b[1m1/1\u001b[0m \u001b[32m━━━━━━━━━━━━━━━━━━━━\u001b[0m\u001b[37m\u001b[0m \u001b[1m0s\u001b[0m 32ms/step\n",
            "\u001b[1m1/1\u001b[0m \u001b[32m━━━━━━━━━━━━━━━━━━━━\u001b[0m\u001b[37m\u001b[0m \u001b[1m0s\u001b[0m 31ms/step\n",
            "\u001b[1m1/1\u001b[0m \u001b[32m━━━━━━━━━━━━━━━━━━━━\u001b[0m\u001b[37m\u001b[0m \u001b[1m0s\u001b[0m 30ms/step\n",
            "\u001b[1m1/1\u001b[0m \u001b[32m━━━━━━━━━━━━━━━━━━━━\u001b[0m\u001b[37m\u001b[0m \u001b[1m0s\u001b[0m 29ms/step\n",
            "\u001b[1m1/1\u001b[0m \u001b[32m━━━━━━━━━━━━━━━━━━━━\u001b[0m\u001b[37m\u001b[0m \u001b[1m0s\u001b[0m 31ms/step\n",
            "\u001b[1m1/1\u001b[0m \u001b[32m━━━━━━━━━━━━━━━━━━━━\u001b[0m\u001b[37m\u001b[0m \u001b[1m0s\u001b[0m 30ms/step\n",
            "\u001b[1m1/1\u001b[0m \u001b[32m━━━━━━━━━━━━━━━━━━━━\u001b[0m\u001b[37m\u001b[0m \u001b[1m0s\u001b[0m 34ms/step\n",
            "\u001b[1m1/1\u001b[0m \u001b[32m━━━━━━━━━━━━━━━━━━━━\u001b[0m\u001b[37m\u001b[0m \u001b[1m0s\u001b[0m 34ms/step\n",
            "\u001b[1m1/1\u001b[0m \u001b[32m━━━━━━━━━━━━━━━━━━━━\u001b[0m\u001b[37m\u001b[0m \u001b[1m0s\u001b[0m 31ms/step\n",
            "\u001b[1m1/1\u001b[0m \u001b[32m━━━━━━━━━━━━━━━━━━━━\u001b[0m\u001b[37m\u001b[0m \u001b[1m0s\u001b[0m 36ms/step\n",
            "\u001b[1m1/1\u001b[0m \u001b[32m━━━━━━━━━━━━━━━━━━━━\u001b[0m\u001b[37m\u001b[0m \u001b[1m0s\u001b[0m 34ms/step\n",
            "\u001b[1m1/1\u001b[0m \u001b[32m━━━━━━━━━━━━━━━━━━━━\u001b[0m\u001b[37m\u001b[0m \u001b[1m0s\u001b[0m 38ms/step\n",
            "\u001b[1m1/1\u001b[0m \u001b[32m━━━━━━━━━━━━━━━━━━━━\u001b[0m\u001b[37m\u001b[0m \u001b[1m0s\u001b[0m 32ms/step\n",
            "\u001b[1m1/1\u001b[0m \u001b[32m━━━━━━━━━━━━━━━━━━━━\u001b[0m\u001b[37m\u001b[0m \u001b[1m0s\u001b[0m 33ms/step\n",
            "\u001b[1m1/1\u001b[0m \u001b[32m━━━━━━━━━━━━━━━━━━━━\u001b[0m\u001b[37m\u001b[0m \u001b[1m0s\u001b[0m 34ms/step\n",
            "\u001b[1m1/1\u001b[0m \u001b[32m━━━━━━━━━━━━━━━━━━━━\u001b[0m\u001b[37m\u001b[0m \u001b[1m0s\u001b[0m 37ms/step\n",
            "\u001b[1m1/1\u001b[0m \u001b[32m━━━━━━━━━━━━━━━━━━━━\u001b[0m\u001b[37m\u001b[0m \u001b[1m0s\u001b[0m 32ms/step\n",
            "\u001b[1m1/1\u001b[0m \u001b[32m━━━━━━━━━━━━━━━━━━━━\u001b[0m\u001b[37m\u001b[0m \u001b[1m0s\u001b[0m 31ms/step\n",
            "\u001b[1m1/1\u001b[0m \u001b[32m━━━━━━━━━━━━━━━━━━━━\u001b[0m\u001b[37m\u001b[0m \u001b[1m0s\u001b[0m 31ms/step\n",
            "\u001b[1m1/1\u001b[0m \u001b[32m━━━━━━━━━━━━━━━━━━━━\u001b[0m\u001b[37m\u001b[0m \u001b[1m0s\u001b[0m 31ms/step\n",
            "\u001b[1m1/1\u001b[0m \u001b[32m━━━━━━━━━━━━━━━━━━━━\u001b[0m\u001b[37m\u001b[0m \u001b[1m0s\u001b[0m 33ms/step\n",
            "\u001b[1m1/1\u001b[0m \u001b[32m━━━━━━━━━━━━━━━━━━━━\u001b[0m\u001b[37m\u001b[0m \u001b[1m0s\u001b[0m 32ms/step\n",
            "\u001b[1m1/1\u001b[0m \u001b[32m━━━━━━━━━━━━━━━━━━━━\u001b[0m\u001b[37m\u001b[0m \u001b[1m0s\u001b[0m 31ms/step\n",
            "\u001b[1m1/1\u001b[0m \u001b[32m━━━━━━━━━━━━━━━━━━━━\u001b[0m\u001b[37m\u001b[0m \u001b[1m0s\u001b[0m 34ms/step\n",
            "\u001b[1m1/1\u001b[0m \u001b[32m━━━━━━━━━━━━━━━━━━━━\u001b[0m\u001b[37m\u001b[0m \u001b[1m0s\u001b[0m 33ms/step\n",
            "\u001b[1m1/1\u001b[0m \u001b[32m━━━━━━━━━━━━━━━━━━━━\u001b[0m\u001b[37m\u001b[0m \u001b[1m0s\u001b[0m 37ms/step\n",
            "\u001b[1m1/1\u001b[0m \u001b[32m━━━━━━━━━━━━━━━━━━━━\u001b[0m\u001b[37m\u001b[0m \u001b[1m0s\u001b[0m 30ms/step\n",
            "\u001b[1m1/1\u001b[0m \u001b[32m━━━━━━━━━━━━━━━━━━━━\u001b[0m\u001b[37m\u001b[0m \u001b[1m0s\u001b[0m 32ms/step\n",
            "\u001b[1m1/1\u001b[0m \u001b[32m━━━━━━━━━━━━━━━━━━━━\u001b[0m\u001b[37m\u001b[0m \u001b[1m0s\u001b[0m 35ms/step\n",
            "\u001b[1m1/1\u001b[0m \u001b[32m━━━━━━━━━━━━━━━━━━━━\u001b[0m\u001b[37m\u001b[0m \u001b[1m0s\u001b[0m 31ms/step\n",
            "\u001b[1m1/1\u001b[0m \u001b[32m━━━━━━━━━━━━━━━━━━━━\u001b[0m\u001b[37m\u001b[0m \u001b[1m0s\u001b[0m 31ms/step\n",
            "\u001b[1m1/1\u001b[0m \u001b[32m━━━━━━━━━━━━━━━━━━━━\u001b[0m\u001b[37m\u001b[0m \u001b[1m0s\u001b[0m 31ms/step\n",
            "\u001b[1m1/1\u001b[0m \u001b[32m━━━━━━━━━━━━━━━━━━━━\u001b[0m\u001b[37m\u001b[0m \u001b[1m0s\u001b[0m 28ms/step\n",
            "\u001b[1m1/1\u001b[0m \u001b[32m━━━━━━━━━━━━━━━━━━━━\u001b[0m\u001b[37m\u001b[0m \u001b[1m0s\u001b[0m 30ms/step\n",
            "\u001b[1m1/1\u001b[0m \u001b[32m━━━━━━━━━━━━━━━━━━━━\u001b[0m\u001b[37m\u001b[0m \u001b[1m0s\u001b[0m 34ms/step\n",
            "\u001b[1m1/1\u001b[0m \u001b[32m━━━━━━━━━━━━━━━━━━━━\u001b[0m\u001b[37m\u001b[0m \u001b[1m0s\u001b[0m 39ms/step\n",
            "\u001b[1m1/1\u001b[0m \u001b[32m━━━━━━━━━━━━━━━━━━━━\u001b[0m\u001b[37m\u001b[0m \u001b[1m0s\u001b[0m 34ms/step\n",
            "\u001b[1m1/1\u001b[0m \u001b[32m━━━━━━━━━━━━━━━━━━━━\u001b[0m\u001b[37m\u001b[0m \u001b[1m0s\u001b[0m 29ms/step\n",
            "\u001b[1m1/1\u001b[0m \u001b[32m━━━━━━━━━━━━━━━━━━━━\u001b[0m\u001b[37m\u001b[0m \u001b[1m0s\u001b[0m 29ms/step\n",
            "\u001b[1m1/1\u001b[0m \u001b[32m━━━━━━━━━━━━━━━━━━━━\u001b[0m\u001b[37m\u001b[0m \u001b[1m0s\u001b[0m 34ms/step\n",
            "\u001b[1m1/1\u001b[0m \u001b[32m━━━━━━━━━━━━━━━━━━━━\u001b[0m\u001b[37m\u001b[0m \u001b[1m0s\u001b[0m 31ms/step\n",
            "\u001b[1m1/1\u001b[0m \u001b[32m━━━━━━━━━━━━━━━━━━━━\u001b[0m\u001b[37m\u001b[0m \u001b[1m0s\u001b[0m 31ms/step\n",
            "\u001b[1m1/1\u001b[0m \u001b[32m━━━━━━━━━━━━━━━━━━━━\u001b[0m\u001b[37m\u001b[0m \u001b[1m0s\u001b[0m 33ms/step\n",
            "\u001b[1m1/1\u001b[0m \u001b[32m━━━━━━━━━━━━━━━━━━━━\u001b[0m\u001b[37m\u001b[0m \u001b[1m0s\u001b[0m 31ms/step\n",
            "\u001b[1m1/1\u001b[0m \u001b[32m━━━━━━━━━━━━━━━━━━━━\u001b[0m\u001b[37m\u001b[0m \u001b[1m0s\u001b[0m 34ms/step\n",
            "\u001b[1m1/1\u001b[0m \u001b[32m━━━━━━━━━━━━━━━━━━━━\u001b[0m\u001b[37m\u001b[0m \u001b[1m0s\u001b[0m 40ms/step\n",
            "\u001b[1m1/1\u001b[0m \u001b[32m━━━━━━━━━━━━━━━━━━━━\u001b[0m\u001b[37m\u001b[0m \u001b[1m0s\u001b[0m 34ms/step\n",
            "\u001b[1m1/1\u001b[0m \u001b[32m━━━━━━━━━━━━━━━━━━━━\u001b[0m\u001b[37m\u001b[0m \u001b[1m0s\u001b[0m 31ms/step\n",
            "\u001b[1m1/1\u001b[0m \u001b[32m━━━━━━━━━━━━━━━━━━━━\u001b[0m\u001b[37m\u001b[0m \u001b[1m0s\u001b[0m 31ms/step\n",
            "\u001b[1m1/1\u001b[0m \u001b[32m━━━━━━━━━━━━━━━━━━━━\u001b[0m\u001b[37m\u001b[0m \u001b[1m0s\u001b[0m 32ms/step\n",
            "\u001b[1m1/1\u001b[0m \u001b[32m━━━━━━━━━━━━━━━━━━━━\u001b[0m\u001b[37m\u001b[0m \u001b[1m0s\u001b[0m 34ms/step\n",
            "\u001b[1m1/1\u001b[0m \u001b[32m━━━━━━━━━━━━━━━━━━━━\u001b[0m\u001b[37m\u001b[0m \u001b[1m0s\u001b[0m 32ms/step\n",
            "\u001b[1m1/1\u001b[0m \u001b[32m━━━━━━━━━━━━━━━━━━━━\u001b[0m\u001b[37m\u001b[0m \u001b[1m0s\u001b[0m 30ms/step\n",
            "\u001b[1m1/1\u001b[0m \u001b[32m━━━━━━━━━━━━━━━━━━━━\u001b[0m\u001b[37m\u001b[0m \u001b[1m0s\u001b[0m 33ms/step\n",
            "\u001b[1m1/1\u001b[0m \u001b[32m━━━━━━━━━━━━━━━━━━━━\u001b[0m\u001b[37m\u001b[0m \u001b[1m0s\u001b[0m 42ms/step\n",
            "\u001b[1m1/1\u001b[0m \u001b[32m━━━━━━━━━━━━━━━━━━━━\u001b[0m\u001b[37m\u001b[0m \u001b[1m0s\u001b[0m 32ms/step\n",
            "\u001b[1m1/1\u001b[0m \u001b[32m━━━━━━━━━━━━━━━━━━━━\u001b[0m\u001b[37m\u001b[0m \u001b[1m0s\u001b[0m 30ms/step\n",
            "\u001b[1m1/1\u001b[0m \u001b[32m━━━━━━━━━━━━━━━━━━━━\u001b[0m\u001b[37m\u001b[0m \u001b[1m0s\u001b[0m 29ms/step\n",
            "\u001b[1m1/1\u001b[0m \u001b[32m━━━━━━━━━━━━━━━━━━━━\u001b[0m\u001b[37m\u001b[0m \u001b[1m0s\u001b[0m 31ms/step\n",
            "\u001b[1m1/1\u001b[0m \u001b[32m━━━━━━━━━━━━━━━━━━━━\u001b[0m\u001b[37m\u001b[0m \u001b[1m0s\u001b[0m 33ms/step\n",
            "\u001b[1m1/1\u001b[0m \u001b[32m━━━━━━━━━━━━━━━━━━━━\u001b[0m\u001b[37m\u001b[0m \u001b[1m0s\u001b[0m 34ms/step\n",
            "\u001b[1m1/1\u001b[0m \u001b[32m━━━━━━━━━━━━━━━━━━━━\u001b[0m\u001b[37m\u001b[0m \u001b[1m0s\u001b[0m 39ms/step\n",
            "\u001b[1m1/1\u001b[0m \u001b[32m━━━━━━━━━━━━━━━━━━━━\u001b[0m\u001b[37m\u001b[0m \u001b[1m0s\u001b[0m 36ms/step\n",
            "\u001b[1m1/1\u001b[0m \u001b[32m━━━━━━━━━━━━━━━━━━━━\u001b[0m\u001b[37m\u001b[0m \u001b[1m0s\u001b[0m 30ms/step\n",
            "\u001b[1m1/1\u001b[0m \u001b[32m━━━━━━━━━━━━━━━━━━━━\u001b[0m\u001b[37m\u001b[0m \u001b[1m0s\u001b[0m 35ms/step\n",
            "\u001b[1m1/1\u001b[0m \u001b[32m━━━━━━━━━━━━━━━━━━━━\u001b[0m\u001b[37m\u001b[0m \u001b[1m0s\u001b[0m 32ms/step\n",
            "\u001b[1m1/1\u001b[0m \u001b[32m━━━━━━━━━━━━━━━━━━━━\u001b[0m\u001b[37m\u001b[0m \u001b[1m0s\u001b[0m 30ms/step\n",
            "\u001b[1m1/1\u001b[0m \u001b[32m━━━━━━━━━━━━━━━━━━━━\u001b[0m\u001b[37m\u001b[0m \u001b[1m0s\u001b[0m 32ms/step\n",
            "\u001b[1m1/1\u001b[0m \u001b[32m━━━━━━━━━━━━━━━━━━━━\u001b[0m\u001b[37m\u001b[0m \u001b[1m0s\u001b[0m 32ms/step\n",
            "\u001b[1m1/1\u001b[0m \u001b[32m━━━━━━━━━━━━━━━━━━━━\u001b[0m\u001b[37m\u001b[0m \u001b[1m0s\u001b[0m 31ms/step\n"
          ]
        },
        {
          "output_type": "execute_result",
          "data": {
            "text/plain": [
              "[\"is crazy love me say where you take to get there's all i'd see under\",\n",
              " \"me right journey it's again keep the change so yeah it be more when when\",\n",
              " \"you sometimes say i don't know they can didn't never take to day now of\",\n",
              " \"all the girls i've ever known it's you it's you you're my favorite is my\",\n",
              " \"mama don't like you and she likes when your side up though turning your latin\",\n",
              " 'for me the finer the can that the favorite my favorite my favorite my wind']"
            ]
          },
          "metadata": {},
          "execution_count": 76
        }
      ],
      "source": [
        "input_text=\"Away\"\n",
        "text_produced=generate_text(input_text,6)\n",
        "text_produced"
      ]
    },
    {
      "cell_type": "code",
      "execution_count": 77,
      "id": "28b0d05e",
      "metadata": {
        "colab": {
          "base_uri": "https://localhost:8080/"
        },
        "id": "28b0d05e",
        "outputId": "a93b9598-99da-41b2-ff02-55352dbadbbc"
      },
      "outputs": [
        {
          "output_type": "stream",
          "name": "stdout",
          "text": [
            "\u001b[1m1/1\u001b[0m \u001b[32m━━━━━━━━━━━━━━━━━━━━\u001b[0m\u001b[37m\u001b[0m \u001b[1m0s\u001b[0m 33ms/step\n",
            "\u001b[1m1/1\u001b[0m \u001b[32m━━━━━━━━━━━━━━━━━━━━\u001b[0m\u001b[37m\u001b[0m \u001b[1m0s\u001b[0m 32ms/step\n",
            "\u001b[1m1/1\u001b[0m \u001b[32m━━━━━━━━━━━━━━━━━━━━\u001b[0m\u001b[37m\u001b[0m \u001b[1m0s\u001b[0m 29ms/step\n",
            "\u001b[1m1/1\u001b[0m \u001b[32m━━━━━━━━━━━━━━━━━━━━\u001b[0m\u001b[37m\u001b[0m \u001b[1m0s\u001b[0m 31ms/step\n",
            "\u001b[1m1/1\u001b[0m \u001b[32m━━━━━━━━━━━━━━━━━━━━\u001b[0m\u001b[37m\u001b[0m \u001b[1m0s\u001b[0m 29ms/step\n",
            "\u001b[1m1/1\u001b[0m \u001b[32m━━━━━━━━━━━━━━━━━━━━\u001b[0m\u001b[37m\u001b[0m \u001b[1m0s\u001b[0m 48ms/step\n",
            "\u001b[1m1/1\u001b[0m \u001b[32m━━━━━━━━━━━━━━━━━━━━\u001b[0m\u001b[37m\u001b[0m \u001b[1m0s\u001b[0m 30ms/step\n",
            "\u001b[1m1/1\u001b[0m \u001b[32m━━━━━━━━━━━━━━━━━━━━\u001b[0m\u001b[37m\u001b[0m \u001b[1m0s\u001b[0m 30ms/step\n",
            "\u001b[1m1/1\u001b[0m \u001b[32m━━━━━━━━━━━━━━━━━━━━\u001b[0m\u001b[37m\u001b[0m \u001b[1m0s\u001b[0m 30ms/step\n",
            "\u001b[1m1/1\u001b[0m \u001b[32m━━━━━━━━━━━━━━━━━━━━\u001b[0m\u001b[37m\u001b[0m \u001b[1m0s\u001b[0m 32ms/step\n",
            "\u001b[1m1/1\u001b[0m \u001b[32m━━━━━━━━━━━━━━━━━━━━\u001b[0m\u001b[37m\u001b[0m \u001b[1m0s\u001b[0m 32ms/step\n",
            "\u001b[1m1/1\u001b[0m \u001b[32m━━━━━━━━━━━━━━━━━━━━\u001b[0m\u001b[37m\u001b[0m \u001b[1m0s\u001b[0m 30ms/step\n",
            "\u001b[1m1/1\u001b[0m \u001b[32m━━━━━━━━━━━━━━━━━━━━\u001b[0m\u001b[37m\u001b[0m \u001b[1m0s\u001b[0m 51ms/step\n",
            "\u001b[1m1/1\u001b[0m \u001b[32m━━━━━━━━━━━━━━━━━━━━\u001b[0m\u001b[37m\u001b[0m \u001b[1m0s\u001b[0m 30ms/step\n",
            "\u001b[1m1/1\u001b[0m \u001b[32m━━━━━━━━━━━━━━━━━━━━\u001b[0m\u001b[37m\u001b[0m \u001b[1m0s\u001b[0m 41ms/step\n",
            "\u001b[1m1/1\u001b[0m \u001b[32m━━━━━━━━━━━━━━━━━━━━\u001b[0m\u001b[37m\u001b[0m \u001b[1m0s\u001b[0m 36ms/step\n",
            "\u001b[1m1/1\u001b[0m \u001b[32m━━━━━━━━━━━━━━━━━━━━\u001b[0m\u001b[37m\u001b[0m \u001b[1m0s\u001b[0m 32ms/step\n",
            "\u001b[1m1/1\u001b[0m \u001b[32m━━━━━━━━━━━━━━━━━━━━\u001b[0m\u001b[37m\u001b[0m \u001b[1m0s\u001b[0m 31ms/step\n",
            "\u001b[1m1/1\u001b[0m \u001b[32m━━━━━━━━━━━━━━━━━━━━\u001b[0m\u001b[37m\u001b[0m \u001b[1m0s\u001b[0m 32ms/step\n",
            "\u001b[1m1/1\u001b[0m \u001b[32m━━━━━━━━━━━━━━━━━━━━\u001b[0m\u001b[37m\u001b[0m \u001b[1m0s\u001b[0m 38ms/step\n",
            "\u001b[1m1/1\u001b[0m \u001b[32m━━━━━━━━━━━━━━━━━━━━\u001b[0m\u001b[37m\u001b[0m \u001b[1m0s\u001b[0m 33ms/step\n",
            "\u001b[1m1/1\u001b[0m \u001b[32m━━━━━━━━━━━━━━━━━━━━\u001b[0m\u001b[37m\u001b[0m \u001b[1m0s\u001b[0m 30ms/step\n",
            "\u001b[1m1/1\u001b[0m \u001b[32m━━━━━━━━━━━━━━━━━━━━\u001b[0m\u001b[37m\u001b[0m \u001b[1m0s\u001b[0m 31ms/step\n",
            "\u001b[1m1/1\u001b[0m \u001b[32m━━━━━━━━━━━━━━━━━━━━\u001b[0m\u001b[37m\u001b[0m \u001b[1m0s\u001b[0m 34ms/step\n",
            "\u001b[1m1/1\u001b[0m \u001b[32m━━━━━━━━━━━━━━━━━━━━\u001b[0m\u001b[37m\u001b[0m \u001b[1m0s\u001b[0m 40ms/step\n",
            "\u001b[1m1/1\u001b[0m \u001b[32m━━━━━━━━━━━━━━━━━━━━\u001b[0m\u001b[37m\u001b[0m \u001b[1m0s\u001b[0m 32ms/step\n",
            "\u001b[1m1/1\u001b[0m \u001b[32m━━━━━━━━━━━━━━━━━━━━\u001b[0m\u001b[37m\u001b[0m \u001b[1m0s\u001b[0m 30ms/step\n",
            "\u001b[1m1/1\u001b[0m \u001b[32m━━━━━━━━━━━━━━━━━━━━\u001b[0m\u001b[37m\u001b[0m \u001b[1m0s\u001b[0m 33ms/step\n",
            "\u001b[1m1/1\u001b[0m \u001b[32m━━━━━━━━━━━━━━━━━━━━\u001b[0m\u001b[37m\u001b[0m \u001b[1m0s\u001b[0m 33ms/step\n",
            "\u001b[1m1/1\u001b[0m \u001b[32m━━━━━━━━━━━━━━━━━━━━\u001b[0m\u001b[37m\u001b[0m \u001b[1m0s\u001b[0m 31ms/step\n",
            "\u001b[1m1/1\u001b[0m \u001b[32m━━━━━━━━━━━━━━━━━━━━\u001b[0m\u001b[37m\u001b[0m \u001b[1m0s\u001b[0m 51ms/step\n",
            "\u001b[1m1/1\u001b[0m \u001b[32m━━━━━━━━━━━━━━━━━━━━\u001b[0m\u001b[37m\u001b[0m \u001b[1m0s\u001b[0m 44ms/step\n",
            "\u001b[1m1/1\u001b[0m \u001b[32m━━━━━━━━━━━━━━━━━━━━\u001b[0m\u001b[37m\u001b[0m \u001b[1m0s\u001b[0m 64ms/step\n",
            "\u001b[1m1/1\u001b[0m \u001b[32m━━━━━━━━━━━━━━━━━━━━\u001b[0m\u001b[37m\u001b[0m \u001b[1m0s\u001b[0m 75ms/step\n",
            "\u001b[1m1/1\u001b[0m \u001b[32m━━━━━━━━━━━━━━━━━━━━\u001b[0m\u001b[37m\u001b[0m \u001b[1m0s\u001b[0m 43ms/step\n",
            "\u001b[1m1/1\u001b[0m \u001b[32m━━━━━━━━━━━━━━━━━━━━\u001b[0m\u001b[37m\u001b[0m \u001b[1m0s\u001b[0m 45ms/step\n",
            "\u001b[1m1/1\u001b[0m \u001b[32m━━━━━━━━━━━━━━━━━━━━\u001b[0m\u001b[37m\u001b[0m \u001b[1m0s\u001b[0m 41ms/step\n",
            "\u001b[1m1/1\u001b[0m \u001b[32m━━━━━━━━━━━━━━━━━━━━\u001b[0m\u001b[37m\u001b[0m \u001b[1m0s\u001b[0m 42ms/step\n",
            "\u001b[1m1/1\u001b[0m \u001b[32m━━━━━━━━━━━━━━━━━━━━\u001b[0m\u001b[37m\u001b[0m \u001b[1m0s\u001b[0m 44ms/step\n",
            "\u001b[1m1/1\u001b[0m \u001b[32m━━━━━━━━━━━━━━━━━━━━\u001b[0m\u001b[37m\u001b[0m \u001b[1m0s\u001b[0m 130ms/step\n",
            "\u001b[1m1/1\u001b[0m \u001b[32m━━━━━━━━━━━━━━━━━━━━\u001b[0m\u001b[37m\u001b[0m \u001b[1m0s\u001b[0m 61ms/step\n",
            "\u001b[1m1/1\u001b[0m \u001b[32m━━━━━━━━━━━━━━━━━━━━\u001b[0m\u001b[37m\u001b[0m \u001b[1m0s\u001b[0m 46ms/step\n",
            "\u001b[1m1/1\u001b[0m \u001b[32m━━━━━━━━━━━━━━━━━━━━\u001b[0m\u001b[37m\u001b[0m \u001b[1m0s\u001b[0m 48ms/step\n",
            "\u001b[1m1/1\u001b[0m \u001b[32m━━━━━━━━━━━━━━━━━━━━\u001b[0m\u001b[37m\u001b[0m \u001b[1m0s\u001b[0m 47ms/step\n",
            "\u001b[1m1/1\u001b[0m \u001b[32m━━━━━━━━━━━━━━━━━━━━\u001b[0m\u001b[37m\u001b[0m \u001b[1m0s\u001b[0m 50ms/step\n",
            "\u001b[1m1/1\u001b[0m \u001b[32m━━━━━━━━━━━━━━━━━━━━\u001b[0m\u001b[37m\u001b[0m \u001b[1m0s\u001b[0m 45ms/step\n",
            "\u001b[1m1/1\u001b[0m \u001b[32m━━━━━━━━━━━━━━━━━━━━\u001b[0m\u001b[37m\u001b[0m \u001b[1m0s\u001b[0m 61ms/step\n",
            "\u001b[1m1/1\u001b[0m \u001b[32m━━━━━━━━━━━━━━━━━━━━\u001b[0m\u001b[37m\u001b[0m \u001b[1m0s\u001b[0m 43ms/step\n",
            "\u001b[1m1/1\u001b[0m \u001b[32m━━━━━━━━━━━━━━━━━━━━\u001b[0m\u001b[37m\u001b[0m \u001b[1m0s\u001b[0m 47ms/step\n",
            "\u001b[1m1/1\u001b[0m \u001b[32m━━━━━━━━━━━━━━━━━━━━\u001b[0m\u001b[37m\u001b[0m \u001b[1m0s\u001b[0m 46ms/step\n",
            "\u001b[1m1/1\u001b[0m \u001b[32m━━━━━━━━━━━━━━━━━━━━\u001b[0m\u001b[37m\u001b[0m \u001b[1m0s\u001b[0m 56ms/step\n",
            "\u001b[1m1/1\u001b[0m \u001b[32m━━━━━━━━━━━━━━━━━━━━\u001b[0m\u001b[37m\u001b[0m \u001b[1m0s\u001b[0m 32ms/step\n",
            "\u001b[1m1/1\u001b[0m \u001b[32m━━━━━━━━━━━━━━━━━━━━\u001b[0m\u001b[37m\u001b[0m \u001b[1m0s\u001b[0m 31ms/step\n",
            "\u001b[1m1/1\u001b[0m \u001b[32m━━━━━━━━━━━━━━━━━━━━\u001b[0m\u001b[37m\u001b[0m \u001b[1m0s\u001b[0m 33ms/step\n",
            "\u001b[1m1/1\u001b[0m \u001b[32m━━━━━━━━━━━━━━━━━━━━\u001b[0m\u001b[37m\u001b[0m \u001b[1m0s\u001b[0m 32ms/step\n",
            "\u001b[1m1/1\u001b[0m \u001b[32m━━━━━━━━━━━━━━━━━━━━\u001b[0m\u001b[37m\u001b[0m \u001b[1m0s\u001b[0m 29ms/step\n",
            "\u001b[1m1/1\u001b[0m \u001b[32m━━━━━━━━━━━━━━━━━━━━\u001b[0m\u001b[37m\u001b[0m \u001b[1m0s\u001b[0m 30ms/step\n",
            "\u001b[1m1/1\u001b[0m \u001b[32m━━━━━━━━━━━━━━━━━━━━\u001b[0m\u001b[37m\u001b[0m \u001b[1m0s\u001b[0m 32ms/step\n",
            "\u001b[1m1/1\u001b[0m \u001b[32m━━━━━━━━━━━━━━━━━━━━\u001b[0m\u001b[37m\u001b[0m \u001b[1m0s\u001b[0m 32ms/step\n",
            "\u001b[1m1/1\u001b[0m \u001b[32m━━━━━━━━━━━━━━━━━━━━\u001b[0m\u001b[37m\u001b[0m \u001b[1m0s\u001b[0m 34ms/step\n",
            "\u001b[1m1/1\u001b[0m \u001b[32m━━━━━━━━━━━━━━━━━━━━\u001b[0m\u001b[37m\u001b[0m \u001b[1m0s\u001b[0m 32ms/step\n",
            "\u001b[1m1/1\u001b[0m \u001b[32m━━━━━━━━━━━━━━━━━━━━\u001b[0m\u001b[37m\u001b[0m \u001b[1m0s\u001b[0m 44ms/step\n",
            "\u001b[1m1/1\u001b[0m \u001b[32m━━━━━━━━━━━━━━━━━━━━\u001b[0m\u001b[37m\u001b[0m \u001b[1m0s\u001b[0m 31ms/step\n",
            "\u001b[1m1/1\u001b[0m \u001b[32m━━━━━━━━━━━━━━━━━━━━\u001b[0m\u001b[37m\u001b[0m \u001b[1m0s\u001b[0m 31ms/step\n",
            "\u001b[1m1/1\u001b[0m \u001b[32m━━━━━━━━━━━━━━━━━━━━\u001b[0m\u001b[37m\u001b[0m \u001b[1m0s\u001b[0m 29ms/step\n",
            "\u001b[1m1/1\u001b[0m \u001b[32m━━━━━━━━━━━━━━━━━━━━\u001b[0m\u001b[37m\u001b[0m \u001b[1m0s\u001b[0m 29ms/step\n",
            "\u001b[1m1/1\u001b[0m \u001b[32m━━━━━━━━━━━━━━━━━━━━\u001b[0m\u001b[37m\u001b[0m \u001b[1m0s\u001b[0m 31ms/step\n",
            "\u001b[1m1/1\u001b[0m \u001b[32m━━━━━━━━━━━━━━━━━━━━\u001b[0m\u001b[37m\u001b[0m \u001b[1m0s\u001b[0m 31ms/step\n",
            "\u001b[1m1/1\u001b[0m \u001b[32m━━━━━━━━━━━━━━━━━━━━\u001b[0m\u001b[37m\u001b[0m \u001b[1m0s\u001b[0m 33ms/step\n",
            "\u001b[1m1/1\u001b[0m \u001b[32m━━━━━━━━━━━━━━━━━━━━\u001b[0m\u001b[37m\u001b[0m \u001b[1m0s\u001b[0m 31ms/step\n",
            "\u001b[1m1/1\u001b[0m \u001b[32m━━━━━━━━━━━━━━━━━━━━\u001b[0m\u001b[37m\u001b[0m \u001b[1m0s\u001b[0m 38ms/step\n",
            "\u001b[1m1/1\u001b[0m \u001b[32m━━━━━━━━━━━━━━━━━━━━\u001b[0m\u001b[37m\u001b[0m \u001b[1m0s\u001b[0m 38ms/step\n",
            "\u001b[1m1/1\u001b[0m \u001b[32m━━━━━━━━━━━━━━━━━━━━\u001b[0m\u001b[37m\u001b[0m \u001b[1m0s\u001b[0m 34ms/step\n",
            "\u001b[1m1/1\u001b[0m \u001b[32m━━━━━━━━━━━━━━━━━━━━\u001b[0m\u001b[37m\u001b[0m \u001b[1m0s\u001b[0m 31ms/step\n",
            "\u001b[1m1/1\u001b[0m \u001b[32m━━━━━━━━━━━━━━━━━━━━\u001b[0m\u001b[37m\u001b[0m \u001b[1m0s\u001b[0m 32ms/step\n",
            "\u001b[1m1/1\u001b[0m \u001b[32m━━━━━━━━━━━━━━━━━━━━\u001b[0m\u001b[37m\u001b[0m \u001b[1m0s\u001b[0m 34ms/step\n",
            "\u001b[1m1/1\u001b[0m \u001b[32m━━━━━━━━━━━━━━━━━━━━\u001b[0m\u001b[37m\u001b[0m \u001b[1m0s\u001b[0m 30ms/step\n",
            "\u001b[1m1/1\u001b[0m \u001b[32m━━━━━━━━━━━━━━━━━━━━\u001b[0m\u001b[37m\u001b[0m \u001b[1m0s\u001b[0m 29ms/step\n",
            "\u001b[1m1/1\u001b[0m \u001b[32m━━━━━━━━━━━━━━━━━━━━\u001b[0m\u001b[37m\u001b[0m \u001b[1m0s\u001b[0m 30ms/step\n",
            "\u001b[1m1/1\u001b[0m \u001b[32m━━━━━━━━━━━━━━━━━━━━\u001b[0m\u001b[37m\u001b[0m \u001b[1m0s\u001b[0m 29ms/step\n",
            "\u001b[1m1/1\u001b[0m \u001b[32m━━━━━━━━━━━━━━━━━━━━\u001b[0m\u001b[37m\u001b[0m \u001b[1m0s\u001b[0m 36ms/step\n",
            "\u001b[1m1/1\u001b[0m \u001b[32m━━━━━━━━━━━━━━━━━━━━\u001b[0m\u001b[37m\u001b[0m \u001b[1m0s\u001b[0m 30ms/step\n",
            "\u001b[1m1/1\u001b[0m \u001b[32m━━━━━━━━━━━━━━━━━━━━\u001b[0m\u001b[37m\u001b[0m \u001b[1m0s\u001b[0m 34ms/step\n",
            "\u001b[1m1/1\u001b[0m \u001b[32m━━━━━━━━━━━━━━━━━━━━\u001b[0m\u001b[37m\u001b[0m \u001b[1m0s\u001b[0m 33ms/step\n",
            "\u001b[1m1/1\u001b[0m \u001b[32m━━━━━━━━━━━━━━━━━━━━\u001b[0m\u001b[37m\u001b[0m \u001b[1m0s\u001b[0m 33ms/step\n",
            "\u001b[1m1/1\u001b[0m \u001b[32m━━━━━━━━━━━━━━━━━━━━\u001b[0m\u001b[37m\u001b[0m \u001b[1m0s\u001b[0m 29ms/step\n",
            "\u001b[1m1/1\u001b[0m \u001b[32m━━━━━━━━━━━━━━━━━━━━\u001b[0m\u001b[37m\u001b[0m \u001b[1m0s\u001b[0m 29ms/step\n",
            "\u001b[1m1/1\u001b[0m \u001b[32m━━━━━━━━━━━━━━━━━━━━\u001b[0m\u001b[37m\u001b[0m \u001b[1m0s\u001b[0m 30ms/step\n",
            "\u001b[1m1/1\u001b[0m \u001b[32m━━━━━━━━━━━━━━━━━━━━\u001b[0m\u001b[37m\u001b[0m \u001b[1m0s\u001b[0m 33ms/step\n",
            "\u001b[1m1/1\u001b[0m \u001b[32m━━━━━━━━━━━━━━━━━━━━\u001b[0m\u001b[37m\u001b[0m \u001b[1m0s\u001b[0m 30ms/step\n"
          ]
        },
        {
          "output_type": "execute_result",
          "data": {
            "text/plain": [
              "[\"any holding is you's your pain is breaking and all you're at standing nicki in\",\n",
              " \"every way i look then i are on it boy cause i'm going so was\",\n",
              " \"i a fool to let you break down my walls 'cause if you like the\",\n",
              " 'only thing that i got right now one day when the sky is my heart',\n",
              " \"your whole beats they ah stop get whoa baby i'm no keep you or so\",\n",
              " \"i'm staying with you till you want me to go girl you don't understand what\"]"
            ]
          },
          "metadata": {},
          "execution_count": 77
        }
      ],
      "source": [
        "input_text=\"When your not with me\"\n",
        "text_produced=generate_text(input_text,6)\n",
        "text_produced"
      ]
    }
  ],
  "metadata": {
    "kernelspec": {
      "display_name": "Python 3 (ipykernel)",
      "language": "python",
      "name": "python3"
    },
    "language_info": {
      "codemirror_mode": {
        "name": "ipython",
        "version": 3
      },
      "file_extension": ".py",
      "mimetype": "text/x-python",
      "name": "python",
      "nbconvert_exporter": "python",
      "pygments_lexer": "ipython3",
      "version": "3.8.10"
    },
    "colab": {
      "provenance": []
    }
  },
  "nbformat": 4,
  "nbformat_minor": 5
}